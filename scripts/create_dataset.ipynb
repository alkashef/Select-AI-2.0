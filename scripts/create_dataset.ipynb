{
 "cells": [
  {
   "cell_type": "code",
   "execution_count": 1,
   "id": "48eafc60-5214-4bba-a436-6baeb2862833",
   "metadata": {},
   "outputs": [
    {
     "name": "stdin",
     "output_type": "stream",
     "text": [
      "Password: ··········\n"
     ]
    },
    {
     "name": "stdout",
     "output_type": "stream",
     "text": [
      "Success: 'local' connection established and activated for user 'demo_user', with default database 'demo_user'\n"
     ]
    }
   ],
   "source": [
    "%connect local, hidewarnings=True"
   ]
  },
  {
   "cell_type": "code",
   "execution_count": 5,
   "id": "e9533275-d93b-4f91-8cf8-be7bd082d9d8",
   "metadata": {},
   "outputs": [
    {
     "data": {
      "text/plain": [
       "Success: 3 rows affected"
      ]
     },
     "execution_count": 5,
     "metadata": {
      "application/vnd.teradata.resultset": ""
     },
     "output_type": "execute_result"
    }
   ],
   "source": [
    "--TODO: Add if exists functionality in TD\n",
    "\n",
    "--Create 'raven' database\n",
    "CREATE DATABASE RAVEN AS \n",
    "    PERM = 2000000*(HASHAMP()+1),\n",
    "    SPOOL = 2000000*(HASHAMP()+1),\n",
    "    TEMPORARY = 2000000*(HASHAMP()+1);"
   ]
  },
  {
   "cell_type": "code",
   "execution_count": 7,
   "id": "55885bf0-cfcc-48ff-a1c5-b5e361c02b2d",
   "metadata": {},
   "outputs": [
    {
     "data": {
      "text/plain": [
       "Success: 0 rows affected"
      ]
     },
     "execution_count": 7,
     "metadata": {
      "application/vnd.teradata.resultset": ""
     },
     "output_type": "execute_result"
    }
   ],
   "source": [
    "-- Create branches table\n",
    "CREATE MULTISET TABLE raven.branches (\n",
    "    branch_id INTEGER,\n",
    "    branch_name VARCHAR(100),\n",
    "    governorate VARCHAR(50),\n",
    "    branch_address VARCHAR(255),\n",
    "    latitude DECIMAL(9,6),\n",
    "    longitude DECIMAL(9,6)\n",
    ") PRIMARY INDEX (branch_id);"
   ]
  },
  {
   "cell_type": "code",
   "execution_count": 8,
   "id": "1c18da5b-a452-4618-b4ee-f518133831dc",
   "metadata": {},
   "outputs": [
    {
     "data": {
      "text/plain": [
       "Success: 0 rows affected"
      ]
     },
     "execution_count": 8,
     "metadata": {
      "application/vnd.teradata.resultset": ""
     },
     "output_type": "execute_result"
    }
   ],
   "source": [
    "-- Create transactions table\n",
    "CREATE MULTISET TABLE raven.transactions (\n",
    "    transaction_id INTEGER,\n",
    "    transaction_currency CHAR(3),\n",
    "    transaction_type VARCHAR(50),\n",
    "    transaction_amount DECIMAL(18,2),\n",
    "    branch_id INTEGER\n",
    ") PRIMARY INDEX (transaction_id);"
   ]
  },
  {
   "cell_type": "code",
   "execution_count": 9,
   "id": "59889bad-15aa-4d70-80ee-4952d24775e1",
   "metadata": {},
   "outputs": [
    {
     "data": {
      "text/plain": [
       "Success: 1 rows affected"
      ]
     },
     "execution_count": 9,
     "metadata": {
      "application/vnd.teradata.resultset": ""
     },
     "output_type": "execute_result"
    },
    {
     "data": {
      "text/plain": [
       "Success: 1 rows affected"
      ]
     },
     "execution_count": 9,
     "metadata": {
      "application/vnd.teradata.resultset": ""
     },
     "output_type": "execute_result"
    },
    {
     "data": {
      "text/plain": [
       "Success: 1 rows affected"
      ]
     },
     "execution_count": 9,
     "metadata": {
      "application/vnd.teradata.resultset": ""
     },
     "output_type": "execute_result"
    },
    {
     "data": {
      "text/plain": [
       "Success: 1 rows affected"
      ]
     },
     "execution_count": 9,
     "metadata": {
      "application/vnd.teradata.resultset": ""
     },
     "output_type": "execute_result"
    },
    {
     "data": {
      "text/plain": [
       "Success: 1 rows affected"
      ]
     },
     "execution_count": 9,
     "metadata": {
      "application/vnd.teradata.resultset": ""
     },
     "output_type": "execute_result"
    },
    {
     "data": {
      "text/plain": [
       "Success: 1 rows affected"
      ]
     },
     "execution_count": 9,
     "metadata": {
      "application/vnd.teradata.resultset": ""
     },
     "output_type": "execute_result"
    },
    {
     "data": {
      "text/plain": [
       "Success: 1 rows affected"
      ]
     },
     "execution_count": 9,
     "metadata": {
      "application/vnd.teradata.resultset": ""
     },
     "output_type": "execute_result"
    },
    {
     "data": {
      "text/plain": [
       "Success: 1 rows affected"
      ]
     },
     "execution_count": 9,
     "metadata": {
      "application/vnd.teradata.resultset": ""
     },
     "output_type": "execute_result"
    },
    {
     "data": {
      "text/plain": [
       "Success: 1 rows affected"
      ]
     },
     "execution_count": 9,
     "metadata": {
      "application/vnd.teradata.resultset": ""
     },
     "output_type": "execute_result"
    },
    {
     "data": {
      "text/plain": [
       "Success: 1 rows affected"
      ]
     },
     "execution_count": 9,
     "metadata": {
      "application/vnd.teradata.resultset": ""
     },
     "output_type": "execute_result"
    },
    {
     "data": {
      "text/plain": [
       "Success: 1 rows affected"
      ]
     },
     "execution_count": 9,
     "metadata": {
      "application/vnd.teradata.resultset": ""
     },
     "output_type": "execute_result"
    },
    {
     "data": {
      "text/plain": [
       "Success: 1 rows affected"
      ]
     },
     "execution_count": 9,
     "metadata": {
      "application/vnd.teradata.resultset": ""
     },
     "output_type": "execute_result"
    },
    {
     "data": {
      "text/plain": [
       "Success: 1 rows affected"
      ]
     },
     "execution_count": 9,
     "metadata": {
      "application/vnd.teradata.resultset": ""
     },
     "output_type": "execute_result"
    },
    {
     "data": {
      "text/plain": [
       "Success: 1 rows affected"
      ]
     },
     "execution_count": 9,
     "metadata": {
      "application/vnd.teradata.resultset": ""
     },
     "output_type": "execute_result"
    },
    {
     "data": {
      "text/plain": [
       "Success: 1 rows affected"
      ]
     },
     "execution_count": 9,
     "metadata": {
      "application/vnd.teradata.resultset": ""
     },
     "output_type": "execute_result"
    },
    {
     "data": {
      "text/plain": [
       "Success: 1 rows affected"
      ]
     },
     "execution_count": 9,
     "metadata": {
      "application/vnd.teradata.resultset": ""
     },
     "output_type": "execute_result"
    },
    {
     "data": {
      "text/plain": [
       "Success: 1 rows affected"
      ]
     },
     "execution_count": 9,
     "metadata": {
      "application/vnd.teradata.resultset": ""
     },
     "output_type": "execute_result"
    },
    {
     "data": {
      "text/plain": [
       "Success: 1 rows affected"
      ]
     },
     "execution_count": 9,
     "metadata": {
      "application/vnd.teradata.resultset": ""
     },
     "output_type": "execute_result"
    },
    {
     "data": {
      "text/plain": [
       "Success: 1 rows affected"
      ]
     },
     "execution_count": 9,
     "metadata": {
      "application/vnd.teradata.resultset": ""
     },
     "output_type": "execute_result"
    },
    {
     "data": {
      "text/plain": [
       "Success: 1 rows affected"
      ]
     },
     "execution_count": 9,
     "metadata": {
      "application/vnd.teradata.resultset": ""
     },
     "output_type": "execute_result"
    },
    {
     "data": {
      "text/plain": [
       "Success: 1 rows affected"
      ]
     },
     "execution_count": 9,
     "metadata": {
      "application/vnd.teradata.resultset": ""
     },
     "output_type": "execute_result"
    },
    {
     "data": {
      "text/plain": [
       "Success: 1 rows affected"
      ]
     },
     "execution_count": 9,
     "metadata": {
      "application/vnd.teradata.resultset": ""
     },
     "output_type": "execute_result"
    },
    {
     "data": {
      "text/plain": [
       "Success: 1 rows affected"
      ]
     },
     "execution_count": 9,
     "metadata": {
      "application/vnd.teradata.resultset": ""
     },
     "output_type": "execute_result"
    },
    {
     "data": {
      "text/plain": [
       "Success: 1 rows affected"
      ]
     },
     "execution_count": 9,
     "metadata": {
      "application/vnd.teradata.resultset": ""
     },
     "output_type": "execute_result"
    },
    {
     "data": {
      "text/plain": [
       "Success: 1 rows affected"
      ]
     },
     "execution_count": 9,
     "metadata": {
      "application/vnd.teradata.resultset": ""
     },
     "output_type": "execute_result"
    },
    {
     "data": {
      "text/plain": [
       "Success: 1 rows affected"
      ]
     },
     "execution_count": 9,
     "metadata": {
      "application/vnd.teradata.resultset": ""
     },
     "output_type": "execute_result"
    },
    {
     "data": {
      "text/plain": [
       "Success: 1 rows affected"
      ]
     },
     "execution_count": 9,
     "metadata": {
      "application/vnd.teradata.resultset": ""
     },
     "output_type": "execute_result"
    },
    {
     "data": {
      "text/plain": [
       "Success: 1 rows affected"
      ]
     },
     "execution_count": 9,
     "metadata": {
      "application/vnd.teradata.resultset": ""
     },
     "output_type": "execute_result"
    },
    {
     "data": {
      "text/plain": [
       "Success: 1 rows affected"
      ]
     },
     "execution_count": 9,
     "metadata": {
      "application/vnd.teradata.resultset": ""
     },
     "output_type": "execute_result"
    },
    {
     "data": {
      "text/plain": [
       "Success: 1 rows affected"
      ]
     },
     "execution_count": 9,
     "metadata": {
      "application/vnd.teradata.resultset": ""
     },
     "output_type": "execute_result"
    },
    {
     "data": {
      "text/plain": [
       "Success: 1 rows affected"
      ]
     },
     "execution_count": 9,
     "metadata": {
      "application/vnd.teradata.resultset": ""
     },
     "output_type": "execute_result"
    },
    {
     "data": {
      "text/plain": [
       "Success: 1 rows affected"
      ]
     },
     "execution_count": 9,
     "metadata": {
      "application/vnd.teradata.resultset": ""
     },
     "output_type": "execute_result"
    },
    {
     "data": {
      "text/plain": [
       "Success: 1 rows affected"
      ]
     },
     "execution_count": 9,
     "metadata": {
      "application/vnd.teradata.resultset": ""
     },
     "output_type": "execute_result"
    },
    {
     "data": {
      "text/plain": [
       "Success: 1 rows affected"
      ]
     },
     "execution_count": 9,
     "metadata": {
      "application/vnd.teradata.resultset": ""
     },
     "output_type": "execute_result"
    },
    {
     "data": {
      "text/plain": [
       "Success: 1 rows affected"
      ]
     },
     "execution_count": 9,
     "metadata": {
      "application/vnd.teradata.resultset": ""
     },
     "output_type": "execute_result"
    },
    {
     "data": {
      "text/plain": [
       "Success: 1 rows affected"
      ]
     },
     "execution_count": 9,
     "metadata": {
      "application/vnd.teradata.resultset": ""
     },
     "output_type": "execute_result"
    },
    {
     "data": {
      "text/plain": [
       "Success: 1 rows affected"
      ]
     },
     "execution_count": 9,
     "metadata": {
      "application/vnd.teradata.resultset": ""
     },
     "output_type": "execute_result"
    },
    {
     "data": {
      "text/plain": [
       "Success: 1 rows affected"
      ]
     },
     "execution_count": 9,
     "metadata": {
      "application/vnd.teradata.resultset": ""
     },
     "output_type": "execute_result"
    },
    {
     "data": {
      "text/plain": [
       "Success: 1 rows affected"
      ]
     },
     "execution_count": 9,
     "metadata": {
      "application/vnd.teradata.resultset": ""
     },
     "output_type": "execute_result"
    },
    {
     "data": {
      "text/plain": [
       "Success: 1 rows affected"
      ]
     },
     "execution_count": 9,
     "metadata": {
      "application/vnd.teradata.resultset": ""
     },
     "output_type": "execute_result"
    },
    {
     "data": {
      "text/plain": [
       "Success: 1 rows affected"
      ]
     },
     "execution_count": 9,
     "metadata": {
      "application/vnd.teradata.resultset": ""
     },
     "output_type": "execute_result"
    },
    {
     "data": {
      "text/plain": [
       "Success: 1 rows affected"
      ]
     },
     "execution_count": 9,
     "metadata": {
      "application/vnd.teradata.resultset": ""
     },
     "output_type": "execute_result"
    },
    {
     "data": {
      "text/plain": [
       "Success: 1 rows affected"
      ]
     },
     "execution_count": 9,
     "metadata": {
      "application/vnd.teradata.resultset": ""
     },
     "output_type": "execute_result"
    },
    {
     "data": {
      "text/plain": [
       "Success: 1 rows affected"
      ]
     },
     "execution_count": 9,
     "metadata": {
      "application/vnd.teradata.resultset": ""
     },
     "output_type": "execute_result"
    },
    {
     "data": {
      "text/plain": [
       "Success: 1 rows affected"
      ]
     },
     "execution_count": 9,
     "metadata": {
      "application/vnd.teradata.resultset": ""
     },
     "output_type": "execute_result"
    },
    {
     "data": {
      "text/plain": [
       "Success: 1 rows affected"
      ]
     },
     "execution_count": 9,
     "metadata": {
      "application/vnd.teradata.resultset": ""
     },
     "output_type": "execute_result"
    },
    {
     "data": {
      "text/plain": [
       "Success: 1 rows affected"
      ]
     },
     "execution_count": 9,
     "metadata": {
      "application/vnd.teradata.resultset": ""
     },
     "output_type": "execute_result"
    },
    {
     "data": {
      "text/plain": [
       "Success: 1 rows affected"
      ]
     },
     "execution_count": 9,
     "metadata": {
      "application/vnd.teradata.resultset": ""
     },
     "output_type": "execute_result"
    },
    {
     "data": {
      "text/plain": [
       "Success: 1 rows affected"
      ]
     },
     "execution_count": 9,
     "metadata": {
      "application/vnd.teradata.resultset": ""
     },
     "output_type": "execute_result"
    },
    {
     "data": {
      "text/plain": [
       "Success: 1 rows affected"
      ]
     },
     "execution_count": 9,
     "metadata": {
      "application/vnd.teradata.resultset": ""
     },
     "output_type": "execute_result"
    },
    {
     "data": {
      "text/plain": [
       "Success: 1 rows affected"
      ]
     },
     "execution_count": 9,
     "metadata": {
      "application/vnd.teradata.resultset": ""
     },
     "output_type": "execute_result"
    },
    {
     "data": {
      "text/plain": [
       "Success: 1 rows affected"
      ]
     },
     "execution_count": 9,
     "metadata": {
      "application/vnd.teradata.resultset": ""
     },
     "output_type": "execute_result"
    },
    {
     "data": {
      "text/plain": [
       "Success: 1 rows affected"
      ]
     },
     "execution_count": 9,
     "metadata": {
      "application/vnd.teradata.resultset": ""
     },
     "output_type": "execute_result"
    },
    {
     "data": {
      "text/plain": [
       "Success: 1 rows affected"
      ]
     },
     "execution_count": 9,
     "metadata": {
      "application/vnd.teradata.resultset": ""
     },
     "output_type": "execute_result"
    },
    {
     "data": {
      "text/plain": [
       "Success: 1 rows affected"
      ]
     },
     "execution_count": 9,
     "metadata": {
      "application/vnd.teradata.resultset": ""
     },
     "output_type": "execute_result"
    },
    {
     "data": {
      "text/plain": [
       "Success: 1 rows affected"
      ]
     },
     "execution_count": 9,
     "metadata": {
      "application/vnd.teradata.resultset": ""
     },
     "output_type": "execute_result"
    },
    {
     "data": {
      "text/plain": [
       "Success: 1 rows affected"
      ]
     },
     "execution_count": 9,
     "metadata": {
      "application/vnd.teradata.resultset": ""
     },
     "output_type": "execute_result"
    },
    {
     "data": {
      "text/plain": [
       "Success: 1 rows affected"
      ]
     },
     "execution_count": 9,
     "metadata": {
      "application/vnd.teradata.resultset": ""
     },
     "output_type": "execute_result"
    },
    {
     "data": {
      "text/plain": [
       "Success: 1 rows affected"
      ]
     },
     "execution_count": 9,
     "metadata": {
      "application/vnd.teradata.resultset": ""
     },
     "output_type": "execute_result"
    },
    {
     "data": {
      "text/plain": [
       "Success: 1 rows affected"
      ]
     },
     "execution_count": 9,
     "metadata": {
      "application/vnd.teradata.resultset": ""
     },
     "output_type": "execute_result"
    },
    {
     "data": {
      "text/plain": [
       "Success: 1 rows affected"
      ]
     },
     "execution_count": 9,
     "metadata": {
      "application/vnd.teradata.resultset": ""
     },
     "output_type": "execute_result"
    },
    {
     "data": {
      "text/plain": [
       "Success: 1 rows affected"
      ]
     },
     "execution_count": 9,
     "metadata": {
      "application/vnd.teradata.resultset": ""
     },
     "output_type": "execute_result"
    },
    {
     "data": {
      "text/plain": [
       "Success: 1 rows affected"
      ]
     },
     "execution_count": 9,
     "metadata": {
      "application/vnd.teradata.resultset": ""
     },
     "output_type": "execute_result"
    },
    {
     "data": {
      "text/plain": [
       "Success: 1 rows affected"
      ]
     },
     "execution_count": 9,
     "metadata": {
      "application/vnd.teradata.resultset": ""
     },
     "output_type": "execute_result"
    },
    {
     "data": {
      "text/plain": [
       "Success: 1 rows affected"
      ]
     },
     "execution_count": 9,
     "metadata": {
      "application/vnd.teradata.resultset": ""
     },
     "output_type": "execute_result"
    },
    {
     "data": {
      "text/plain": [
       "Success: 1 rows affected"
      ]
     },
     "execution_count": 9,
     "metadata": {
      "application/vnd.teradata.resultset": ""
     },
     "output_type": "execute_result"
    },
    {
     "data": {
      "text/plain": [
       "Success: 1 rows affected"
      ]
     },
     "execution_count": 9,
     "metadata": {
      "application/vnd.teradata.resultset": ""
     },
     "output_type": "execute_result"
    },
    {
     "data": {
      "text/plain": [
       "Success: 1 rows affected"
      ]
     },
     "execution_count": 9,
     "metadata": {
      "application/vnd.teradata.resultset": ""
     },
     "output_type": "execute_result"
    },
    {
     "data": {
      "text/plain": [
       "Success: 1 rows affected"
      ]
     },
     "execution_count": 9,
     "metadata": {
      "application/vnd.teradata.resultset": ""
     },
     "output_type": "execute_result"
    },
    {
     "data": {
      "text/plain": [
       "Success: 1 rows affected"
      ]
     },
     "execution_count": 9,
     "metadata": {
      "application/vnd.teradata.resultset": ""
     },
     "output_type": "execute_result"
    },
    {
     "data": {
      "text/plain": [
       "Success: 1 rows affected"
      ]
     },
     "execution_count": 9,
     "metadata": {
      "application/vnd.teradata.resultset": ""
     },
     "output_type": "execute_result"
    },
    {
     "data": {
      "text/plain": [
       "Success: 1 rows affected"
      ]
     },
     "execution_count": 9,
     "metadata": {
      "application/vnd.teradata.resultset": ""
     },
     "output_type": "execute_result"
    },
    {
     "data": {
      "text/plain": [
       "Success: 1 rows affected"
      ]
     },
     "execution_count": 9,
     "metadata": {
      "application/vnd.teradata.resultset": ""
     },
     "output_type": "execute_result"
    },
    {
     "data": {
      "text/plain": [
       "Success: 1 rows affected"
      ]
     },
     "execution_count": 9,
     "metadata": {
      "application/vnd.teradata.resultset": ""
     },
     "output_type": "execute_result"
    },
    {
     "data": {
      "text/plain": [
       "Success: 1 rows affected"
      ]
     },
     "execution_count": 9,
     "metadata": {
      "application/vnd.teradata.resultset": ""
     },
     "output_type": "execute_result"
    },
    {
     "data": {
      "text/plain": [
       "Success: 1 rows affected"
      ]
     },
     "execution_count": 9,
     "metadata": {
      "application/vnd.teradata.resultset": ""
     },
     "output_type": "execute_result"
    },
    {
     "data": {
      "text/plain": [
       "Success: 1 rows affected"
      ]
     },
     "execution_count": 9,
     "metadata": {
      "application/vnd.teradata.resultset": ""
     },
     "output_type": "execute_result"
    },
    {
     "data": {
      "text/plain": [
       "Success: 1 rows affected"
      ]
     },
     "execution_count": 9,
     "metadata": {
      "application/vnd.teradata.resultset": ""
     },
     "output_type": "execute_result"
    },
    {
     "data": {
      "text/plain": [
       "Success: 1 rows affected"
      ]
     },
     "execution_count": 9,
     "metadata": {
      "application/vnd.teradata.resultset": ""
     },
     "output_type": "execute_result"
    },
    {
     "data": {
      "text/plain": [
       "Success: 1 rows affected"
      ]
     },
     "execution_count": 9,
     "metadata": {
      "application/vnd.teradata.resultset": ""
     },
     "output_type": "execute_result"
    },
    {
     "data": {
      "text/plain": [
       "Success: 1 rows affected"
      ]
     },
     "execution_count": 9,
     "metadata": {
      "application/vnd.teradata.resultset": ""
     },
     "output_type": "execute_result"
    },
    {
     "data": {
      "text/plain": [
       "Success: 1 rows affected"
      ]
     },
     "execution_count": 9,
     "metadata": {
      "application/vnd.teradata.resultset": ""
     },
     "output_type": "execute_result"
    },
    {
     "data": {
      "text/plain": [
       "Success: 1 rows affected"
      ]
     },
     "execution_count": 9,
     "metadata": {
      "application/vnd.teradata.resultset": ""
     },
     "output_type": "execute_result"
    },
    {
     "data": {
      "text/plain": [
       "Success: 1 rows affected"
      ]
     },
     "execution_count": 9,
     "metadata": {
      "application/vnd.teradata.resultset": ""
     },
     "output_type": "execute_result"
    },
    {
     "data": {
      "text/plain": [
       "Success: 1 rows affected"
      ]
     },
     "execution_count": 9,
     "metadata": {
      "application/vnd.teradata.resultset": ""
     },
     "output_type": "execute_result"
    },
    {
     "data": {
      "text/plain": [
       "Success: 1 rows affected"
      ]
     },
     "execution_count": 9,
     "metadata": {
      "application/vnd.teradata.resultset": ""
     },
     "output_type": "execute_result"
    },
    {
     "data": {
      "text/plain": [
       "Success: 1 rows affected"
      ]
     },
     "execution_count": 9,
     "metadata": {
      "application/vnd.teradata.resultset": ""
     },
     "output_type": "execute_result"
    },
    {
     "data": {
      "text/plain": [
       "Success: 1 rows affected"
      ]
     },
     "execution_count": 9,
     "metadata": {
      "application/vnd.teradata.resultset": ""
     },
     "output_type": "execute_result"
    },
    {
     "data": {
      "text/plain": [
       "Success: 1 rows affected"
      ]
     },
     "execution_count": 9,
     "metadata": {
      "application/vnd.teradata.resultset": ""
     },
     "output_type": "execute_result"
    },
    {
     "data": {
      "text/plain": [
       "Success: 1 rows affected"
      ]
     },
     "execution_count": 9,
     "metadata": {
      "application/vnd.teradata.resultset": ""
     },
     "output_type": "execute_result"
    },
    {
     "data": {
      "text/plain": [
       "Success: 1 rows affected"
      ]
     },
     "execution_count": 9,
     "metadata": {
      "application/vnd.teradata.resultset": ""
     },
     "output_type": "execute_result"
    },
    {
     "data": {
      "text/plain": [
       "Success: 1 rows affected"
      ]
     },
     "execution_count": 9,
     "metadata": {
      "application/vnd.teradata.resultset": ""
     },
     "output_type": "execute_result"
    },
    {
     "data": {
      "text/plain": [
       "Success: 1 rows affected"
      ]
     },
     "execution_count": 9,
     "metadata": {
      "application/vnd.teradata.resultset": ""
     },
     "output_type": "execute_result"
    },
    {
     "data": {
      "text/plain": [
       "Success: 1 rows affected"
      ]
     },
     "execution_count": 9,
     "metadata": {
      "application/vnd.teradata.resultset": ""
     },
     "output_type": "execute_result"
    },
    {
     "data": {
      "text/plain": [
       "Success: 1 rows affected"
      ]
     },
     "execution_count": 9,
     "metadata": {
      "application/vnd.teradata.resultset": ""
     },
     "output_type": "execute_result"
    },
    {
     "data": {
      "text/plain": [
       "Success: 1 rows affected"
      ]
     },
     "execution_count": 9,
     "metadata": {
      "application/vnd.teradata.resultset": ""
     },
     "output_type": "execute_result"
    },
    {
     "data": {
      "text/plain": [
       "Success: 1 rows affected"
      ]
     },
     "execution_count": 9,
     "metadata": {
      "application/vnd.teradata.resultset": ""
     },
     "output_type": "execute_result"
    },
    {
     "data": {
      "text/plain": [
       "Success: 1 rows affected"
      ]
     },
     "execution_count": 9,
     "metadata": {
      "application/vnd.teradata.resultset": ""
     },
     "output_type": "execute_result"
    },
    {
     "data": {
      "text/plain": [
       "Success: 1 rows affected"
      ]
     },
     "execution_count": 9,
     "metadata": {
      "application/vnd.teradata.resultset": ""
     },
     "output_type": "execute_result"
    },
    {
     "data": {
      "text/plain": [
       "Success: 1 rows affected"
      ]
     },
     "execution_count": 9,
     "metadata": {
      "application/vnd.teradata.resultset": ""
     },
     "output_type": "execute_result"
    },
    {
     "data": {
      "text/plain": [
       "Success: 1 rows affected"
      ]
     },
     "execution_count": 9,
     "metadata": {
      "application/vnd.teradata.resultset": ""
     },
     "output_type": "execute_result"
    },
    {
     "data": {
      "text/plain": [
       "Success: 1 rows affected"
      ]
     },
     "execution_count": 9,
     "metadata": {
      "application/vnd.teradata.resultset": ""
     },
     "output_type": "execute_result"
    },
    {
     "data": {
      "text/plain": [
       "Success: 1 rows affected"
      ]
     },
     "execution_count": 9,
     "metadata": {
      "application/vnd.teradata.resultset": ""
     },
     "output_type": "execute_result"
    },
    {
     "data": {
      "text/plain": [
       "Success: 1 rows affected"
      ]
     },
     "execution_count": 9,
     "metadata": {
      "application/vnd.teradata.resultset": ""
     },
     "output_type": "execute_result"
    },
    {
     "data": {
      "text/plain": [
       "Success: 1 rows affected"
      ]
     },
     "execution_count": 9,
     "metadata": {
      "application/vnd.teradata.resultset": ""
     },
     "output_type": "execute_result"
    },
    {
     "data": {
      "text/plain": [
       "Success: 1 rows affected"
      ]
     },
     "execution_count": 9,
     "metadata": {
      "application/vnd.teradata.resultset": ""
     },
     "output_type": "execute_result"
    },
    {
     "data": {
      "text/plain": [
       "Success: 1 rows affected"
      ]
     },
     "execution_count": 9,
     "metadata": {
      "application/vnd.teradata.resultset": ""
     },
     "output_type": "execute_result"
    },
    {
     "data": {
      "text/plain": [
       "Success: 1 rows affected"
      ]
     },
     "execution_count": 9,
     "metadata": {
      "application/vnd.teradata.resultset": ""
     },
     "output_type": "execute_result"
    },
    {
     "data": {
      "text/plain": [
       "Success: 1 rows affected"
      ]
     },
     "execution_count": 9,
     "metadata": {
      "application/vnd.teradata.resultset": ""
     },
     "output_type": "execute_result"
    },
    {
     "data": {
      "text/plain": [
       "Success: 1 rows affected"
      ]
     },
     "execution_count": 9,
     "metadata": {
      "application/vnd.teradata.resultset": ""
     },
     "output_type": "execute_result"
    },
    {
     "data": {
      "text/plain": [
       "Success: 1 rows affected"
      ]
     },
     "execution_count": 9,
     "metadata": {
      "application/vnd.teradata.resultset": ""
     },
     "output_type": "execute_result"
    },
    {
     "data": {
      "text/plain": [
       "Success: 1 rows affected"
      ]
     },
     "execution_count": 9,
     "metadata": {
      "application/vnd.teradata.resultset": ""
     },
     "output_type": "execute_result"
    },
    {
     "data": {
      "text/plain": [
       "Success: 1 rows affected"
      ]
     },
     "execution_count": 9,
     "metadata": {
      "application/vnd.teradata.resultset": ""
     },
     "output_type": "execute_result"
    },
    {
     "data": {
      "text/plain": [
       "Success: 1 rows affected"
      ]
     },
     "execution_count": 9,
     "metadata": {
      "application/vnd.teradata.resultset": ""
     },
     "output_type": "execute_result"
    },
    {
     "data": {
      "text/plain": [
       "Success: 1 rows affected"
      ]
     },
     "execution_count": 9,
     "metadata": {
      "application/vnd.teradata.resultset": ""
     },
     "output_type": "execute_result"
    },
    {
     "data": {
      "text/plain": [
       "Success: 1 rows affected"
      ]
     },
     "execution_count": 9,
     "metadata": {
      "application/vnd.teradata.resultset": ""
     },
     "output_type": "execute_result"
    },
    {
     "data": {
      "text/plain": [
       "Success: 1 rows affected"
      ]
     },
     "execution_count": 9,
     "metadata": {
      "application/vnd.teradata.resultset": ""
     },
     "output_type": "execute_result"
    },
    {
     "data": {
      "text/plain": [
       "Success: 1 rows affected"
      ]
     },
     "execution_count": 9,
     "metadata": {
      "application/vnd.teradata.resultset": ""
     },
     "output_type": "execute_result"
    },
    {
     "data": {
      "text/plain": [
       "Success: 1 rows affected"
      ]
     },
     "execution_count": 9,
     "metadata": {
      "application/vnd.teradata.resultset": ""
     },
     "output_type": "execute_result"
    },
    {
     "data": {
      "text/plain": [
       "Success: 1 rows affected"
      ]
     },
     "execution_count": 9,
     "metadata": {
      "application/vnd.teradata.resultset": ""
     },
     "output_type": "execute_result"
    },
    {
     "data": {
      "text/plain": [
       "Success: 1 rows affected"
      ]
     },
     "execution_count": 9,
     "metadata": {
      "application/vnd.teradata.resultset": ""
     },
     "output_type": "execute_result"
    },
    {
     "data": {
      "text/plain": [
       "Success: 1 rows affected"
      ]
     },
     "execution_count": 9,
     "metadata": {
      "application/vnd.teradata.resultset": ""
     },
     "output_type": "execute_result"
    },
    {
     "data": {
      "text/plain": [
       "Success: 1 rows affected"
      ]
     },
     "execution_count": 9,
     "metadata": {
      "application/vnd.teradata.resultset": ""
     },
     "output_type": "execute_result"
    },
    {
     "data": {
      "text/plain": [
       "Success: 1 rows affected"
      ]
     },
     "execution_count": 9,
     "metadata": {
      "application/vnd.teradata.resultset": ""
     },
     "output_type": "execute_result"
    },
    {
     "data": {
      "text/plain": [
       "Success: 1 rows affected"
      ]
     },
     "execution_count": 9,
     "metadata": {
      "application/vnd.teradata.resultset": ""
     },
     "output_type": "execute_result"
    },
    {
     "data": {
      "text/plain": [
       "Success: 1 rows affected"
      ]
     },
     "execution_count": 9,
     "metadata": {
      "application/vnd.teradata.resultset": ""
     },
     "output_type": "execute_result"
    },
    {
     "data": {
      "text/plain": [
       "Success: 1 rows affected"
      ]
     },
     "execution_count": 9,
     "metadata": {
      "application/vnd.teradata.resultset": ""
     },
     "output_type": "execute_result"
    },
    {
     "data": {
      "text/plain": [
       "Success: 1 rows affected"
      ]
     },
     "execution_count": 9,
     "metadata": {
      "application/vnd.teradata.resultset": ""
     },
     "output_type": "execute_result"
    },
    {
     "data": {
      "text/plain": [
       "Success: 1 rows affected"
      ]
     },
     "execution_count": 9,
     "metadata": {
      "application/vnd.teradata.resultset": ""
     },
     "output_type": "execute_result"
    },
    {
     "data": {
      "text/plain": [
       "Success: 1 rows affected"
      ]
     },
     "execution_count": 9,
     "metadata": {
      "application/vnd.teradata.resultset": ""
     },
     "output_type": "execute_result"
    },
    {
     "data": {
      "text/plain": [
       "Success: 1 rows affected"
      ]
     },
     "execution_count": 9,
     "metadata": {
      "application/vnd.teradata.resultset": ""
     },
     "output_type": "execute_result"
    },
    {
     "data": {
      "text/plain": [
       "Success: 1 rows affected"
      ]
     },
     "execution_count": 9,
     "metadata": {
      "application/vnd.teradata.resultset": ""
     },
     "output_type": "execute_result"
    },
    {
     "data": {
      "text/plain": [
       "Success: 1 rows affected"
      ]
     },
     "execution_count": 9,
     "metadata": {
      "application/vnd.teradata.resultset": ""
     },
     "output_type": "execute_result"
    },
    {
     "data": {
      "text/plain": [
       "Success: 1 rows affected"
      ]
     },
     "execution_count": 9,
     "metadata": {
      "application/vnd.teradata.resultset": ""
     },
     "output_type": "execute_result"
    },
    {
     "data": {
      "text/plain": [
       "Success: 1 rows affected"
      ]
     },
     "execution_count": 9,
     "metadata": {
      "application/vnd.teradata.resultset": ""
     },
     "output_type": "execute_result"
    },
    {
     "data": {
      "text/plain": [
       "Success: 1 rows affected"
      ]
     },
     "execution_count": 9,
     "metadata": {
      "application/vnd.teradata.resultset": ""
     },
     "output_type": "execute_result"
    },
    {
     "data": {
      "text/plain": [
       "Success: 1 rows affected"
      ]
     },
     "execution_count": 9,
     "metadata": {
      "application/vnd.teradata.resultset": ""
     },
     "output_type": "execute_result"
    },
    {
     "data": {
      "text/plain": [
       "Success: 1 rows affected"
      ]
     },
     "execution_count": 9,
     "metadata": {
      "application/vnd.teradata.resultset": ""
     },
     "output_type": "execute_result"
    },
    {
     "data": {
      "text/plain": [
       "Success: 1 rows affected"
      ]
     },
     "execution_count": 9,
     "metadata": {
      "application/vnd.teradata.resultset": ""
     },
     "output_type": "execute_result"
    },
    {
     "data": {
      "text/plain": [
       "Success: 1 rows affected"
      ]
     },
     "execution_count": 9,
     "metadata": {
      "application/vnd.teradata.resultset": ""
     },
     "output_type": "execute_result"
    },
    {
     "data": {
      "text/plain": [
       "Success: 1 rows affected"
      ]
     },
     "execution_count": 9,
     "metadata": {
      "application/vnd.teradata.resultset": ""
     },
     "output_type": "execute_result"
    },
    {
     "data": {
      "text/plain": [
       "Success: 1 rows affected"
      ]
     },
     "execution_count": 9,
     "metadata": {
      "application/vnd.teradata.resultset": ""
     },
     "output_type": "execute_result"
    },
    {
     "data": {
      "text/plain": [
       "Success: 1 rows affected"
      ]
     },
     "execution_count": 9,
     "metadata": {
      "application/vnd.teradata.resultset": ""
     },
     "output_type": "execute_result"
    },
    {
     "data": {
      "text/plain": [
       "Success: 1 rows affected"
      ]
     },
     "execution_count": 9,
     "metadata": {
      "application/vnd.teradata.resultset": ""
     },
     "output_type": "execute_result"
    },
    {
     "data": {
      "text/plain": [
       "Success: 1 rows affected"
      ]
     },
     "execution_count": 9,
     "metadata": {
      "application/vnd.teradata.resultset": ""
     },
     "output_type": "execute_result"
    },
    {
     "data": {
      "text/plain": [
       "Success: 1 rows affected"
      ]
     },
     "execution_count": 9,
     "metadata": {
      "application/vnd.teradata.resultset": ""
     },
     "output_type": "execute_result"
    },
    {
     "data": {
      "text/plain": [
       "Success: 1 rows affected"
      ]
     },
     "execution_count": 9,
     "metadata": {
      "application/vnd.teradata.resultset": ""
     },
     "output_type": "execute_result"
    },
    {
     "data": {
      "text/plain": [
       "Success: 1 rows affected"
      ]
     },
     "execution_count": 9,
     "metadata": {
      "application/vnd.teradata.resultset": ""
     },
     "output_type": "execute_result"
    },
    {
     "data": {
      "text/plain": [
       "Success: 1 rows affected"
      ]
     },
     "execution_count": 9,
     "metadata": {
      "application/vnd.teradata.resultset": ""
     },
     "output_type": "execute_result"
    },
    {
     "data": {
      "text/plain": [
       "Success: 1 rows affected"
      ]
     },
     "execution_count": 9,
     "metadata": {
      "application/vnd.teradata.resultset": ""
     },
     "output_type": "execute_result"
    },
    {
     "data": {
      "text/plain": [
       "Success: 1 rows affected"
      ]
     },
     "execution_count": 9,
     "metadata": {
      "application/vnd.teradata.resultset": ""
     },
     "output_type": "execute_result"
    },
    {
     "data": {
      "text/plain": [
       "Success: 1 rows affected"
      ]
     },
     "execution_count": 9,
     "metadata": {
      "application/vnd.teradata.resultset": ""
     },
     "output_type": "execute_result"
    },
    {
     "data": {
      "text/plain": [
       "Success: 1 rows affected"
      ]
     },
     "execution_count": 9,
     "metadata": {
      "application/vnd.teradata.resultset": ""
     },
     "output_type": "execute_result"
    },
    {
     "data": {
      "text/plain": [
       "Success: 1 rows affected"
      ]
     },
     "execution_count": 9,
     "metadata": {
      "application/vnd.teradata.resultset": ""
     },
     "output_type": "execute_result"
    },
    {
     "data": {
      "text/plain": [
       "Success: 1 rows affected"
      ]
     },
     "execution_count": 9,
     "metadata": {
      "application/vnd.teradata.resultset": ""
     },
     "output_type": "execute_result"
    },
    {
     "data": {
      "text/plain": [
       "Success: 1 rows affected"
      ]
     },
     "execution_count": 9,
     "metadata": {
      "application/vnd.teradata.resultset": ""
     },
     "output_type": "execute_result"
    },
    {
     "data": {
      "text/plain": [
       "Success: 1 rows affected"
      ]
     },
     "execution_count": 9,
     "metadata": {
      "application/vnd.teradata.resultset": ""
     },
     "output_type": "execute_result"
    },
    {
     "data": {
      "text/plain": [
       "Success: 1 rows affected"
      ]
     },
     "execution_count": 9,
     "metadata": {
      "application/vnd.teradata.resultset": ""
     },
     "output_type": "execute_result"
    },
    {
     "data": {
      "text/plain": [
       "Success: 1 rows affected"
      ]
     },
     "execution_count": 9,
     "metadata": {
      "application/vnd.teradata.resultset": ""
     },
     "output_type": "execute_result"
    },
    {
     "data": {
      "text/plain": [
       "Success: 1 rows affected"
      ]
     },
     "execution_count": 9,
     "metadata": {
      "application/vnd.teradata.resultset": ""
     },
     "output_type": "execute_result"
    },
    {
     "data": {
      "text/plain": [
       "Success: 1 rows affected"
      ]
     },
     "execution_count": 9,
     "metadata": {
      "application/vnd.teradata.resultset": ""
     },
     "output_type": "execute_result"
    },
    {
     "data": {
      "text/plain": [
       "Success: 1 rows affected"
      ]
     },
     "execution_count": 9,
     "metadata": {
      "application/vnd.teradata.resultset": ""
     },
     "output_type": "execute_result"
    },
    {
     "data": {
      "text/plain": [
       "Success: 1 rows affected"
      ]
     },
     "execution_count": 9,
     "metadata": {
      "application/vnd.teradata.resultset": ""
     },
     "output_type": "execute_result"
    },
    {
     "data": {
      "text/plain": [
       "Success: 1 rows affected"
      ]
     },
     "execution_count": 9,
     "metadata": {
      "application/vnd.teradata.resultset": ""
     },
     "output_type": "execute_result"
    },
    {
     "data": {
      "text/plain": [
       "Success: 1 rows affected"
      ]
     },
     "execution_count": 9,
     "metadata": {
      "application/vnd.teradata.resultset": ""
     },
     "output_type": "execute_result"
    },
    {
     "data": {
      "text/plain": [
       "Success: 1 rows affected"
      ]
     },
     "execution_count": 9,
     "metadata": {
      "application/vnd.teradata.resultset": ""
     },
     "output_type": "execute_result"
    },
    {
     "data": {
      "text/plain": [
       "Success: 1 rows affected"
      ]
     },
     "execution_count": 9,
     "metadata": {
      "application/vnd.teradata.resultset": ""
     },
     "output_type": "execute_result"
    },
    {
     "data": {
      "text/plain": [
       "Success: 1 rows affected"
      ]
     },
     "execution_count": 9,
     "metadata": {
      "application/vnd.teradata.resultset": ""
     },
     "output_type": "execute_result"
    },
    {
     "data": {
      "text/plain": [
       "Success: 1 rows affected"
      ]
     },
     "execution_count": 9,
     "metadata": {
      "application/vnd.teradata.resultset": ""
     },
     "output_type": "execute_result"
    },
    {
     "data": {
      "text/plain": [
       "Success: 1 rows affected"
      ]
     },
     "execution_count": 9,
     "metadata": {
      "application/vnd.teradata.resultset": ""
     },
     "output_type": "execute_result"
    },
    {
     "data": {
      "text/plain": [
       "Success: 1 rows affected"
      ]
     },
     "execution_count": 9,
     "metadata": {
      "application/vnd.teradata.resultset": ""
     },
     "output_type": "execute_result"
    },
    {
     "data": {
      "text/plain": [
       "Success: 1 rows affected"
      ]
     },
     "execution_count": 9,
     "metadata": {
      "application/vnd.teradata.resultset": ""
     },
     "output_type": "execute_result"
    },
    {
     "data": {
      "text/plain": [
       "Success: 1 rows affected"
      ]
     },
     "execution_count": 9,
     "metadata": {
      "application/vnd.teradata.resultset": ""
     },
     "output_type": "execute_result"
    },
    {
     "data": {
      "text/plain": [
       "Success: 1 rows affected"
      ]
     },
     "execution_count": 9,
     "metadata": {
      "application/vnd.teradata.resultset": ""
     },
     "output_type": "execute_result"
    },
    {
     "data": {
      "text/plain": [
       "Success: 1 rows affected"
      ]
     },
     "execution_count": 9,
     "metadata": {
      "application/vnd.teradata.resultset": ""
     },
     "output_type": "execute_result"
    },
    {
     "data": {
      "text/plain": [
       "Success: 1 rows affected"
      ]
     },
     "execution_count": 9,
     "metadata": {
      "application/vnd.teradata.resultset": ""
     },
     "output_type": "execute_result"
    },
    {
     "data": {
      "text/plain": [
       "Success: 1 rows affected"
      ]
     },
     "execution_count": 9,
     "metadata": {
      "application/vnd.teradata.resultset": ""
     },
     "output_type": "execute_result"
    },
    {
     "data": {
      "text/plain": [
       "Success: 1 rows affected"
      ]
     },
     "execution_count": 9,
     "metadata": {
      "application/vnd.teradata.resultset": ""
     },
     "output_type": "execute_result"
    },
    {
     "data": {
      "text/plain": [
       "Success: 1 rows affected"
      ]
     },
     "execution_count": 9,
     "metadata": {
      "application/vnd.teradata.resultset": ""
     },
     "output_type": "execute_result"
    },
    {
     "data": {
      "text/plain": [
       "Success: 1 rows affected"
      ]
     },
     "execution_count": 9,
     "metadata": {
      "application/vnd.teradata.resultset": ""
     },
     "output_type": "execute_result"
    },
    {
     "data": {
      "text/plain": [
       "Success: 1 rows affected"
      ]
     },
     "execution_count": 9,
     "metadata": {
      "application/vnd.teradata.resultset": ""
     },
     "output_type": "execute_result"
    },
    {
     "data": {
      "text/plain": [
       "Success: 1 rows affected"
      ]
     },
     "execution_count": 9,
     "metadata": {
      "application/vnd.teradata.resultset": ""
     },
     "output_type": "execute_result"
    },
    {
     "data": {
      "text/plain": [
       "Success: 1 rows affected"
      ]
     },
     "execution_count": 9,
     "metadata": {
      "application/vnd.teradata.resultset": ""
     },
     "output_type": "execute_result"
    },
    {
     "data": {
      "text/plain": [
       "Success: 1 rows affected"
      ]
     },
     "execution_count": 9,
     "metadata": {
      "application/vnd.teradata.resultset": ""
     },
     "output_type": "execute_result"
    },
    {
     "data": {
      "text/plain": [
       "Success: 1 rows affected"
      ]
     },
     "execution_count": 9,
     "metadata": {
      "application/vnd.teradata.resultset": ""
     },
     "output_type": "execute_result"
    },
    {
     "data": {
      "text/plain": [
       "Success: 1 rows affected"
      ]
     },
     "execution_count": 9,
     "metadata": {
      "application/vnd.teradata.resultset": ""
     },
     "output_type": "execute_result"
    },
    {
     "data": {
      "text/plain": [
       "Success: 1 rows affected"
      ]
     },
     "execution_count": 9,
     "metadata": {
      "application/vnd.teradata.resultset": ""
     },
     "output_type": "execute_result"
    },
    {
     "data": {
      "text/plain": [
       "Success: 1 rows affected"
      ]
     },
     "execution_count": 9,
     "metadata": {
      "application/vnd.teradata.resultset": ""
     },
     "output_type": "execute_result"
    },
    {
     "data": {
      "text/plain": [
       "Success: 1 rows affected"
      ]
     },
     "execution_count": 9,
     "metadata": {
      "application/vnd.teradata.resultset": ""
     },
     "output_type": "execute_result"
    },
    {
     "data": {
      "text/plain": [
       "Success: 1 rows affected"
      ]
     },
     "execution_count": 9,
     "metadata": {
      "application/vnd.teradata.resultset": ""
     },
     "output_type": "execute_result"
    },
    {
     "data": {
      "text/plain": [
       "Success: 1 rows affected"
      ]
     },
     "execution_count": 9,
     "metadata": {
      "application/vnd.teradata.resultset": ""
     },
     "output_type": "execute_result"
    },
    {
     "data": {
      "text/plain": [
       "Success: 1 rows affected"
      ]
     },
     "execution_count": 9,
     "metadata": {
      "application/vnd.teradata.resultset": ""
     },
     "output_type": "execute_result"
    },
    {
     "data": {
      "text/plain": [
       "Success: 1 rows affected"
      ]
     },
     "execution_count": 9,
     "metadata": {
      "application/vnd.teradata.resultset": ""
     },
     "output_type": "execute_result"
    },
    {
     "data": {
      "text/plain": [
       "Success: 1 rows affected"
      ]
     },
     "execution_count": 9,
     "metadata": {
      "application/vnd.teradata.resultset": ""
     },
     "output_type": "execute_result"
    },
    {
     "data": {
      "text/plain": [
       "Success: 1 rows affected"
      ]
     },
     "execution_count": 9,
     "metadata": {
      "application/vnd.teradata.resultset": ""
     },
     "output_type": "execute_result"
    },
    {
     "data": {
      "text/plain": [
       "Success: 1 rows affected"
      ]
     },
     "execution_count": 9,
     "metadata": {
      "application/vnd.teradata.resultset": ""
     },
     "output_type": "execute_result"
    },
    {
     "data": {
      "text/plain": [
       "Success: 1 rows affected"
      ]
     },
     "execution_count": 9,
     "metadata": {
      "application/vnd.teradata.resultset": ""
     },
     "output_type": "execute_result"
    },
    {
     "data": {
      "text/plain": [
       "Success: 1 rows affected"
      ]
     },
     "execution_count": 9,
     "metadata": {
      "application/vnd.teradata.resultset": ""
     },
     "output_type": "execute_result"
    },
    {
     "data": {
      "text/plain": [
       "Success: 1 rows affected"
      ]
     },
     "execution_count": 9,
     "metadata": {
      "application/vnd.teradata.resultset": ""
     },
     "output_type": "execute_result"
    },
    {
     "data": {
      "text/plain": [
       "Success: 1 rows affected"
      ]
     },
     "execution_count": 9,
     "metadata": {
      "application/vnd.teradata.resultset": ""
     },
     "output_type": "execute_result"
    },
    {
     "data": {
      "text/plain": [
       "Success: 1 rows affected"
      ]
     },
     "execution_count": 9,
     "metadata": {
      "application/vnd.teradata.resultset": ""
     },
     "output_type": "execute_result"
    },
    {
     "data": {
      "text/plain": [
       "Success: 1 rows affected"
      ]
     },
     "execution_count": 9,
     "metadata": {
      "application/vnd.teradata.resultset": ""
     },
     "output_type": "execute_result"
    },
    {
     "data": {
      "text/plain": [
       "Success: 1 rows affected"
      ]
     },
     "execution_count": 9,
     "metadata": {
      "application/vnd.teradata.resultset": ""
     },
     "output_type": "execute_result"
    },
    {
     "data": {
      "text/plain": [
       "Success: 1 rows affected"
      ]
     },
     "execution_count": 9,
     "metadata": {
      "application/vnd.teradata.resultset": ""
     },
     "output_type": "execute_result"
    },
    {
     "data": {
      "text/plain": [
       "Success: 1 rows affected"
      ]
     },
     "execution_count": 9,
     "metadata": {
      "application/vnd.teradata.resultset": ""
     },
     "output_type": "execute_result"
    },
    {
     "data": {
      "text/plain": [
       "Success: 1 rows affected"
      ]
     },
     "execution_count": 9,
     "metadata": {
      "application/vnd.teradata.resultset": ""
     },
     "output_type": "execute_result"
    },
    {
     "data": {
      "text/plain": [
       "Success: 1 rows affected"
      ]
     },
     "execution_count": 9,
     "metadata": {
      "application/vnd.teradata.resultset": ""
     },
     "output_type": "execute_result"
    },
    {
     "data": {
      "text/plain": [
       "Success: 1 rows affected"
      ]
     },
     "execution_count": 9,
     "metadata": {
      "application/vnd.teradata.resultset": ""
     },
     "output_type": "execute_result"
    },
    {
     "data": {
      "text/plain": [
       "Success: 1 rows affected"
      ]
     },
     "execution_count": 9,
     "metadata": {
      "application/vnd.teradata.resultset": ""
     },
     "output_type": "execute_result"
    },
    {
     "data": {
      "text/plain": [
       "Success: 1 rows affected"
      ]
     },
     "execution_count": 9,
     "metadata": {
      "application/vnd.teradata.resultset": ""
     },
     "output_type": "execute_result"
    },
    {
     "data": {
      "text/plain": [
       "Success: 1 rows affected"
      ]
     },
     "execution_count": 9,
     "metadata": {
      "application/vnd.teradata.resultset": ""
     },
     "output_type": "execute_result"
    },
    {
     "data": {
      "text/plain": [
       "Success: 1 rows affected"
      ]
     },
     "execution_count": 9,
     "metadata": {
      "application/vnd.teradata.resultset": ""
     },
     "output_type": "execute_result"
    },
    {
     "data": {
      "text/plain": [
       "Success: 1 rows affected"
      ]
     },
     "execution_count": 9,
     "metadata": {
      "application/vnd.teradata.resultset": ""
     },
     "output_type": "execute_result"
    },
    {
     "data": {
      "text/plain": [
       "Success: 1 rows affected"
      ]
     },
     "execution_count": 9,
     "metadata": {
      "application/vnd.teradata.resultset": ""
     },
     "output_type": "execute_result"
    },
    {
     "data": {
      "text/plain": [
       "Success: 1 rows affected"
      ]
     },
     "execution_count": 9,
     "metadata": {
      "application/vnd.teradata.resultset": ""
     },
     "output_type": "execute_result"
    },
    {
     "data": {
      "text/plain": [
       "Success: 1 rows affected"
      ]
     },
     "execution_count": 9,
     "metadata": {
      "application/vnd.teradata.resultset": ""
     },
     "output_type": "execute_result"
    },
    {
     "data": {
      "text/plain": [
       "Success: 1 rows affected"
      ]
     },
     "execution_count": 9,
     "metadata": {
      "application/vnd.teradata.resultset": ""
     },
     "output_type": "execute_result"
    },
    {
     "data": {
      "text/plain": [
       "Success: 1 rows affected"
      ]
     },
     "execution_count": 9,
     "metadata": {
      "application/vnd.teradata.resultset": ""
     },
     "output_type": "execute_result"
    },
    {
     "data": {
      "text/plain": [
       "Success: 1 rows affected"
      ]
     },
     "execution_count": 9,
     "metadata": {
      "application/vnd.teradata.resultset": ""
     },
     "output_type": "execute_result"
    },
    {
     "data": {
      "text/plain": [
       "Success: 1 rows affected"
      ]
     },
     "execution_count": 9,
     "metadata": {
      "application/vnd.teradata.resultset": ""
     },
     "output_type": "execute_result"
    },
    {
     "data": {
      "text/plain": [
       "Success: 1 rows affected"
      ]
     },
     "execution_count": 9,
     "metadata": {
      "application/vnd.teradata.resultset": ""
     },
     "output_type": "execute_result"
    },
    {
     "data": {
      "text/plain": [
       "Success: 1 rows affected"
      ]
     },
     "execution_count": 9,
     "metadata": {
      "application/vnd.teradata.resultset": ""
     },
     "output_type": "execute_result"
    },
    {
     "data": {
      "text/plain": [
       "Success: 1 rows affected"
      ]
     },
     "execution_count": 9,
     "metadata": {
      "application/vnd.teradata.resultset": ""
     },
     "output_type": "execute_result"
    },
    {
     "data": {
      "text/plain": [
       "Success: 1 rows affected"
      ]
     },
     "execution_count": 9,
     "metadata": {
      "application/vnd.teradata.resultset": ""
     },
     "output_type": "execute_result"
    },
    {
     "data": {
      "text/plain": [
       "Success: 1 rows affected"
      ]
     },
     "execution_count": 9,
     "metadata": {
      "application/vnd.teradata.resultset": ""
     },
     "output_type": "execute_result"
    },
    {
     "data": {
      "text/plain": [
       "Success: 1 rows affected"
      ]
     },
     "execution_count": 9,
     "metadata": {
      "application/vnd.teradata.resultset": ""
     },
     "output_type": "execute_result"
    },
    {
     "data": {
      "text/plain": [
       "Success: 1 rows affected"
      ]
     },
     "execution_count": 9,
     "metadata": {
      "application/vnd.teradata.resultset": ""
     },
     "output_type": "execute_result"
    },
    {
     "data": {
      "text/plain": [
       "Success: 1 rows affected"
      ]
     },
     "execution_count": 9,
     "metadata": {
      "application/vnd.teradata.resultset": ""
     },
     "output_type": "execute_result"
    },
    {
     "data": {
      "text/plain": [
       "Success: 1 rows affected"
      ]
     },
     "execution_count": 9,
     "metadata": {
      "application/vnd.teradata.resultset": ""
     },
     "output_type": "execute_result"
    },
    {
     "data": {
      "text/plain": [
       "Success: 1 rows affected"
      ]
     },
     "execution_count": 9,
     "metadata": {
      "application/vnd.teradata.resultset": ""
     },
     "output_type": "execute_result"
    },
    {
     "data": {
      "text/plain": [
       "Success: 1 rows affected"
      ]
     },
     "execution_count": 9,
     "metadata": {
      "application/vnd.teradata.resultset": ""
     },
     "output_type": "execute_result"
    },
    {
     "data": {
      "text/plain": [
       "Success: 1 rows affected"
      ]
     },
     "execution_count": 9,
     "metadata": {
      "application/vnd.teradata.resultset": ""
     },
     "output_type": "execute_result"
    },
    {
     "data": {
      "text/plain": [
       "Success: 1 rows affected"
      ]
     },
     "execution_count": 9,
     "metadata": {
      "application/vnd.teradata.resultset": ""
     },
     "output_type": "execute_result"
    },
    {
     "data": {
      "text/plain": [
       "Success: 1 rows affected"
      ]
     },
     "execution_count": 9,
     "metadata": {
      "application/vnd.teradata.resultset": ""
     },
     "output_type": "execute_result"
    },
    {
     "data": {
      "text/plain": [
       "Success: 1 rows affected"
      ]
     },
     "execution_count": 9,
     "metadata": {
      "application/vnd.teradata.resultset": ""
     },
     "output_type": "execute_result"
    },
    {
     "data": {
      "text/plain": [
       "Success: 1 rows affected"
      ]
     },
     "execution_count": 9,
     "metadata": {
      "application/vnd.teradata.resultset": ""
     },
     "output_type": "execute_result"
    },
    {
     "data": {
      "text/plain": [
       "Success: 1 rows affected"
      ]
     },
     "execution_count": 9,
     "metadata": {
      "application/vnd.teradata.resultset": ""
     },
     "output_type": "execute_result"
    },
    {
     "data": {
      "text/plain": [
       "Success: 1 rows affected"
      ]
     },
     "execution_count": 9,
     "metadata": {
      "application/vnd.teradata.resultset": ""
     },
     "output_type": "execute_result"
    },
    {
     "data": {
      "text/plain": [
       "Success: 1 rows affected"
      ]
     },
     "execution_count": 9,
     "metadata": {
      "application/vnd.teradata.resultset": ""
     },
     "output_type": "execute_result"
    },
    {
     "data": {
      "text/plain": [
       "Success: 1 rows affected"
      ]
     },
     "execution_count": 9,
     "metadata": {
      "application/vnd.teradata.resultset": ""
     },
     "output_type": "execute_result"
    },
    {
     "data": {
      "text/plain": [
       "Success: 1 rows affected"
      ]
     },
     "execution_count": 9,
     "metadata": {
      "application/vnd.teradata.resultset": ""
     },
     "output_type": "execute_result"
    },
    {
     "data": {
      "text/plain": [
       "Success: 1 rows affected"
      ]
     },
     "execution_count": 9,
     "metadata": {
      "application/vnd.teradata.resultset": ""
     },
     "output_type": "execute_result"
    },
    {
     "data": {
      "text/plain": [
       "Success: 1 rows affected"
      ]
     },
     "execution_count": 9,
     "metadata": {
      "application/vnd.teradata.resultset": ""
     },
     "output_type": "execute_result"
    },
    {
     "data": {
      "text/plain": [
       "Success: 1 rows affected"
      ]
     },
     "execution_count": 9,
     "metadata": {
      "application/vnd.teradata.resultset": ""
     },
     "output_type": "execute_result"
    },
    {
     "data": {
      "text/plain": [
       "Success: 1 rows affected"
      ]
     },
     "execution_count": 9,
     "metadata": {
      "application/vnd.teradata.resultset": ""
     },
     "output_type": "execute_result"
    },
    {
     "data": {
      "text/plain": [
       "Success: 1 rows affected"
      ]
     },
     "execution_count": 9,
     "metadata": {
      "application/vnd.teradata.resultset": ""
     },
     "output_type": "execute_result"
    },
    {
     "data": {
      "text/plain": [
       "Success: 1 rows affected"
      ]
     },
     "execution_count": 9,
     "metadata": {
      "application/vnd.teradata.resultset": ""
     },
     "output_type": "execute_result"
    },
    {
     "data": {
      "text/plain": [
       "Success: 1 rows affected"
      ]
     },
     "execution_count": 9,
     "metadata": {
      "application/vnd.teradata.resultset": ""
     },
     "output_type": "execute_result"
    },
    {
     "data": {
      "text/plain": [
       "Success: 1 rows affected"
      ]
     },
     "execution_count": 9,
     "metadata": {
      "application/vnd.teradata.resultset": ""
     },
     "output_type": "execute_result"
    },
    {
     "data": {
      "text/plain": [
       "Success: 1 rows affected"
      ]
     },
     "execution_count": 9,
     "metadata": {
      "application/vnd.teradata.resultset": ""
     },
     "output_type": "execute_result"
    },
    {
     "data": {
      "text/plain": [
       "Success: 1 rows affected"
      ]
     },
     "execution_count": 9,
     "metadata": {
      "application/vnd.teradata.resultset": ""
     },
     "output_type": "execute_result"
    },
    {
     "data": {
      "text/plain": [
       "Success: 1 rows affected"
      ]
     },
     "execution_count": 9,
     "metadata": {
      "application/vnd.teradata.resultset": ""
     },
     "output_type": "execute_result"
    },
    {
     "data": {
      "text/plain": [
       "Success: 1 rows affected"
      ]
     },
     "execution_count": 9,
     "metadata": {
      "application/vnd.teradata.resultset": ""
     },
     "output_type": "execute_result"
    },
    {
     "data": {
      "text/plain": [
       "Success: 1 rows affected"
      ]
     },
     "execution_count": 9,
     "metadata": {
      "application/vnd.teradata.resultset": ""
     },
     "output_type": "execute_result"
    },
    {
     "data": {
      "text/plain": [
       "Success: 1 rows affected"
      ]
     },
     "execution_count": 9,
     "metadata": {
      "application/vnd.teradata.resultset": ""
     },
     "output_type": "execute_result"
    },
    {
     "data": {
      "text/plain": [
       "Success: 1 rows affected"
      ]
     },
     "execution_count": 9,
     "metadata": {
      "application/vnd.teradata.resultset": ""
     },
     "output_type": "execute_result"
    },
    {
     "data": {
      "text/plain": [
       "Success: 1 rows affected"
      ]
     },
     "execution_count": 9,
     "metadata": {
      "application/vnd.teradata.resultset": ""
     },
     "output_type": "execute_result"
    },
    {
     "data": {
      "text/plain": [
       "Success: 1 rows affected"
      ]
     },
     "execution_count": 9,
     "metadata": {
      "application/vnd.teradata.resultset": ""
     },
     "output_type": "execute_result"
    },
    {
     "data": {
      "text/plain": [
       "Success: 1 rows affected"
      ]
     },
     "execution_count": 9,
     "metadata": {
      "application/vnd.teradata.resultset": ""
     },
     "output_type": "execute_result"
    },
    {
     "data": {
      "text/plain": [
       "Success: 1 rows affected"
      ]
     },
     "execution_count": 9,
     "metadata": {
      "application/vnd.teradata.resultset": ""
     },
     "output_type": "execute_result"
    },
    {
     "data": {
      "text/plain": [
       "Success: 1 rows affected"
      ]
     },
     "execution_count": 9,
     "metadata": {
      "application/vnd.teradata.resultset": ""
     },
     "output_type": "execute_result"
    },
    {
     "data": {
      "text/plain": [
       "Success: 1 rows affected"
      ]
     },
     "execution_count": 9,
     "metadata": {
      "application/vnd.teradata.resultset": ""
     },
     "output_type": "execute_result"
    },
    {
     "data": {
      "text/plain": [
       "Success: 1 rows affected"
      ]
     },
     "execution_count": 9,
     "metadata": {
      "application/vnd.teradata.resultset": ""
     },
     "output_type": "execute_result"
    },
    {
     "data": {
      "text/plain": [
       "Success: 1 rows affected"
      ]
     },
     "execution_count": 9,
     "metadata": {
      "application/vnd.teradata.resultset": ""
     },
     "output_type": "execute_result"
    },
    {
     "data": {
      "text/plain": [
       "Success: 1 rows affected"
      ]
     },
     "execution_count": 9,
     "metadata": {
      "application/vnd.teradata.resultset": ""
     },
     "output_type": "execute_result"
    },
    {
     "data": {
      "text/plain": [
       "Success: 1 rows affected"
      ]
     },
     "execution_count": 9,
     "metadata": {
      "application/vnd.teradata.resultset": ""
     },
     "output_type": "execute_result"
    },
    {
     "data": {
      "text/plain": [
       "Success: 1 rows affected"
      ]
     },
     "execution_count": 9,
     "metadata": {
      "application/vnd.teradata.resultset": ""
     },
     "output_type": "execute_result"
    },
    {
     "data": {
      "text/plain": [
       "Success: 1 rows affected"
      ]
     },
     "execution_count": 9,
     "metadata": {
      "application/vnd.teradata.resultset": ""
     },
     "output_type": "execute_result"
    },
    {
     "data": {
      "text/plain": [
       "Success: 1 rows affected"
      ]
     },
     "execution_count": 9,
     "metadata": {
      "application/vnd.teradata.resultset": ""
     },
     "output_type": "execute_result"
    },
    {
     "data": {
      "text/plain": [
       "Success: 1 rows affected"
      ]
     },
     "execution_count": 9,
     "metadata": {
      "application/vnd.teradata.resultset": ""
     },
     "output_type": "execute_result"
    },
    {
     "data": {
      "text/plain": [
       "Success: 1 rows affected"
      ]
     },
     "execution_count": 9,
     "metadata": {
      "application/vnd.teradata.resultset": ""
     },
     "output_type": "execute_result"
    },
    {
     "data": {
      "text/plain": [
       "Success: 1 rows affected"
      ]
     },
     "execution_count": 9,
     "metadata": {
      "application/vnd.teradata.resultset": ""
     },
     "output_type": "execute_result"
    },
    {
     "data": {
      "text/plain": [
       "Success: 1 rows affected"
      ]
     },
     "execution_count": 9,
     "metadata": {
      "application/vnd.teradata.resultset": ""
     },
     "output_type": "execute_result"
    },
    {
     "data": {
      "text/plain": [
       "Success: 1 rows affected"
      ]
     },
     "execution_count": 9,
     "metadata": {
      "application/vnd.teradata.resultset": ""
     },
     "output_type": "execute_result"
    },
    {
     "data": {
      "text/plain": [
       "Success: 1 rows affected"
      ]
     },
     "execution_count": 9,
     "metadata": {
      "application/vnd.teradata.resultset": ""
     },
     "output_type": "execute_result"
    },
    {
     "data": {
      "text/plain": [
       "Success: 1 rows affected"
      ]
     },
     "execution_count": 9,
     "metadata": {
      "application/vnd.teradata.resultset": ""
     },
     "output_type": "execute_result"
    },
    {
     "data": {
      "text/plain": [
       "Success: 1 rows affected"
      ]
     },
     "execution_count": 9,
     "metadata": {
      "application/vnd.teradata.resultset": ""
     },
     "output_type": "execute_result"
    },
    {
     "data": {
      "text/plain": [
       "Success: 1 rows affected"
      ]
     },
     "execution_count": 9,
     "metadata": {
      "application/vnd.teradata.resultset": ""
     },
     "output_type": "execute_result"
    },
    {
     "data": {
      "text/plain": [
       "Success: 1 rows affected"
      ]
     },
     "execution_count": 9,
     "metadata": {
      "application/vnd.teradata.resultset": ""
     },
     "output_type": "execute_result"
    },
    {
     "data": {
      "text/plain": [
       "Success: 1 rows affected"
      ]
     },
     "execution_count": 9,
     "metadata": {
      "application/vnd.teradata.resultset": ""
     },
     "output_type": "execute_result"
    },
    {
     "data": {
      "text/plain": [
       "Success: 1 rows affected"
      ]
     },
     "execution_count": 9,
     "metadata": {
      "application/vnd.teradata.resultset": ""
     },
     "output_type": "execute_result"
    },
    {
     "data": {
      "text/plain": [
       "Success: 1 rows affected"
      ]
     },
     "execution_count": 9,
     "metadata": {
      "application/vnd.teradata.resultset": ""
     },
     "output_type": "execute_result"
    },
    {
     "data": {
      "text/plain": [
       "Success: 1 rows affected"
      ]
     },
     "execution_count": 9,
     "metadata": {
      "application/vnd.teradata.resultset": ""
     },
     "output_type": "execute_result"
    },
    {
     "data": {
      "text/plain": [
       "Success: 1 rows affected"
      ]
     },
     "execution_count": 9,
     "metadata": {
      "application/vnd.teradata.resultset": ""
     },
     "output_type": "execute_result"
    },
    {
     "data": {
      "text/plain": [
       "Success: 1 rows affected"
      ]
     },
     "execution_count": 9,
     "metadata": {
      "application/vnd.teradata.resultset": ""
     },
     "output_type": "execute_result"
    },
    {
     "data": {
      "text/plain": [
       "Success: 1 rows affected"
      ]
     },
     "execution_count": 9,
     "metadata": {
      "application/vnd.teradata.resultset": ""
     },
     "output_type": "execute_result"
    },
    {
     "data": {
      "text/plain": [
       "Success: 1 rows affected"
      ]
     },
     "execution_count": 9,
     "metadata": {
      "application/vnd.teradata.resultset": ""
     },
     "output_type": "execute_result"
    },
    {
     "data": {
      "text/plain": [
       "Success: 1 rows affected"
      ]
     },
     "execution_count": 9,
     "metadata": {
      "application/vnd.teradata.resultset": ""
     },
     "output_type": "execute_result"
    },
    {
     "data": {
      "text/plain": [
       "Success: 1 rows affected"
      ]
     },
     "execution_count": 9,
     "metadata": {
      "application/vnd.teradata.resultset": ""
     },
     "output_type": "execute_result"
    },
    {
     "data": {
      "text/plain": [
       "Success: 1 rows affected"
      ]
     },
     "execution_count": 9,
     "metadata": {
      "application/vnd.teradata.resultset": ""
     },
     "output_type": "execute_result"
    },
    {
     "data": {
      "text/plain": [
       "Success: 1 rows affected"
      ]
     },
     "execution_count": 9,
     "metadata": {
      "application/vnd.teradata.resultset": ""
     },
     "output_type": "execute_result"
    },
    {
     "data": {
      "text/plain": [
       "Success: 1 rows affected"
      ]
     },
     "execution_count": 9,
     "metadata": {
      "application/vnd.teradata.resultset": ""
     },
     "output_type": "execute_result"
    },
    {
     "data": {
      "text/plain": [
       "Success: 1 rows affected"
      ]
     },
     "execution_count": 9,
     "metadata": {
      "application/vnd.teradata.resultset": ""
     },
     "output_type": "execute_result"
    },
    {
     "data": {
      "text/plain": [
       "Success: 1 rows affected"
      ]
     },
     "execution_count": 9,
     "metadata": {
      "application/vnd.teradata.resultset": ""
     },
     "output_type": "execute_result"
    },
    {
     "data": {
      "text/plain": [
       "Success: 1 rows affected"
      ]
     },
     "execution_count": 9,
     "metadata": {
      "application/vnd.teradata.resultset": ""
     },
     "output_type": "execute_result"
    },
    {
     "data": {
      "text/plain": [
       "Success: 1 rows affected"
      ]
     },
     "execution_count": 9,
     "metadata": {
      "application/vnd.teradata.resultset": ""
     },
     "output_type": "execute_result"
    },
    {
     "data": {
      "text/plain": [
       "Success: 1 rows affected"
      ]
     },
     "execution_count": 9,
     "metadata": {
      "application/vnd.teradata.resultset": ""
     },
     "output_type": "execute_result"
    },
    {
     "data": {
      "text/plain": [
       "Success: 1 rows affected"
      ]
     },
     "execution_count": 9,
     "metadata": {
      "application/vnd.teradata.resultset": ""
     },
     "output_type": "execute_result"
    },
    {
     "data": {
      "text/plain": [
       "Success: 1 rows affected"
      ]
     },
     "execution_count": 9,
     "metadata": {
      "application/vnd.teradata.resultset": ""
     },
     "output_type": "execute_result"
    },
    {
     "data": {
      "text/plain": [
       "Success: 1 rows affected"
      ]
     },
     "execution_count": 9,
     "metadata": {
      "application/vnd.teradata.resultset": ""
     },
     "output_type": "execute_result"
    },
    {
     "data": {
      "text/plain": [
       "Success: 1 rows affected"
      ]
     },
     "execution_count": 9,
     "metadata": {
      "application/vnd.teradata.resultset": ""
     },
     "output_type": "execute_result"
    },
    {
     "data": {
      "text/plain": [
       "Success: 1 rows affected"
      ]
     },
     "execution_count": 9,
     "metadata": {
      "application/vnd.teradata.resultset": ""
     },
     "output_type": "execute_result"
    },
    {
     "data": {
      "text/plain": [
       "Success: 1 rows affected"
      ]
     },
     "execution_count": 9,
     "metadata": {
      "application/vnd.teradata.resultset": ""
     },
     "output_type": "execute_result"
    },
    {
     "data": {
      "text/plain": [
       "Success: 1 rows affected"
      ]
     },
     "execution_count": 9,
     "metadata": {
      "application/vnd.teradata.resultset": ""
     },
     "output_type": "execute_result"
    },
    {
     "data": {
      "text/plain": [
       "Success: 1 rows affected"
      ]
     },
     "execution_count": 9,
     "metadata": {
      "application/vnd.teradata.resultset": ""
     },
     "output_type": "execute_result"
    },
    {
     "data": {
      "text/plain": [
       "Success: 1 rows affected"
      ]
     },
     "execution_count": 9,
     "metadata": {
      "application/vnd.teradata.resultset": ""
     },
     "output_type": "execute_result"
    },
    {
     "data": {
      "text/plain": [
       "Success: 1 rows affected"
      ]
     },
     "execution_count": 9,
     "metadata": {
      "application/vnd.teradata.resultset": ""
     },
     "output_type": "execute_result"
    },
    {
     "data": {
      "text/plain": [
       "Success: 1 rows affected"
      ]
     },
     "execution_count": 9,
     "metadata": {
      "application/vnd.teradata.resultset": ""
     },
     "output_type": "execute_result"
    },
    {
     "data": {
      "text/plain": [
       "Success: 1 rows affected"
      ]
     },
     "execution_count": 9,
     "metadata": {
      "application/vnd.teradata.resultset": ""
     },
     "output_type": "execute_result"
    },
    {
     "data": {
      "text/plain": [
       "Success: 1 rows affected"
      ]
     },
     "execution_count": 9,
     "metadata": {
      "application/vnd.teradata.resultset": ""
     },
     "output_type": "execute_result"
    },
    {
     "data": {
      "text/plain": [
       "Success: 1 rows affected"
      ]
     },
     "execution_count": 9,
     "metadata": {
      "application/vnd.teradata.resultset": ""
     },
     "output_type": "execute_result"
    },
    {
     "data": {
      "text/plain": [
       "Success: 1 rows affected"
      ]
     },
     "execution_count": 9,
     "metadata": {
      "application/vnd.teradata.resultset": ""
     },
     "output_type": "execute_result"
    },
    {
     "data": {
      "text/plain": [
       "Success: 1 rows affected"
      ]
     },
     "execution_count": 9,
     "metadata": {
      "application/vnd.teradata.resultset": ""
     },
     "output_type": "execute_result"
    },
    {
     "data": {
      "text/plain": [
       "Success: 1 rows affected"
      ]
     },
     "execution_count": 9,
     "metadata": {
      "application/vnd.teradata.resultset": ""
     },
     "output_type": "execute_result"
    },
    {
     "data": {
      "text/plain": [
       "Success: 1 rows affected"
      ]
     },
     "execution_count": 9,
     "metadata": {
      "application/vnd.teradata.resultset": ""
     },
     "output_type": "execute_result"
    },
    {
     "data": {
      "text/plain": [
       "Success: 1 rows affected"
      ]
     },
     "execution_count": 9,
     "metadata": {
      "application/vnd.teradata.resultset": ""
     },
     "output_type": "execute_result"
    },
    {
     "data": {
      "text/plain": [
       "Success: 1 rows affected"
      ]
     },
     "execution_count": 9,
     "metadata": {
      "application/vnd.teradata.resultset": ""
     },
     "output_type": "execute_result"
    },
    {
     "data": {
      "text/plain": [
       "Success: 1 rows affected"
      ]
     },
     "execution_count": 9,
     "metadata": {
      "application/vnd.teradata.resultset": ""
     },
     "output_type": "execute_result"
    },
    {
     "data": {
      "text/plain": [
       "Success: 1 rows affected"
      ]
     },
     "execution_count": 9,
     "metadata": {
      "application/vnd.teradata.resultset": ""
     },
     "output_type": "execute_result"
    },
    {
     "data": {
      "text/plain": [
       "Success: 1 rows affected"
      ]
     },
     "execution_count": 9,
     "metadata": {
      "application/vnd.teradata.resultset": ""
     },
     "output_type": "execute_result"
    },
    {
     "data": {
      "text/plain": [
       "Success: 1 rows affected"
      ]
     },
     "execution_count": 9,
     "metadata": {
      "application/vnd.teradata.resultset": ""
     },
     "output_type": "execute_result"
    },
    {
     "data": {
      "text/plain": [
       "Success: 1 rows affected"
      ]
     },
     "execution_count": 9,
     "metadata": {
      "application/vnd.teradata.resultset": ""
     },
     "output_type": "execute_result"
    },
    {
     "data": {
      "text/plain": [
       "Success: 1 rows affected"
      ]
     },
     "execution_count": 9,
     "metadata": {
      "application/vnd.teradata.resultset": ""
     },
     "output_type": "execute_result"
    },
    {
     "data": {
      "text/plain": [
       "Success: 1 rows affected"
      ]
     },
     "execution_count": 9,
     "metadata": {
      "application/vnd.teradata.resultset": ""
     },
     "output_type": "execute_result"
    },
    {
     "data": {
      "text/plain": [
       "Success: 1 rows affected"
      ]
     },
     "execution_count": 9,
     "metadata": {
      "application/vnd.teradata.resultset": ""
     },
     "output_type": "execute_result"
    },
    {
     "data": {
      "text/plain": [
       "Success: 1 rows affected"
      ]
     },
     "execution_count": 9,
     "metadata": {
      "application/vnd.teradata.resultset": ""
     },
     "output_type": "execute_result"
    },
    {
     "data": {
      "text/plain": [
       "Success: 1 rows affected"
      ]
     },
     "execution_count": 9,
     "metadata": {
      "application/vnd.teradata.resultset": ""
     },
     "output_type": "execute_result"
    },
    {
     "data": {
      "text/plain": [
       "Success: 1 rows affected"
      ]
     },
     "execution_count": 9,
     "metadata": {
      "application/vnd.teradata.resultset": ""
     },
     "output_type": "execute_result"
    },
    {
     "data": {
      "text/plain": [
       "Success: 1 rows affected"
      ]
     },
     "execution_count": 9,
     "metadata": {
      "application/vnd.teradata.resultset": ""
     },
     "output_type": "execute_result"
    },
    {
     "data": {
      "text/plain": [
       "Success: 1 rows affected"
      ]
     },
     "execution_count": 9,
     "metadata": {
      "application/vnd.teradata.resultset": ""
     },
     "output_type": "execute_result"
    },
    {
     "data": {
      "text/plain": [
       "Success: 1 rows affected"
      ]
     },
     "execution_count": 9,
     "metadata": {
      "application/vnd.teradata.resultset": ""
     },
     "output_type": "execute_result"
    },
    {
     "data": {
      "text/plain": [
       "Success: 1 rows affected"
      ]
     },
     "execution_count": 9,
     "metadata": {
      "application/vnd.teradata.resultset": ""
     },
     "output_type": "execute_result"
    },
    {
     "data": {
      "text/plain": [
       "Success: 1 rows affected"
      ]
     },
     "execution_count": 9,
     "metadata": {
      "application/vnd.teradata.resultset": ""
     },
     "output_type": "execute_result"
    },
    {
     "data": {
      "text/plain": [
       "Success: 1 rows affected"
      ]
     },
     "execution_count": 9,
     "metadata": {
      "application/vnd.teradata.resultset": ""
     },
     "output_type": "execute_result"
    },
    {
     "data": {
      "text/plain": [
       "Success: 1 rows affected"
      ]
     },
     "execution_count": 9,
     "metadata": {
      "application/vnd.teradata.resultset": ""
     },
     "output_type": "execute_result"
    },
    {
     "data": {
      "text/plain": [
       "Success: 1 rows affected"
      ]
     },
     "execution_count": 9,
     "metadata": {
      "application/vnd.teradata.resultset": ""
     },
     "output_type": "execute_result"
    },
    {
     "data": {
      "text/plain": [
       "Success: 1 rows affected"
      ]
     },
     "execution_count": 9,
     "metadata": {
      "application/vnd.teradata.resultset": ""
     },
     "output_type": "execute_result"
    },
    {
     "data": {
      "text/plain": [
       "Success: 1 rows affected"
      ]
     },
     "execution_count": 9,
     "metadata": {
      "application/vnd.teradata.resultset": ""
     },
     "output_type": "execute_result"
    },
    {
     "data": {
      "text/plain": [
       "Success: 1 rows affected"
      ]
     },
     "execution_count": 9,
     "metadata": {
      "application/vnd.teradata.resultset": ""
     },
     "output_type": "execute_result"
    },
    {
     "data": {
      "text/plain": [
       "Success: 1 rows affected"
      ]
     },
     "execution_count": 9,
     "metadata": {
      "application/vnd.teradata.resultset": ""
     },
     "output_type": "execute_result"
    },
    {
     "data": {
      "text/plain": [
       "Success: 1 rows affected"
      ]
     },
     "execution_count": 9,
     "metadata": {
      "application/vnd.teradata.resultset": ""
     },
     "output_type": "execute_result"
    },
    {
     "data": {
      "text/plain": [
       "Success: 1 rows affected"
      ]
     },
     "execution_count": 9,
     "metadata": {
      "application/vnd.teradata.resultset": ""
     },
     "output_type": "execute_result"
    },
    {
     "data": {
      "text/plain": [
       "Success: 1 rows affected"
      ]
     },
     "execution_count": 9,
     "metadata": {
      "application/vnd.teradata.resultset": ""
     },
     "output_type": "execute_result"
    },
    {
     "data": {
      "text/plain": [
       "Success: 1 rows affected"
      ]
     },
     "execution_count": 9,
     "metadata": {
      "application/vnd.teradata.resultset": ""
     },
     "output_type": "execute_result"
    },
    {
     "data": {
      "text/plain": [
       "Success: 1 rows affected"
      ]
     },
     "execution_count": 9,
     "metadata": {
      "application/vnd.teradata.resultset": ""
     },
     "output_type": "execute_result"
    },
    {
     "data": {
      "text/plain": [
       "Success: 1 rows affected"
      ]
     },
     "execution_count": 9,
     "metadata": {
      "application/vnd.teradata.resultset": ""
     },
     "output_type": "execute_result"
    },
    {
     "data": {
      "text/plain": [
       "Success: 1 rows affected"
      ]
     },
     "execution_count": 9,
     "metadata": {
      "application/vnd.teradata.resultset": ""
     },
     "output_type": "execute_result"
    },
    {
     "data": {
      "text/plain": [
       "Success: 1 rows affected"
      ]
     },
     "execution_count": 9,
     "metadata": {
      "application/vnd.teradata.resultset": ""
     },
     "output_type": "execute_result"
    },
    {
     "data": {
      "text/plain": [
       "Success: 1 rows affected"
      ]
     },
     "execution_count": 9,
     "metadata": {
      "application/vnd.teradata.resultset": ""
     },
     "output_type": "execute_result"
    },
    {
     "data": {
      "text/plain": [
       "Success: 1 rows affected"
      ]
     },
     "execution_count": 9,
     "metadata": {
      "application/vnd.teradata.resultset": ""
     },
     "output_type": "execute_result"
    },
    {
     "data": {
      "text/plain": [
       "Success: 1 rows affected"
      ]
     },
     "execution_count": 9,
     "metadata": {
      "application/vnd.teradata.resultset": ""
     },
     "output_type": "execute_result"
    },
    {
     "data": {
      "text/plain": [
       "Success: 1 rows affected"
      ]
     },
     "execution_count": 9,
     "metadata": {
      "application/vnd.teradata.resultset": ""
     },
     "output_type": "execute_result"
    },
    {
     "data": {
      "text/plain": [
       "Success: 1 rows affected"
      ]
     },
     "execution_count": 9,
     "metadata": {
      "application/vnd.teradata.resultset": ""
     },
     "output_type": "execute_result"
    },
    {
     "data": {
      "text/plain": [
       "Success: 1 rows affected"
      ]
     },
     "execution_count": 9,
     "metadata": {
      "application/vnd.teradata.resultset": ""
     },
     "output_type": "execute_result"
    },
    {
     "data": {
      "text/plain": [
       "Success: 1 rows affected"
      ]
     },
     "execution_count": 9,
     "metadata": {
      "application/vnd.teradata.resultset": ""
     },
     "output_type": "execute_result"
    },
    {
     "data": {
      "text/plain": [
       "Success: 1 rows affected"
      ]
     },
     "execution_count": 9,
     "metadata": {
      "application/vnd.teradata.resultset": ""
     },
     "output_type": "execute_result"
    },
    {
     "data": {
      "text/plain": [
       "Success: 1 rows affected"
      ]
     },
     "execution_count": 9,
     "metadata": {
      "application/vnd.teradata.resultset": ""
     },
     "output_type": "execute_result"
    },
    {
     "data": {
      "text/plain": [
       "Success: 1 rows affected"
      ]
     },
     "execution_count": 9,
     "metadata": {
      "application/vnd.teradata.resultset": ""
     },
     "output_type": "execute_result"
    },
    {
     "data": {
      "text/plain": [
       "Success: 1 rows affected"
      ]
     },
     "execution_count": 9,
     "metadata": {
      "application/vnd.teradata.resultset": ""
     },
     "output_type": "execute_result"
    },
    {
     "data": {
      "text/plain": [
       "Success: 1 rows affected"
      ]
     },
     "execution_count": 9,
     "metadata": {
      "application/vnd.teradata.resultset": ""
     },
     "output_type": "execute_result"
    },
    {
     "data": {
      "text/plain": [
       "Success: 1 rows affected"
      ]
     },
     "execution_count": 9,
     "metadata": {
      "application/vnd.teradata.resultset": ""
     },
     "output_type": "execute_result"
    },
    {
     "data": {
      "text/plain": [
       "Success: 1 rows affected"
      ]
     },
     "execution_count": 9,
     "metadata": {
      "application/vnd.teradata.resultset": ""
     },
     "output_type": "execute_result"
    },
    {
     "data": {
      "text/plain": [
       "Success: 1 rows affected"
      ]
     },
     "execution_count": 9,
     "metadata": {
      "application/vnd.teradata.resultset": ""
     },
     "output_type": "execute_result"
    },
    {
     "data": {
      "text/plain": [
       "Success: 1 rows affected"
      ]
     },
     "execution_count": 9,
     "metadata": {
      "application/vnd.teradata.resultset": ""
     },
     "output_type": "execute_result"
    },
    {
     "data": {
      "text/plain": [
       "Success: 1 rows affected"
      ]
     },
     "execution_count": 9,
     "metadata": {
      "application/vnd.teradata.resultset": ""
     },
     "output_type": "execute_result"
    },
    {
     "data": {
      "text/plain": [
       "Success: 1 rows affected"
      ]
     },
     "execution_count": 9,
     "metadata": {
      "application/vnd.teradata.resultset": ""
     },
     "output_type": "execute_result"
    },
    {
     "data": {
      "text/plain": [
       "Success: 1 rows affected"
      ]
     },
     "execution_count": 9,
     "metadata": {
      "application/vnd.teradata.resultset": ""
     },
     "output_type": "execute_result"
    },
    {
     "data": {
      "text/plain": [
       "Success: 1 rows affected"
      ]
     },
     "execution_count": 9,
     "metadata": {
      "application/vnd.teradata.resultset": ""
     },
     "output_type": "execute_result"
    },
    {
     "data": {
      "text/plain": [
       "Success: 1 rows affected"
      ]
     },
     "execution_count": 9,
     "metadata": {
      "application/vnd.teradata.resultset": ""
     },
     "output_type": "execute_result"
    },
    {
     "data": {
      "text/plain": [
       "Success: 1 rows affected"
      ]
     },
     "execution_count": 9,
     "metadata": {
      "application/vnd.teradata.resultset": ""
     },
     "output_type": "execute_result"
    },
    {
     "data": {
      "text/plain": [
       "Success: 1 rows affected"
      ]
     },
     "execution_count": 9,
     "metadata": {
      "application/vnd.teradata.resultset": ""
     },
     "output_type": "execute_result"
    },
    {
     "data": {
      "text/plain": [
       "Success: 1 rows affected"
      ]
     },
     "execution_count": 9,
     "metadata": {
      "application/vnd.teradata.resultset": ""
     },
     "output_type": "execute_result"
    },
    {
     "data": {
      "text/plain": [
       "Success: 1 rows affected"
      ]
     },
     "execution_count": 9,
     "metadata": {
      "application/vnd.teradata.resultset": ""
     },
     "output_type": "execute_result"
    },
    {
     "data": {
      "text/plain": [
       "Success: 1 rows affected"
      ]
     },
     "execution_count": 9,
     "metadata": {
      "application/vnd.teradata.resultset": ""
     },
     "output_type": "execute_result"
    },
    {
     "data": {
      "text/plain": [
       "Success: 1 rows affected"
      ]
     },
     "execution_count": 9,
     "metadata": {
      "application/vnd.teradata.resultset": ""
     },
     "output_type": "execute_result"
    },
    {
     "data": {
      "text/plain": [
       "Success: 1 rows affected"
      ]
     },
     "execution_count": 9,
     "metadata": {
      "application/vnd.teradata.resultset": ""
     },
     "output_type": "execute_result"
    },
    {
     "data": {
      "text/plain": [
       "Success: 1 rows affected"
      ]
     },
     "execution_count": 9,
     "metadata": {
      "application/vnd.teradata.resultset": ""
     },
     "output_type": "execute_result"
    },
    {
     "data": {
      "text/plain": [
       "Success: 1 rows affected"
      ]
     },
     "execution_count": 9,
     "metadata": {
      "application/vnd.teradata.resultset": ""
     },
     "output_type": "execute_result"
    },
    {
     "data": {
      "text/plain": [
       "Success: 1 rows affected"
      ]
     },
     "execution_count": 9,
     "metadata": {
      "application/vnd.teradata.resultset": ""
     },
     "output_type": "execute_result"
    },
    {
     "data": {
      "text/plain": [
       "Success: 1 rows affected"
      ]
     },
     "execution_count": 9,
     "metadata": {
      "application/vnd.teradata.resultset": ""
     },
     "output_type": "execute_result"
    },
    {
     "data": {
      "text/plain": [
       "Success: 1 rows affected"
      ]
     },
     "execution_count": 9,
     "metadata": {
      "application/vnd.teradata.resultset": ""
     },
     "output_type": "execute_result"
    },
    {
     "data": {
      "text/plain": [
       "Success: 1 rows affected"
      ]
     },
     "execution_count": 9,
     "metadata": {
      "application/vnd.teradata.resultset": ""
     },
     "output_type": "execute_result"
    },
    {
     "data": {
      "text/plain": [
       "Success: 1 rows affected"
      ]
     },
     "execution_count": 9,
     "metadata": {
      "application/vnd.teradata.resultset": ""
     },
     "output_type": "execute_result"
    },
    {
     "data": {
      "text/plain": [
       "Success: 1 rows affected"
      ]
     },
     "execution_count": 9,
     "metadata": {
      "application/vnd.teradata.resultset": ""
     },
     "output_type": "execute_result"
    },
    {
     "data": {
      "text/plain": [
       "Success: 1 rows affected"
      ]
     },
     "execution_count": 9,
     "metadata": {
      "application/vnd.teradata.resultset": ""
     },
     "output_type": "execute_result"
    },
    {
     "data": {
      "text/plain": [
       "Success: 1 rows affected"
      ]
     },
     "execution_count": 9,
     "metadata": {
      "application/vnd.teradata.resultset": ""
     },
     "output_type": "execute_result"
    },
    {
     "data": {
      "text/plain": [
       "Success: 1 rows affected"
      ]
     },
     "execution_count": 9,
     "metadata": {
      "application/vnd.teradata.resultset": ""
     },
     "output_type": "execute_result"
    },
    {
     "data": {
      "text/plain": [
       "Success: 1 rows affected"
      ]
     },
     "execution_count": 9,
     "metadata": {
      "application/vnd.teradata.resultset": ""
     },
     "output_type": "execute_result"
    },
    {
     "data": {
      "text/plain": [
       "Success: 1 rows affected"
      ]
     },
     "execution_count": 9,
     "metadata": {
      "application/vnd.teradata.resultset": ""
     },
     "output_type": "execute_result"
    },
    {
     "data": {
      "text/plain": [
       "Success: 1 rows affected"
      ]
     },
     "execution_count": 9,
     "metadata": {
      "application/vnd.teradata.resultset": ""
     },
     "output_type": "execute_result"
    },
    {
     "data": {
      "text/plain": [
       "Success: 1 rows affected"
      ]
     },
     "execution_count": 9,
     "metadata": {
      "application/vnd.teradata.resultset": ""
     },
     "output_type": "execute_result"
    },
    {
     "data": {
      "text/plain": [
       "Success: 1 rows affected"
      ]
     },
     "execution_count": 9,
     "metadata": {
      "application/vnd.teradata.resultset": ""
     },
     "output_type": "execute_result"
    },
    {
     "data": {
      "text/plain": [
       "Success: 1 rows affected"
      ]
     },
     "execution_count": 9,
     "metadata": {
      "application/vnd.teradata.resultset": ""
     },
     "output_type": "execute_result"
    },
    {
     "data": {
      "text/plain": [
       "Success: 1 rows affected"
      ]
     },
     "execution_count": 9,
     "metadata": {
      "application/vnd.teradata.resultset": ""
     },
     "output_type": "execute_result"
    },
    {
     "data": {
      "text/plain": [
       "Success: 1 rows affected"
      ]
     },
     "execution_count": 9,
     "metadata": {
      "application/vnd.teradata.resultset": ""
     },
     "output_type": "execute_result"
    },
    {
     "data": {
      "text/plain": [
       "Success: 1 rows affected"
      ]
     },
     "execution_count": 9,
     "metadata": {
      "application/vnd.teradata.resultset": ""
     },
     "output_type": "execute_result"
    },
    {
     "data": {
      "text/plain": [
       "Success: 1 rows affected"
      ]
     },
     "execution_count": 9,
     "metadata": {
      "application/vnd.teradata.resultset": ""
     },
     "output_type": "execute_result"
    },
    {
     "data": {
      "text/plain": [
       "Success: 1 rows affected"
      ]
     },
     "execution_count": 9,
     "metadata": {
      "application/vnd.teradata.resultset": ""
     },
     "output_type": "execute_result"
    },
    {
     "data": {
      "text/plain": [
       "Success: 1 rows affected"
      ]
     },
     "execution_count": 9,
     "metadata": {
      "application/vnd.teradata.resultset": ""
     },
     "output_type": "execute_result"
    },
    {
     "data": {
      "text/plain": [
       "Success: 1 rows affected"
      ]
     },
     "execution_count": 9,
     "metadata": {
      "application/vnd.teradata.resultset": ""
     },
     "output_type": "execute_result"
    },
    {
     "data": {
      "text/plain": [
       "Success: 1 rows affected"
      ]
     },
     "execution_count": 9,
     "metadata": {
      "application/vnd.teradata.resultset": ""
     },
     "output_type": "execute_result"
    },
    {
     "data": {
      "text/plain": [
       "Success: 1 rows affected"
      ]
     },
     "execution_count": 9,
     "metadata": {
      "application/vnd.teradata.resultset": ""
     },
     "output_type": "execute_result"
    },
    {
     "data": {
      "text/plain": [
       "Success: 1 rows affected"
      ]
     },
     "execution_count": 9,
     "metadata": {
      "application/vnd.teradata.resultset": ""
     },
     "output_type": "execute_result"
    },
    {
     "data": {
      "text/plain": [
       "Success: 1 rows affected"
      ]
     },
     "execution_count": 9,
     "metadata": {
      "application/vnd.teradata.resultset": ""
     },
     "output_type": "execute_result"
    },
    {
     "data": {
      "text/plain": [
       "Success: 1 rows affected"
      ]
     },
     "execution_count": 9,
     "metadata": {
      "application/vnd.teradata.resultset": ""
     },
     "output_type": "execute_result"
    },
    {
     "data": {
      "text/plain": [
       "Success: 1 rows affected"
      ]
     },
     "execution_count": 9,
     "metadata": {
      "application/vnd.teradata.resultset": ""
     },
     "output_type": "execute_result"
    },
    {
     "data": {
      "text/plain": [
       "Success: 1 rows affected"
      ]
     },
     "execution_count": 9,
     "metadata": {
      "application/vnd.teradata.resultset": ""
     },
     "output_type": "execute_result"
    },
    {
     "data": {
      "text/plain": [
       "Success: 1 rows affected"
      ]
     },
     "execution_count": 9,
     "metadata": {
      "application/vnd.teradata.resultset": ""
     },
     "output_type": "execute_result"
    },
    {
     "data": {
      "text/plain": [
       "Success: 1 rows affected"
      ]
     },
     "execution_count": 9,
     "metadata": {
      "application/vnd.teradata.resultset": ""
     },
     "output_type": "execute_result"
    },
    {
     "data": {
      "text/plain": [
       "Success: 1 rows affected"
      ]
     },
     "execution_count": 9,
     "metadata": {
      "application/vnd.teradata.resultset": ""
     },
     "output_type": "execute_result"
    },
    {
     "data": {
      "text/plain": [
       "Success: 1 rows affected"
      ]
     },
     "execution_count": 9,
     "metadata": {
      "application/vnd.teradata.resultset": ""
     },
     "output_type": "execute_result"
    },
    {
     "data": {
      "text/plain": [
       "Success: 1 rows affected"
      ]
     },
     "execution_count": 9,
     "metadata": {
      "application/vnd.teradata.resultset": ""
     },
     "output_type": "execute_result"
    },
    {
     "data": {
      "text/plain": [
       "Success: 1 rows affected"
      ]
     },
     "execution_count": 9,
     "metadata": {
      "application/vnd.teradata.resultset": ""
     },
     "output_type": "execute_result"
    },
    {
     "data": {
      "text/plain": [
       "Success: 1 rows affected"
      ]
     },
     "execution_count": 9,
     "metadata": {
      "application/vnd.teradata.resultset": ""
     },
     "output_type": "execute_result"
    },
    {
     "data": {
      "text/plain": [
       "Success: 1 rows affected"
      ]
     },
     "execution_count": 9,
     "metadata": {
      "application/vnd.teradata.resultset": ""
     },
     "output_type": "execute_result"
    },
    {
     "data": {
      "text/plain": [
       "Success: 1 rows affected"
      ]
     },
     "execution_count": 9,
     "metadata": {
      "application/vnd.teradata.resultset": ""
     },
     "output_type": "execute_result"
    },
    {
     "data": {
      "text/plain": [
       "Success: 1 rows affected"
      ]
     },
     "execution_count": 9,
     "metadata": {
      "application/vnd.teradata.resultset": ""
     },
     "output_type": "execute_result"
    },
    {
     "data": {
      "text/plain": [
       "Success: 1 rows affected"
      ]
     },
     "execution_count": 9,
     "metadata": {
      "application/vnd.teradata.resultset": ""
     },
     "output_type": "execute_result"
    },
    {
     "data": {
      "text/plain": [
       "Success: 1 rows affected"
      ]
     },
     "execution_count": 9,
     "metadata": {
      "application/vnd.teradata.resultset": ""
     },
     "output_type": "execute_result"
    },
    {
     "data": {
      "text/plain": [
       "Success: 1 rows affected"
      ]
     },
     "execution_count": 9,
     "metadata": {
      "application/vnd.teradata.resultset": ""
     },
     "output_type": "execute_result"
    },
    {
     "data": {
      "text/plain": [
       "Success: 1 rows affected"
      ]
     },
     "execution_count": 9,
     "metadata": {
      "application/vnd.teradata.resultset": ""
     },
     "output_type": "execute_result"
    },
    {
     "data": {
      "text/plain": [
       "Success: 1 rows affected"
      ]
     },
     "execution_count": 9,
     "metadata": {
      "application/vnd.teradata.resultset": ""
     },
     "output_type": "execute_result"
    },
    {
     "data": {
      "text/plain": [
       "Success: 1 rows affected"
      ]
     },
     "execution_count": 9,
     "metadata": {
      "application/vnd.teradata.resultset": ""
     },
     "output_type": "execute_result"
    },
    {
     "data": {
      "text/plain": [
       "Success: 1 rows affected"
      ]
     },
     "execution_count": 9,
     "metadata": {
      "application/vnd.teradata.resultset": ""
     },
     "output_type": "execute_result"
    },
    {
     "data": {
      "text/plain": [
       "Success: 1 rows affected"
      ]
     },
     "execution_count": 9,
     "metadata": {
      "application/vnd.teradata.resultset": ""
     },
     "output_type": "execute_result"
    },
    {
     "data": {
      "text/plain": [
       "Success: 1 rows affected"
      ]
     },
     "execution_count": 9,
     "metadata": {
      "application/vnd.teradata.resultset": ""
     },
     "output_type": "execute_result"
    },
    {
     "data": {
      "text/plain": [
       "Success: 1 rows affected"
      ]
     },
     "execution_count": 9,
     "metadata": {
      "application/vnd.teradata.resultset": ""
     },
     "output_type": "execute_result"
    },
    {
     "data": {
      "text/plain": [
       "Success: 1 rows affected"
      ]
     },
     "execution_count": 9,
     "metadata": {
      "application/vnd.teradata.resultset": ""
     },
     "output_type": "execute_result"
    },
    {
     "data": {
      "text/plain": [
       "Success: 1 rows affected"
      ]
     },
     "execution_count": 9,
     "metadata": {
      "application/vnd.teradata.resultset": ""
     },
     "output_type": "execute_result"
    },
    {
     "data": {
      "text/plain": [
       "Success: 1 rows affected"
      ]
     },
     "execution_count": 9,
     "metadata": {
      "application/vnd.teradata.resultset": ""
     },
     "output_type": "execute_result"
    },
    {
     "data": {
      "text/plain": [
       "Success: 1 rows affected"
      ]
     },
     "execution_count": 9,
     "metadata": {
      "application/vnd.teradata.resultset": ""
     },
     "output_type": "execute_result"
    },
    {
     "data": {
      "text/plain": [
       "Success: 1 rows affected"
      ]
     },
     "execution_count": 9,
     "metadata": {
      "application/vnd.teradata.resultset": ""
     },
     "output_type": "execute_result"
    },
    {
     "data": {
      "text/plain": [
       "Success: 1 rows affected"
      ]
     },
     "execution_count": 9,
     "metadata": {
      "application/vnd.teradata.resultset": ""
     },
     "output_type": "execute_result"
    },
    {
     "data": {
      "text/plain": [
       "Success: 1 rows affected"
      ]
     },
     "execution_count": 9,
     "metadata": {
      "application/vnd.teradata.resultset": ""
     },
     "output_type": "execute_result"
    },
    {
     "data": {
      "text/plain": [
       "Success: 1 rows affected"
      ]
     },
     "execution_count": 9,
     "metadata": {
      "application/vnd.teradata.resultset": ""
     },
     "output_type": "execute_result"
    },
    {
     "data": {
      "text/plain": [
       "Success: 1 rows affected"
      ]
     },
     "execution_count": 9,
     "metadata": {
      "application/vnd.teradata.resultset": ""
     },
     "output_type": "execute_result"
    },
    {
     "data": {
      "text/plain": [
       "Success: 1 rows affected"
      ]
     },
     "execution_count": 9,
     "metadata": {
      "application/vnd.teradata.resultset": ""
     },
     "output_type": "execute_result"
    },
    {
     "data": {
      "text/plain": [
       "Success: 1 rows affected"
      ]
     },
     "execution_count": 9,
     "metadata": {
      "application/vnd.teradata.resultset": ""
     },
     "output_type": "execute_result"
    },
    {
     "data": {
      "text/plain": [
       "Success: 1 rows affected"
      ]
     },
     "execution_count": 9,
     "metadata": {
      "application/vnd.teradata.resultset": ""
     },
     "output_type": "execute_result"
    },
    {
     "data": {
      "text/plain": [
       "Success: 1 rows affected"
      ]
     },
     "execution_count": 9,
     "metadata": {
      "application/vnd.teradata.resultset": ""
     },
     "output_type": "execute_result"
    },
    {
     "data": {
      "text/plain": [
       "Success: 1 rows affected"
      ]
     },
     "execution_count": 9,
     "metadata": {
      "application/vnd.teradata.resultset": ""
     },
     "output_type": "execute_result"
    },
    {
     "data": {
      "text/plain": [
       "Success: 1 rows affected"
      ]
     },
     "execution_count": 9,
     "metadata": {
      "application/vnd.teradata.resultset": ""
     },
     "output_type": "execute_result"
    },
    {
     "data": {
      "text/plain": [
       "Success: 1 rows affected"
      ]
     },
     "execution_count": 9,
     "metadata": {
      "application/vnd.teradata.resultset": ""
     },
     "output_type": "execute_result"
    },
    {
     "data": {
      "text/plain": [
       "Success: 1 rows affected"
      ]
     },
     "execution_count": 9,
     "metadata": {
      "application/vnd.teradata.resultset": ""
     },
     "output_type": "execute_result"
    },
    {
     "data": {
      "text/plain": [
       "Success: 1 rows affected"
      ]
     },
     "execution_count": 9,
     "metadata": {
      "application/vnd.teradata.resultset": ""
     },
     "output_type": "execute_result"
    },
    {
     "data": {
      "text/plain": [
       "Success: 1 rows affected"
      ]
     },
     "execution_count": 9,
     "metadata": {
      "application/vnd.teradata.resultset": ""
     },
     "output_type": "execute_result"
    },
    {
     "data": {
      "text/plain": [
       "Success: 1 rows affected"
      ]
     },
     "execution_count": 9,
     "metadata": {
      "application/vnd.teradata.resultset": ""
     },
     "output_type": "execute_result"
    },
    {
     "data": {
      "text/plain": [
       "Success: 1 rows affected"
      ]
     },
     "execution_count": 9,
     "metadata": {
      "application/vnd.teradata.resultset": ""
     },
     "output_type": "execute_result"
    },
    {
     "data": {
      "text/plain": [
       "Success: 1 rows affected"
      ]
     },
     "execution_count": 9,
     "metadata": {
      "application/vnd.teradata.resultset": ""
     },
     "output_type": "execute_result"
    },
    {
     "data": {
      "text/plain": [
       "Success: 1 rows affected"
      ]
     },
     "execution_count": 9,
     "metadata": {
      "application/vnd.teradata.resultset": ""
     },
     "output_type": "execute_result"
    },
    {
     "data": {
      "text/plain": [
       "Success: 1 rows affected"
      ]
     },
     "execution_count": 9,
     "metadata": {
      "application/vnd.teradata.resultset": ""
     },
     "output_type": "execute_result"
    },
    {
     "data": {
      "text/plain": [
       "Success: 1 rows affected"
      ]
     },
     "execution_count": 9,
     "metadata": {
      "application/vnd.teradata.resultset": ""
     },
     "output_type": "execute_result"
    },
    {
     "data": {
      "text/plain": [
       "Success: 1 rows affected"
      ]
     },
     "execution_count": 9,
     "metadata": {
      "application/vnd.teradata.resultset": ""
     },
     "output_type": "execute_result"
    },
    {
     "data": {
      "text/plain": [
       "Success: 1 rows affected"
      ]
     },
     "execution_count": 9,
     "metadata": {
      "application/vnd.teradata.resultset": ""
     },
     "output_type": "execute_result"
    },
    {
     "data": {
      "text/plain": [
       "Success: 1 rows affected"
      ]
     },
     "execution_count": 9,
     "metadata": {
      "application/vnd.teradata.resultset": ""
     },
     "output_type": "execute_result"
    },
    {
     "data": {
      "text/plain": [
       "Success: 1 rows affected"
      ]
     },
     "execution_count": 9,
     "metadata": {
      "application/vnd.teradata.resultset": ""
     },
     "output_type": "execute_result"
    },
    {
     "data": {
      "text/plain": [
       "Success: 1 rows affected"
      ]
     },
     "execution_count": 9,
     "metadata": {
      "application/vnd.teradata.resultset": ""
     },
     "output_type": "execute_result"
    },
    {
     "data": {
      "text/plain": [
       "Success: 1 rows affected"
      ]
     },
     "execution_count": 9,
     "metadata": {
      "application/vnd.teradata.resultset": ""
     },
     "output_type": "execute_result"
    },
    {
     "data": {
      "text/plain": [
       "Success: 1 rows affected"
      ]
     },
     "execution_count": 9,
     "metadata": {
      "application/vnd.teradata.resultset": ""
     },
     "output_type": "execute_result"
    },
    {
     "data": {
      "text/plain": [
       "Success: 1 rows affected"
      ]
     },
     "execution_count": 9,
     "metadata": {
      "application/vnd.teradata.resultset": ""
     },
     "output_type": "execute_result"
    },
    {
     "data": {
      "text/plain": [
       "Success: 1 rows affected"
      ]
     },
     "execution_count": 9,
     "metadata": {
      "application/vnd.teradata.resultset": ""
     },
     "output_type": "execute_result"
    },
    {
     "data": {
      "text/plain": [
       "Success: 1 rows affected"
      ]
     },
     "execution_count": 9,
     "metadata": {
      "application/vnd.teradata.resultset": ""
     },
     "output_type": "execute_result"
    },
    {
     "data": {
      "text/plain": [
       "Success: 1 rows affected"
      ]
     },
     "execution_count": 9,
     "metadata": {
      "application/vnd.teradata.resultset": ""
     },
     "output_type": "execute_result"
    },
    {
     "data": {
      "text/plain": [
       "Success: 1 rows affected"
      ]
     },
     "execution_count": 9,
     "metadata": {
      "application/vnd.teradata.resultset": ""
     },
     "output_type": "execute_result"
    },
    {
     "data": {
      "text/plain": [
       "Success: 1 rows affected"
      ]
     },
     "execution_count": 9,
     "metadata": {
      "application/vnd.teradata.resultset": ""
     },
     "output_type": "execute_result"
    },
    {
     "data": {
      "text/plain": [
       "Success: 1 rows affected"
      ]
     },
     "execution_count": 9,
     "metadata": {
      "application/vnd.teradata.resultset": ""
     },
     "output_type": "execute_result"
    },
    {
     "data": {
      "text/plain": [
       "Success: 1 rows affected"
      ]
     },
     "execution_count": 9,
     "metadata": {
      "application/vnd.teradata.resultset": ""
     },
     "output_type": "execute_result"
    },
    {
     "data": {
      "text/plain": [
       "Success: 1 rows affected"
      ]
     },
     "execution_count": 9,
     "metadata": {
      "application/vnd.teradata.resultset": ""
     },
     "output_type": "execute_result"
    },
    {
     "data": {
      "text/plain": [
       "Success: 1 rows affected"
      ]
     },
     "execution_count": 9,
     "metadata": {
      "application/vnd.teradata.resultset": ""
     },
     "output_type": "execute_result"
    },
    {
     "data": {
      "text/plain": [
       "Success: 1 rows affected"
      ]
     },
     "execution_count": 9,
     "metadata": {
      "application/vnd.teradata.resultset": ""
     },
     "output_type": "execute_result"
    },
    {
     "data": {
      "text/plain": [
       "Success: 1 rows affected"
      ]
     },
     "execution_count": 9,
     "metadata": {
      "application/vnd.teradata.resultset": ""
     },
     "output_type": "execute_result"
    },
    {
     "data": {
      "text/plain": [
       "Success: 1 rows affected"
      ]
     },
     "execution_count": 9,
     "metadata": {
      "application/vnd.teradata.resultset": ""
     },
     "output_type": "execute_result"
    },
    {
     "data": {
      "text/plain": [
       "Success: 1 rows affected"
      ]
     },
     "execution_count": 9,
     "metadata": {
      "application/vnd.teradata.resultset": ""
     },
     "output_type": "execute_result"
    },
    {
     "data": {
      "text/plain": [
       "Success: 1 rows affected"
      ]
     },
     "execution_count": 9,
     "metadata": {
      "application/vnd.teradata.resultset": ""
     },
     "output_type": "execute_result"
    },
    {
     "data": {
      "text/plain": [
       "Success: 1 rows affected"
      ]
     },
     "execution_count": 9,
     "metadata": {
      "application/vnd.teradata.resultset": ""
     },
     "output_type": "execute_result"
    },
    {
     "data": {
      "text/plain": [
       "Success: 1 rows affected"
      ]
     },
     "execution_count": 9,
     "metadata": {
      "application/vnd.teradata.resultset": ""
     },
     "output_type": "execute_result"
    },
    {
     "data": {
      "text/plain": [
       "Success: 1 rows affected"
      ]
     },
     "execution_count": 9,
     "metadata": {
      "application/vnd.teradata.resultset": ""
     },
     "output_type": "execute_result"
    },
    {
     "data": {
      "text/plain": [
       "Success: 1 rows affected"
      ]
     },
     "execution_count": 9,
     "metadata": {
      "application/vnd.teradata.resultset": ""
     },
     "output_type": "execute_result"
    },
    {
     "data": {
      "text/plain": [
       "Success: 1 rows affected"
      ]
     },
     "execution_count": 9,
     "metadata": {
      "application/vnd.teradata.resultset": ""
     },
     "output_type": "execute_result"
    },
    {
     "data": {
      "text/plain": [
       "Success: 1 rows affected"
      ]
     },
     "execution_count": 9,
     "metadata": {
      "application/vnd.teradata.resultset": ""
     },
     "output_type": "execute_result"
    },
    {
     "data": {
      "text/plain": [
       "Success: 1 rows affected"
      ]
     },
     "execution_count": 9,
     "metadata": {
      "application/vnd.teradata.resultset": ""
     },
     "output_type": "execute_result"
    },
    {
     "data": {
      "text/plain": [
       "Success: 1 rows affected"
      ]
     },
     "execution_count": 9,
     "metadata": {
      "application/vnd.teradata.resultset": ""
     },
     "output_type": "execute_result"
    },
    {
     "data": {
      "text/plain": [
       "Success: 1 rows affected"
      ]
     },
     "execution_count": 9,
     "metadata": {
      "application/vnd.teradata.resultset": ""
     },
     "output_type": "execute_result"
    },
    {
     "data": {
      "text/plain": [
       "Success: 1 rows affected"
      ]
     },
     "execution_count": 9,
     "metadata": {
      "application/vnd.teradata.resultset": ""
     },
     "output_type": "execute_result"
    },
    {
     "data": {
      "text/plain": [
       "Success: 1 rows affected"
      ]
     },
     "execution_count": 9,
     "metadata": {
      "application/vnd.teradata.resultset": ""
     },
     "output_type": "execute_result"
    },
    {
     "data": {
      "text/plain": [
       "Success: 1 rows affected"
      ]
     },
     "execution_count": 9,
     "metadata": {
      "application/vnd.teradata.resultset": ""
     },
     "output_type": "execute_result"
    },
    {
     "data": {
      "text/plain": [
       "Success: 1 rows affected"
      ]
     },
     "execution_count": 9,
     "metadata": {
      "application/vnd.teradata.resultset": ""
     },
     "output_type": "execute_result"
    },
    {
     "data": {
      "text/plain": [
       "Success: 1 rows affected"
      ]
     },
     "execution_count": 9,
     "metadata": {
      "application/vnd.teradata.resultset": ""
     },
     "output_type": "execute_result"
    },
    {
     "data": {
      "text/plain": [
       "Success: 1 rows affected"
      ]
     },
     "execution_count": 9,
     "metadata": {
      "application/vnd.teradata.resultset": ""
     },
     "output_type": "execute_result"
    },
    {
     "data": {
      "text/plain": [
       "Success: 1 rows affected"
      ]
     },
     "execution_count": 9,
     "metadata": {
      "application/vnd.teradata.resultset": ""
     },
     "output_type": "execute_result"
    },
    {
     "data": {
      "text/plain": [
       "Success: 1 rows affected"
      ]
     },
     "execution_count": 9,
     "metadata": {
      "application/vnd.teradata.resultset": ""
     },
     "output_type": "execute_result"
    },
    {
     "data": {
      "text/plain": [
       "Success: 1 rows affected"
      ]
     },
     "execution_count": 9,
     "metadata": {
      "application/vnd.teradata.resultset": ""
     },
     "output_type": "execute_result"
    },
    {
     "data": {
      "text/plain": [
       "Success: 1 rows affected"
      ]
     },
     "execution_count": 9,
     "metadata": {
      "application/vnd.teradata.resultset": ""
     },
     "output_type": "execute_result"
    },
    {
     "data": {
      "text/plain": [
       "Success: 1 rows affected"
      ]
     },
     "execution_count": 9,
     "metadata": {
      "application/vnd.teradata.resultset": ""
     },
     "output_type": "execute_result"
    },
    {
     "data": {
      "text/plain": [
       "Success: 1 rows affected"
      ]
     },
     "execution_count": 9,
     "metadata": {
      "application/vnd.teradata.resultset": ""
     },
     "output_type": "execute_result"
    },
    {
     "data": {
      "text/plain": [
       "Success: 1 rows affected"
      ]
     },
     "execution_count": 9,
     "metadata": {
      "application/vnd.teradata.resultset": ""
     },
     "output_type": "execute_result"
    },
    {
     "data": {
      "text/plain": [
       "Success: 1 rows affected"
      ]
     },
     "execution_count": 9,
     "metadata": {
      "application/vnd.teradata.resultset": ""
     },
     "output_type": "execute_result"
    },
    {
     "data": {
      "text/plain": [
       "Success: 1 rows affected"
      ]
     },
     "execution_count": 9,
     "metadata": {
      "application/vnd.teradata.resultset": ""
     },
     "output_type": "execute_result"
    },
    {
     "data": {
      "text/plain": [
       "Success: 1 rows affected"
      ]
     },
     "execution_count": 9,
     "metadata": {
      "application/vnd.teradata.resultset": ""
     },
     "output_type": "execute_result"
    },
    {
     "data": {
      "text/plain": [
       "Success: 1 rows affected"
      ]
     },
     "execution_count": 9,
     "metadata": {
      "application/vnd.teradata.resultset": ""
     },
     "output_type": "execute_result"
    },
    {
     "data": {
      "text/plain": [
       "Success: 1 rows affected"
      ]
     },
     "execution_count": 9,
     "metadata": {
      "application/vnd.teradata.resultset": ""
     },
     "output_type": "execute_result"
    },
    {
     "data": {
      "text/plain": [
       "Success: 1 rows affected"
      ]
     },
     "execution_count": 9,
     "metadata": {
      "application/vnd.teradata.resultset": ""
     },
     "output_type": "execute_result"
    },
    {
     "data": {
      "text/plain": [
       "Success: 1 rows affected"
      ]
     },
     "execution_count": 9,
     "metadata": {
      "application/vnd.teradata.resultset": ""
     },
     "output_type": "execute_result"
    },
    {
     "data": {
      "text/plain": [
       "Success: 1 rows affected"
      ]
     },
     "execution_count": 9,
     "metadata": {
      "application/vnd.teradata.resultset": ""
     },
     "output_type": "execute_result"
    },
    {
     "data": {
      "text/plain": [
       "Success: 1 rows affected"
      ]
     },
     "execution_count": 9,
     "metadata": {
      "application/vnd.teradata.resultset": ""
     },
     "output_type": "execute_result"
    },
    {
     "data": {
      "text/plain": [
       "Success: 1 rows affected"
      ]
     },
     "execution_count": 9,
     "metadata": {
      "application/vnd.teradata.resultset": ""
     },
     "output_type": "execute_result"
    },
    {
     "data": {
      "text/plain": [
       "Success: 1 rows affected"
      ]
     },
     "execution_count": 9,
     "metadata": {
      "application/vnd.teradata.resultset": ""
     },
     "output_type": "execute_result"
    },
    {
     "data": {
      "text/plain": [
       "Success: 1 rows affected"
      ]
     },
     "execution_count": 9,
     "metadata": {
      "application/vnd.teradata.resultset": ""
     },
     "output_type": "execute_result"
    },
    {
     "data": {
      "text/plain": [
       "Success: 1 rows affected"
      ]
     },
     "execution_count": 9,
     "metadata": {
      "application/vnd.teradata.resultset": ""
     },
     "output_type": "execute_result"
    },
    {
     "data": {
      "text/plain": [
       "Success: 1 rows affected"
      ]
     },
     "execution_count": 9,
     "metadata": {
      "application/vnd.teradata.resultset": ""
     },
     "output_type": "execute_result"
    },
    {
     "data": {
      "text/plain": [
       "Success: 1 rows affected"
      ]
     },
     "execution_count": 9,
     "metadata": {
      "application/vnd.teradata.resultset": ""
     },
     "output_type": "execute_result"
    },
    {
     "data": {
      "text/plain": [
       "Success: 1 rows affected"
      ]
     },
     "execution_count": 9,
     "metadata": {
      "application/vnd.teradata.resultset": ""
     },
     "output_type": "execute_result"
    },
    {
     "data": {
      "text/plain": [
       "Success: 1 rows affected"
      ]
     },
     "execution_count": 9,
     "metadata": {
      "application/vnd.teradata.resultset": ""
     },
     "output_type": "execute_result"
    },
    {
     "data": {
      "text/plain": [
       "Success: 1 rows affected"
      ]
     },
     "execution_count": 9,
     "metadata": {
      "application/vnd.teradata.resultset": ""
     },
     "output_type": "execute_result"
    },
    {
     "data": {
      "text/plain": [
       "Success: 1 rows affected"
      ]
     },
     "execution_count": 9,
     "metadata": {
      "application/vnd.teradata.resultset": ""
     },
     "output_type": "execute_result"
    },
    {
     "data": {
      "text/plain": [
       "Success: 1 rows affected"
      ]
     },
     "execution_count": 9,
     "metadata": {
      "application/vnd.teradata.resultset": ""
     },
     "output_type": "execute_result"
    },
    {
     "data": {
      "text/plain": [
       "Success: 1 rows affected"
      ]
     },
     "execution_count": 9,
     "metadata": {
      "application/vnd.teradata.resultset": ""
     },
     "output_type": "execute_result"
    },
    {
     "data": {
      "text/plain": [
       "Success: 1 rows affected"
      ]
     },
     "execution_count": 9,
     "metadata": {
      "application/vnd.teradata.resultset": ""
     },
     "output_type": "execute_result"
    },
    {
     "data": {
      "text/plain": [
       "Success: 1 rows affected"
      ]
     },
     "execution_count": 9,
     "metadata": {
      "application/vnd.teradata.resultset": ""
     },
     "output_type": "execute_result"
    },
    {
     "data": {
      "text/plain": [
       "Success: 1 rows affected"
      ]
     },
     "execution_count": 9,
     "metadata": {
      "application/vnd.teradata.resultset": ""
     },
     "output_type": "execute_result"
    },
    {
     "data": {
      "text/plain": [
       "Success: 1 rows affected"
      ]
     },
     "execution_count": 9,
     "metadata": {
      "application/vnd.teradata.resultset": ""
     },
     "output_type": "execute_result"
    },
    {
     "data": {
      "text/plain": [
       "Success: 1 rows affected"
      ]
     },
     "execution_count": 9,
     "metadata": {
      "application/vnd.teradata.resultset": ""
     },
     "output_type": "execute_result"
    },
    {
     "data": {
      "text/plain": [
       "Success: 1 rows affected"
      ]
     },
     "execution_count": 9,
     "metadata": {
      "application/vnd.teradata.resultset": ""
     },
     "output_type": "execute_result"
    },
    {
     "data": {
      "text/plain": [
       "Success: 1 rows affected"
      ]
     },
     "execution_count": 9,
     "metadata": {
      "application/vnd.teradata.resultset": ""
     },
     "output_type": "execute_result"
    },
    {
     "data": {
      "text/plain": [
       "Success: 1 rows affected"
      ]
     },
     "execution_count": 9,
     "metadata": {
      "application/vnd.teradata.resultset": ""
     },
     "output_type": "execute_result"
    },
    {
     "data": {
      "text/plain": [
       "Success: 1 rows affected"
      ]
     },
     "execution_count": 9,
     "metadata": {
      "application/vnd.teradata.resultset": ""
     },
     "output_type": "execute_result"
    },
    {
     "data": {
      "text/plain": [
       "Success: 1 rows affected"
      ]
     },
     "execution_count": 9,
     "metadata": {
      "application/vnd.teradata.resultset": ""
     },
     "output_type": "execute_result"
    },
    {
     "data": {
      "text/plain": [
       "Success: 1 rows affected"
      ]
     },
     "execution_count": 9,
     "metadata": {
      "application/vnd.teradata.resultset": ""
     },
     "output_type": "execute_result"
    },
    {
     "data": {
      "text/plain": [
       "Success: 1 rows affected"
      ]
     },
     "execution_count": 9,
     "metadata": {
      "application/vnd.teradata.resultset": ""
     },
     "output_type": "execute_result"
    },
    {
     "data": {
      "text/plain": [
       "Success: 1 rows affected"
      ]
     },
     "execution_count": 9,
     "metadata": {
      "application/vnd.teradata.resultset": ""
     },
     "output_type": "execute_result"
    },
    {
     "data": {
      "text/plain": [
       "Success: 1 rows affected"
      ]
     },
     "execution_count": 9,
     "metadata": {
      "application/vnd.teradata.resultset": ""
     },
     "output_type": "execute_result"
    },
    {
     "data": {
      "text/plain": [
       "Success: 1 rows affected"
      ]
     },
     "execution_count": 9,
     "metadata": {
      "application/vnd.teradata.resultset": ""
     },
     "output_type": "execute_result"
    },
    {
     "data": {
      "text/plain": [
       "Success: 1 rows affected"
      ]
     },
     "execution_count": 9,
     "metadata": {
      "application/vnd.teradata.resultset": ""
     },
     "output_type": "execute_result"
    },
    {
     "data": {
      "text/plain": [
       "Success: 1 rows affected"
      ]
     },
     "execution_count": 9,
     "metadata": {
      "application/vnd.teradata.resultset": ""
     },
     "output_type": "execute_result"
    },
    {
     "data": {
      "text/plain": [
       "Success: 1 rows affected"
      ]
     },
     "execution_count": 9,
     "metadata": {
      "application/vnd.teradata.resultset": ""
     },
     "output_type": "execute_result"
    },
    {
     "data": {
      "text/plain": [
       "Success: 1 rows affected"
      ]
     },
     "execution_count": 9,
     "metadata": {
      "application/vnd.teradata.resultset": ""
     },
     "output_type": "execute_result"
    },
    {
     "data": {
      "text/plain": [
       "Success: 1 rows affected"
      ]
     },
     "execution_count": 9,
     "metadata": {
      "application/vnd.teradata.resultset": ""
     },
     "output_type": "execute_result"
    },
    {
     "data": {
      "text/plain": [
       "Success: 1 rows affected"
      ]
     },
     "execution_count": 9,
     "metadata": {
      "application/vnd.teradata.resultset": ""
     },
     "output_type": "execute_result"
    },
    {
     "data": {
      "text/plain": [
       "Success: 1 rows affected"
      ]
     },
     "execution_count": 9,
     "metadata": {
      "application/vnd.teradata.resultset": ""
     },
     "output_type": "execute_result"
    },
    {
     "data": {
      "text/plain": [
       "Success: 1 rows affected"
      ]
     },
     "execution_count": 9,
     "metadata": {
      "application/vnd.teradata.resultset": ""
     },
     "output_type": "execute_result"
    },
    {
     "data": {
      "text/plain": [
       "Success: 1 rows affected"
      ]
     },
     "execution_count": 9,
     "metadata": {
      "application/vnd.teradata.resultset": ""
     },
     "output_type": "execute_result"
    },
    {
     "data": {
      "text/plain": [
       "Success: 1 rows affected"
      ]
     },
     "execution_count": 9,
     "metadata": {
      "application/vnd.teradata.resultset": ""
     },
     "output_type": "execute_result"
    },
    {
     "data": {
      "text/plain": [
       "Success: 1 rows affected"
      ]
     },
     "execution_count": 9,
     "metadata": {
      "application/vnd.teradata.resultset": ""
     },
     "output_type": "execute_result"
    },
    {
     "data": {
      "text/plain": [
       "Success: 1 rows affected"
      ]
     },
     "execution_count": 9,
     "metadata": {
      "application/vnd.teradata.resultset": ""
     },
     "output_type": "execute_result"
    },
    {
     "data": {
      "text/plain": [
       "Success: 1 rows affected"
      ]
     },
     "execution_count": 9,
     "metadata": {
      "application/vnd.teradata.resultset": ""
     },
     "output_type": "execute_result"
    },
    {
     "data": {
      "text/plain": [
       "Success: 1 rows affected"
      ]
     },
     "execution_count": 9,
     "metadata": {
      "application/vnd.teradata.resultset": ""
     },
     "output_type": "execute_result"
    },
    {
     "data": {
      "text/plain": [
       "Success: 1 rows affected"
      ]
     },
     "execution_count": 9,
     "metadata": {
      "application/vnd.teradata.resultset": ""
     },
     "output_type": "execute_result"
    },
    {
     "data": {
      "text/plain": [
       "Success: 1 rows affected"
      ]
     },
     "execution_count": 9,
     "metadata": {
      "application/vnd.teradata.resultset": ""
     },
     "output_type": "execute_result"
    },
    {
     "data": {
      "text/plain": [
       "Success: 1 rows affected"
      ]
     },
     "execution_count": 9,
     "metadata": {
      "application/vnd.teradata.resultset": ""
     },
     "output_type": "execute_result"
    },
    {
     "data": {
      "text/plain": [
       "Success: 1 rows affected"
      ]
     },
     "execution_count": 9,
     "metadata": {
      "application/vnd.teradata.resultset": ""
     },
     "output_type": "execute_result"
    },
    {
     "data": {
      "text/plain": [
       "Success: 1 rows affected"
      ]
     },
     "execution_count": 9,
     "metadata": {
      "application/vnd.teradata.resultset": ""
     },
     "output_type": "execute_result"
    },
    {
     "data": {
      "text/plain": [
       "Success: 1 rows affected"
      ]
     },
     "execution_count": 9,
     "metadata": {
      "application/vnd.teradata.resultset": ""
     },
     "output_type": "execute_result"
    },
    {
     "data": {
      "text/plain": [
       "Success: 1 rows affected"
      ]
     },
     "execution_count": 9,
     "metadata": {
      "application/vnd.teradata.resultset": ""
     },
     "output_type": "execute_result"
    },
    {
     "data": {
      "text/plain": [
       "Success: 1 rows affected"
      ]
     },
     "execution_count": 9,
     "metadata": {
      "application/vnd.teradata.resultset": ""
     },
     "output_type": "execute_result"
    },
    {
     "data": {
      "text/plain": [
       "Success: 1 rows affected"
      ]
     },
     "execution_count": 9,
     "metadata": {
      "application/vnd.teradata.resultset": ""
     },
     "output_type": "execute_result"
    },
    {
     "data": {
      "text/plain": [
       "Success: 1 rows affected"
      ]
     },
     "execution_count": 9,
     "metadata": {
      "application/vnd.teradata.resultset": ""
     },
     "output_type": "execute_result"
    },
    {
     "data": {
      "text/plain": [
       "Success: 1 rows affected"
      ]
     },
     "execution_count": 9,
     "metadata": {
      "application/vnd.teradata.resultset": ""
     },
     "output_type": "execute_result"
    },
    {
     "data": {
      "text/plain": [
       "Success: 1 rows affected"
      ]
     },
     "execution_count": 9,
     "metadata": {
      "application/vnd.teradata.resultset": ""
     },
     "output_type": "execute_result"
    },
    {
     "data": {
      "text/plain": [
       "Success: 1 rows affected"
      ]
     },
     "execution_count": 9,
     "metadata": {
      "application/vnd.teradata.resultset": ""
     },
     "output_type": "execute_result"
    },
    {
     "data": {
      "text/plain": [
       "Success: 1 rows affected"
      ]
     },
     "execution_count": 9,
     "metadata": {
      "application/vnd.teradata.resultset": ""
     },
     "output_type": "execute_result"
    },
    {
     "data": {
      "text/plain": [
       "Success: 1 rows affected"
      ]
     },
     "execution_count": 9,
     "metadata": {
      "application/vnd.teradata.resultset": ""
     },
     "output_type": "execute_result"
    },
    {
     "data": {
      "text/plain": [
       "Success: 1 rows affected"
      ]
     },
     "execution_count": 9,
     "metadata": {
      "application/vnd.teradata.resultset": ""
     },
     "output_type": "execute_result"
    },
    {
     "data": {
      "text/plain": [
       "Success: 1 rows affected"
      ]
     },
     "execution_count": 9,
     "metadata": {
      "application/vnd.teradata.resultset": ""
     },
     "output_type": "execute_result"
    },
    {
     "data": {
      "text/plain": [
       "Success: 1 rows affected"
      ]
     },
     "execution_count": 9,
     "metadata": {
      "application/vnd.teradata.resultset": ""
     },
     "output_type": "execute_result"
    },
    {
     "data": {
      "text/plain": [
       "Success: 1 rows affected"
      ]
     },
     "execution_count": 9,
     "metadata": {
      "application/vnd.teradata.resultset": ""
     },
     "output_type": "execute_result"
    },
    {
     "data": {
      "text/plain": [
       "Success: 1 rows affected"
      ]
     },
     "execution_count": 9,
     "metadata": {
      "application/vnd.teradata.resultset": ""
     },
     "output_type": "execute_result"
    },
    {
     "data": {
      "text/plain": [
       "Success: 1 rows affected"
      ]
     },
     "execution_count": 9,
     "metadata": {
      "application/vnd.teradata.resultset": ""
     },
     "output_type": "execute_result"
    },
    {
     "data": {
      "text/plain": [
       "Success: 1 rows affected"
      ]
     },
     "execution_count": 9,
     "metadata": {
      "application/vnd.teradata.resultset": ""
     },
     "output_type": "execute_result"
    },
    {
     "data": {
      "text/plain": [
       "Success: 1 rows affected"
      ]
     },
     "execution_count": 9,
     "metadata": {
      "application/vnd.teradata.resultset": ""
     },
     "output_type": "execute_result"
    },
    {
     "data": {
      "text/plain": [
       "Success: 1 rows affected"
      ]
     },
     "execution_count": 9,
     "metadata": {
      "application/vnd.teradata.resultset": ""
     },
     "output_type": "execute_result"
    },
    {
     "data": {
      "text/plain": [
       "Success: 1 rows affected"
      ]
     },
     "execution_count": 9,
     "metadata": {
      "application/vnd.teradata.resultset": ""
     },
     "output_type": "execute_result"
    },
    {
     "data": {
      "text/plain": [
       "Success: 1 rows affected"
      ]
     },
     "execution_count": 9,
     "metadata": {
      "application/vnd.teradata.resultset": ""
     },
     "output_type": "execute_result"
    },
    {
     "data": {
      "text/plain": [
       "Success: 1 rows affected"
      ]
     },
     "execution_count": 9,
     "metadata": {
      "application/vnd.teradata.resultset": ""
     },
     "output_type": "execute_result"
    },
    {
     "data": {
      "text/plain": [
       "Success: 1 rows affected"
      ]
     },
     "execution_count": 9,
     "metadata": {
      "application/vnd.teradata.resultset": ""
     },
     "output_type": "execute_result"
    },
    {
     "data": {
      "text/plain": [
       "Success: 1 rows affected"
      ]
     },
     "execution_count": 9,
     "metadata": {
      "application/vnd.teradata.resultset": ""
     },
     "output_type": "execute_result"
    },
    {
     "data": {
      "text/plain": [
       "Success: 1 rows affected"
      ]
     },
     "execution_count": 9,
     "metadata": {
      "application/vnd.teradata.resultset": ""
     },
     "output_type": "execute_result"
    },
    {
     "data": {
      "text/plain": [
       "Success: 1 rows affected"
      ]
     },
     "execution_count": 9,
     "metadata": {
      "application/vnd.teradata.resultset": ""
     },
     "output_type": "execute_result"
    },
    {
     "data": {
      "text/plain": [
       "Success: 1 rows affected"
      ]
     },
     "execution_count": 9,
     "metadata": {
      "application/vnd.teradata.resultset": ""
     },
     "output_type": "execute_result"
    },
    {
     "data": {
      "text/plain": [
       "Success: 1 rows affected"
      ]
     },
     "execution_count": 9,
     "metadata": {
      "application/vnd.teradata.resultset": ""
     },
     "output_type": "execute_result"
    },
    {
     "data": {
      "text/plain": [
       "Success: 1 rows affected"
      ]
     },
     "execution_count": 9,
     "metadata": {
      "application/vnd.teradata.resultset": ""
     },
     "output_type": "execute_result"
    },
    {
     "data": {
      "text/plain": [
       "Success: 1 rows affected"
      ]
     },
     "execution_count": 9,
     "metadata": {
      "application/vnd.teradata.resultset": ""
     },
     "output_type": "execute_result"
    },
    {
     "data": {
      "text/plain": [
       "Success: 1 rows affected"
      ]
     },
     "execution_count": 9,
     "metadata": {
      "application/vnd.teradata.resultset": ""
     },
     "output_type": "execute_result"
    },
    {
     "data": {
      "text/plain": [
       "Success: 1 rows affected"
      ]
     },
     "execution_count": 9,
     "metadata": {
      "application/vnd.teradata.resultset": ""
     },
     "output_type": "execute_result"
    },
    {
     "data": {
      "text/plain": [
       "Success: 1 rows affected"
      ]
     },
     "execution_count": 9,
     "metadata": {
      "application/vnd.teradata.resultset": ""
     },
     "output_type": "execute_result"
    },
    {
     "data": {
      "text/plain": [
       "Success: 1 rows affected"
      ]
     },
     "execution_count": 9,
     "metadata": {
      "application/vnd.teradata.resultset": ""
     },
     "output_type": "execute_result"
    },
    {
     "data": {
      "text/plain": [
       "Success: 1 rows affected"
      ]
     },
     "execution_count": 9,
     "metadata": {
      "application/vnd.teradata.resultset": ""
     },
     "output_type": "execute_result"
    },
    {
     "data": {
      "text/plain": [
       "Success: 1 rows affected"
      ]
     },
     "execution_count": 9,
     "metadata": {
      "application/vnd.teradata.resultset": ""
     },
     "output_type": "execute_result"
    },
    {
     "data": {
      "text/plain": [
       "Success: 1 rows affected"
      ]
     },
     "execution_count": 9,
     "metadata": {
      "application/vnd.teradata.resultset": ""
     },
     "output_type": "execute_result"
    },
    {
     "data": {
      "text/plain": [
       "Success: 1 rows affected"
      ]
     },
     "execution_count": 9,
     "metadata": {
      "application/vnd.teradata.resultset": ""
     },
     "output_type": "execute_result"
    },
    {
     "data": {
      "text/plain": [
       "Success: 1 rows affected"
      ]
     },
     "execution_count": 9,
     "metadata": {
      "application/vnd.teradata.resultset": ""
     },
     "output_type": "execute_result"
    },
    {
     "data": {
      "text/plain": [
       "Success: 1 rows affected"
      ]
     },
     "execution_count": 9,
     "metadata": {
      "application/vnd.teradata.resultset": ""
     },
     "output_type": "execute_result"
    },
    {
     "data": {
      "text/plain": [
       "Success: 1 rows affected"
      ]
     },
     "execution_count": 9,
     "metadata": {
      "application/vnd.teradata.resultset": ""
     },
     "output_type": "execute_result"
    },
    {
     "data": {
      "text/plain": [
       "Success: 1 rows affected"
      ]
     },
     "execution_count": 9,
     "metadata": {
      "application/vnd.teradata.resultset": ""
     },
     "output_type": "execute_result"
    },
    {
     "data": {
      "text/plain": [
       "Success: 1 rows affected"
      ]
     },
     "execution_count": 9,
     "metadata": {
      "application/vnd.teradata.resultset": ""
     },
     "output_type": "execute_result"
    },
    {
     "data": {
      "text/plain": [
       "Success: 1 rows affected"
      ]
     },
     "execution_count": 9,
     "metadata": {
      "application/vnd.teradata.resultset": ""
     },
     "output_type": "execute_result"
    },
    {
     "data": {
      "text/plain": [
       "Success: 1 rows affected"
      ]
     },
     "execution_count": 9,
     "metadata": {
      "application/vnd.teradata.resultset": ""
     },
     "output_type": "execute_result"
    },
    {
     "data": {
      "text/plain": [
       "Success: 1 rows affected"
      ]
     },
     "execution_count": 9,
     "metadata": {
      "application/vnd.teradata.resultset": ""
     },
     "output_type": "execute_result"
    },
    {
     "data": {
      "text/plain": [
       "Success: 1 rows affected"
      ]
     },
     "execution_count": 9,
     "metadata": {
      "application/vnd.teradata.resultset": ""
     },
     "output_type": "execute_result"
    },
    {
     "data": {
      "text/plain": [
       "Success: 1 rows affected"
      ]
     },
     "execution_count": 9,
     "metadata": {
      "application/vnd.teradata.resultset": ""
     },
     "output_type": "execute_result"
    },
    {
     "data": {
      "text/plain": [
       "Success: 1 rows affected"
      ]
     },
     "execution_count": 9,
     "metadata": {
      "application/vnd.teradata.resultset": ""
     },
     "output_type": "execute_result"
    },
    {
     "data": {
      "text/plain": [
       "Success: 1 rows affected"
      ]
     },
     "execution_count": 9,
     "metadata": {
      "application/vnd.teradata.resultset": ""
     },
     "output_type": "execute_result"
    },
    {
     "data": {
      "text/plain": [
       "Success: 1 rows affected"
      ]
     },
     "execution_count": 9,
     "metadata": {
      "application/vnd.teradata.resultset": ""
     },
     "output_type": "execute_result"
    },
    {
     "data": {
      "text/plain": [
       "Success: 1 rows affected"
      ]
     },
     "execution_count": 9,
     "metadata": {
      "application/vnd.teradata.resultset": ""
     },
     "output_type": "execute_result"
    },
    {
     "data": {
      "text/plain": [
       "Success: 1 rows affected"
      ]
     },
     "execution_count": 9,
     "metadata": {
      "application/vnd.teradata.resultset": ""
     },
     "output_type": "execute_result"
    },
    {
     "data": {
      "text/plain": [
       "Success: 1 rows affected"
      ]
     },
     "execution_count": 9,
     "metadata": {
      "application/vnd.teradata.resultset": ""
     },
     "output_type": "execute_result"
    },
    {
     "data": {
      "text/plain": [
       "Success: 1 rows affected"
      ]
     },
     "execution_count": 9,
     "metadata": {
      "application/vnd.teradata.resultset": ""
     },
     "output_type": "execute_result"
    },
    {
     "data": {
      "text/plain": [
       "Success: 1 rows affected"
      ]
     },
     "execution_count": 9,
     "metadata": {
      "application/vnd.teradata.resultset": ""
     },
     "output_type": "execute_result"
    },
    {
     "data": {
      "text/plain": [
       "Success: 1 rows affected"
      ]
     },
     "execution_count": 9,
     "metadata": {
      "application/vnd.teradata.resultset": ""
     },
     "output_type": "execute_result"
    },
    {
     "data": {
      "text/plain": [
       "Success: 1 rows affected"
      ]
     },
     "execution_count": 9,
     "metadata": {
      "application/vnd.teradata.resultset": ""
     },
     "output_type": "execute_result"
    },
    {
     "data": {
      "text/plain": [
       "Success: 1 rows affected"
      ]
     },
     "execution_count": 9,
     "metadata": {
      "application/vnd.teradata.resultset": ""
     },
     "output_type": "execute_result"
    },
    {
     "data": {
      "text/plain": [
       "Success: 1 rows affected"
      ]
     },
     "execution_count": 9,
     "metadata": {
      "application/vnd.teradata.resultset": ""
     },
     "output_type": "execute_result"
    },
    {
     "data": {
      "text/plain": [
       "Success: 1 rows affected"
      ]
     },
     "execution_count": 9,
     "metadata": {
      "application/vnd.teradata.resultset": ""
     },
     "output_type": "execute_result"
    },
    {
     "data": {
      "text/plain": [
       "Success: 1 rows affected"
      ]
     },
     "execution_count": 9,
     "metadata": {
      "application/vnd.teradata.resultset": ""
     },
     "output_type": "execute_result"
    },
    {
     "data": {
      "text/plain": [
       "Success: 1 rows affected"
      ]
     },
     "execution_count": 9,
     "metadata": {
      "application/vnd.teradata.resultset": ""
     },
     "output_type": "execute_result"
    },
    {
     "data": {
      "text/plain": [
       "Success: 1 rows affected"
      ]
     },
     "execution_count": 9,
     "metadata": {
      "application/vnd.teradata.resultset": ""
     },
     "output_type": "execute_result"
    },
    {
     "data": {
      "text/plain": [
       "Success: 1 rows affected"
      ]
     },
     "execution_count": 9,
     "metadata": {
      "application/vnd.teradata.resultset": ""
     },
     "output_type": "execute_result"
    },
    {
     "data": {
      "text/plain": [
       "Success: 1 rows affected"
      ]
     },
     "execution_count": 9,
     "metadata": {
      "application/vnd.teradata.resultset": ""
     },
     "output_type": "execute_result"
    },
    {
     "data": {
      "text/plain": [
       "Success: 1 rows affected"
      ]
     },
     "execution_count": 9,
     "metadata": {
      "application/vnd.teradata.resultset": ""
     },
     "output_type": "execute_result"
    },
    {
     "data": {
      "text/plain": [
       "Success: 1 rows affected"
      ]
     },
     "execution_count": 9,
     "metadata": {
      "application/vnd.teradata.resultset": ""
     },
     "output_type": "execute_result"
    },
    {
     "data": {
      "text/plain": [
       "Success: 1 rows affected"
      ]
     },
     "execution_count": 9,
     "metadata": {
      "application/vnd.teradata.resultset": ""
     },
     "output_type": "execute_result"
    },
    {
     "data": {
      "text/plain": [
       "Success: 1 rows affected"
      ]
     },
     "execution_count": 9,
     "metadata": {
      "application/vnd.teradata.resultset": ""
     },
     "output_type": "execute_result"
    },
    {
     "data": {
      "text/plain": [
       "Success: 1 rows affected"
      ]
     },
     "execution_count": 9,
     "metadata": {
      "application/vnd.teradata.resultset": ""
     },
     "output_type": "execute_result"
    },
    {
     "data": {
      "text/plain": [
       "Success: 1 rows affected"
      ]
     },
     "execution_count": 9,
     "metadata": {
      "application/vnd.teradata.resultset": ""
     },
     "output_type": "execute_result"
    },
    {
     "data": {
      "text/plain": [
       "Success: 1 rows affected"
      ]
     },
     "execution_count": 9,
     "metadata": {
      "application/vnd.teradata.resultset": ""
     },
     "output_type": "execute_result"
    },
    {
     "data": {
      "text/plain": [
       "Success: 1 rows affected"
      ]
     },
     "execution_count": 9,
     "metadata": {
      "application/vnd.teradata.resultset": ""
     },
     "output_type": "execute_result"
    },
    {
     "data": {
      "text/plain": [
       "Success: 1 rows affected"
      ]
     },
     "execution_count": 9,
     "metadata": {
      "application/vnd.teradata.resultset": ""
     },
     "output_type": "execute_result"
    },
    {
     "data": {
      "text/plain": [
       "Success: 1 rows affected"
      ]
     },
     "execution_count": 9,
     "metadata": {
      "application/vnd.teradata.resultset": ""
     },
     "output_type": "execute_result"
    },
    {
     "data": {
      "text/plain": [
       "Success: 1 rows affected"
      ]
     },
     "execution_count": 9,
     "metadata": {
      "application/vnd.teradata.resultset": ""
     },
     "output_type": "execute_result"
    },
    {
     "data": {
      "text/plain": [
       "Success: 1 rows affected"
      ]
     },
     "execution_count": 9,
     "metadata": {
      "application/vnd.teradata.resultset": ""
     },
     "output_type": "execute_result"
    },
    {
     "data": {
      "text/plain": [
       "Success: 1 rows affected"
      ]
     },
     "execution_count": 9,
     "metadata": {
      "application/vnd.teradata.resultset": ""
     },
     "output_type": "execute_result"
    },
    {
     "data": {
      "text/plain": [
       "Success: 1 rows affected"
      ]
     },
     "execution_count": 9,
     "metadata": {
      "application/vnd.teradata.resultset": ""
     },
     "output_type": "execute_result"
    },
    {
     "data": {
      "text/plain": [
       "Success: 1 rows affected"
      ]
     },
     "execution_count": 9,
     "metadata": {
      "application/vnd.teradata.resultset": ""
     },
     "output_type": "execute_result"
    },
    {
     "data": {
      "text/plain": [
       "Success: 1 rows affected"
      ]
     },
     "execution_count": 9,
     "metadata": {
      "application/vnd.teradata.resultset": ""
     },
     "output_type": "execute_result"
    },
    {
     "data": {
      "text/plain": [
       "Success: 1 rows affected"
      ]
     },
     "execution_count": 9,
     "metadata": {
      "application/vnd.teradata.resultset": ""
     },
     "output_type": "execute_result"
    },
    {
     "data": {
      "text/plain": [
       "Success: 1 rows affected"
      ]
     },
     "execution_count": 9,
     "metadata": {
      "application/vnd.teradata.resultset": ""
     },
     "output_type": "execute_result"
    },
    {
     "data": {
      "text/plain": [
       "Success: 1 rows affected"
      ]
     },
     "execution_count": 9,
     "metadata": {
      "application/vnd.teradata.resultset": ""
     },
     "output_type": "execute_result"
    },
    {
     "data": {
      "text/plain": [
       "Success: 1 rows affected"
      ]
     },
     "execution_count": 9,
     "metadata": {
      "application/vnd.teradata.resultset": ""
     },
     "output_type": "execute_result"
    },
    {
     "data": {
      "text/plain": [
       "Success: 1 rows affected"
      ]
     },
     "execution_count": 9,
     "metadata": {
      "application/vnd.teradata.resultset": ""
     },
     "output_type": "execute_result"
    },
    {
     "data": {
      "text/plain": [
       "Success: 1 rows affected"
      ]
     },
     "execution_count": 9,
     "metadata": {
      "application/vnd.teradata.resultset": ""
     },
     "output_type": "execute_result"
    },
    {
     "data": {
      "text/plain": [
       "Success: 1 rows affected"
      ]
     },
     "execution_count": 9,
     "metadata": {
      "application/vnd.teradata.resultset": ""
     },
     "output_type": "execute_result"
    },
    {
     "data": {
      "text/plain": [
       "Success: 1 rows affected"
      ]
     },
     "execution_count": 9,
     "metadata": {
      "application/vnd.teradata.resultset": ""
     },
     "output_type": "execute_result"
    },
    {
     "data": {
      "text/plain": [
       "Success: 1 rows affected"
      ]
     },
     "execution_count": 9,
     "metadata": {
      "application/vnd.teradata.resultset": ""
     },
     "output_type": "execute_result"
    },
    {
     "data": {
      "text/plain": [
       "Success: 1 rows affected"
      ]
     },
     "execution_count": 9,
     "metadata": {
      "application/vnd.teradata.resultset": ""
     },
     "output_type": "execute_result"
    },
    {
     "data": {
      "text/plain": [
       "Success: 1 rows affected"
      ]
     },
     "execution_count": 9,
     "metadata": {
      "application/vnd.teradata.resultset": ""
     },
     "output_type": "execute_result"
    },
    {
     "data": {
      "text/plain": [
       "Success: 1 rows affected"
      ]
     },
     "execution_count": 9,
     "metadata": {
      "application/vnd.teradata.resultset": ""
     },
     "output_type": "execute_result"
    },
    {
     "data": {
      "text/plain": [
       "Success: 1 rows affected"
      ]
     },
     "execution_count": 9,
     "metadata": {
      "application/vnd.teradata.resultset": ""
     },
     "output_type": "execute_result"
    },
    {
     "data": {
      "text/plain": [
       "Success: 1 rows affected"
      ]
     },
     "execution_count": 9,
     "metadata": {
      "application/vnd.teradata.resultset": ""
     },
     "output_type": "execute_result"
    },
    {
     "data": {
      "text/plain": [
       "Success: 1 rows affected"
      ]
     },
     "execution_count": 9,
     "metadata": {
      "application/vnd.teradata.resultset": ""
     },
     "output_type": "execute_result"
    },
    {
     "data": {
      "text/plain": [
       "Success: 1 rows affected"
      ]
     },
     "execution_count": 9,
     "metadata": {
      "application/vnd.teradata.resultset": ""
     },
     "output_type": "execute_result"
    },
    {
     "data": {
      "text/plain": [
       "Success: 1 rows affected"
      ]
     },
     "execution_count": 9,
     "metadata": {
      "application/vnd.teradata.resultset": ""
     },
     "output_type": "execute_result"
    },
    {
     "data": {
      "text/plain": [
       "Success: 1 rows affected"
      ]
     },
     "execution_count": 9,
     "metadata": {
      "application/vnd.teradata.resultset": ""
     },
     "output_type": "execute_result"
    },
    {
     "data": {
      "text/plain": [
       "Success: 1 rows affected"
      ]
     },
     "execution_count": 9,
     "metadata": {
      "application/vnd.teradata.resultset": ""
     },
     "output_type": "execute_result"
    },
    {
     "data": {
      "text/plain": [
       "Success: 1 rows affected"
      ]
     },
     "execution_count": 9,
     "metadata": {
      "application/vnd.teradata.resultset": ""
     },
     "output_type": "execute_result"
    },
    {
     "data": {
      "text/plain": [
       "Success: 1 rows affected"
      ]
     },
     "execution_count": 9,
     "metadata": {
      "application/vnd.teradata.resultset": ""
     },
     "output_type": "execute_result"
    },
    {
     "data": {
      "text/plain": [
       "Success: 1 rows affected"
      ]
     },
     "execution_count": 9,
     "metadata": {
      "application/vnd.teradata.resultset": ""
     },
     "output_type": "execute_result"
    },
    {
     "data": {
      "text/plain": [
       "Success: 1 rows affected"
      ]
     },
     "execution_count": 9,
     "metadata": {
      "application/vnd.teradata.resultset": ""
     },
     "output_type": "execute_result"
    },
    {
     "data": {
      "text/plain": [
       "Success: 1 rows affected"
      ]
     },
     "execution_count": 9,
     "metadata": {
      "application/vnd.teradata.resultset": ""
     },
     "output_type": "execute_result"
    },
    {
     "data": {
      "text/plain": [
       "Success: 1 rows affected"
      ]
     },
     "execution_count": 9,
     "metadata": {
      "application/vnd.teradata.resultset": ""
     },
     "output_type": "execute_result"
    },
    {
     "data": {
      "text/plain": [
       "Success: 1 rows affected"
      ]
     },
     "execution_count": 9,
     "metadata": {
      "application/vnd.teradata.resultset": ""
     },
     "output_type": "execute_result"
    },
    {
     "data": {
      "text/plain": [
       "Success: 1 rows affected"
      ]
     },
     "execution_count": 9,
     "metadata": {
      "application/vnd.teradata.resultset": ""
     },
     "output_type": "execute_result"
    },
    {
     "data": {
      "text/plain": [
       "Success: 1 rows affected"
      ]
     },
     "execution_count": 9,
     "metadata": {
      "application/vnd.teradata.resultset": ""
     },
     "output_type": "execute_result"
    },
    {
     "data": {
      "text/plain": [
       "Success: 1 rows affected"
      ]
     },
     "execution_count": 9,
     "metadata": {
      "application/vnd.teradata.resultset": ""
     },
     "output_type": "execute_result"
    },
    {
     "data": {
      "text/plain": [
       "Success: 1 rows affected"
      ]
     },
     "execution_count": 9,
     "metadata": {
      "application/vnd.teradata.resultset": ""
     },
     "output_type": "execute_result"
    },
    {
     "data": {
      "text/plain": [
       "Success: 1 rows affected"
      ]
     },
     "execution_count": 9,
     "metadata": {
      "application/vnd.teradata.resultset": ""
     },
     "output_type": "execute_result"
    },
    {
     "data": {
      "text/plain": [
       "Success: 1 rows affected"
      ]
     },
     "execution_count": 9,
     "metadata": {
      "application/vnd.teradata.resultset": ""
     },
     "output_type": "execute_result"
    },
    {
     "data": {
      "text/plain": [
       "Success: 1 rows affected"
      ]
     },
     "execution_count": 9,
     "metadata": {
      "application/vnd.teradata.resultset": ""
     },
     "output_type": "execute_result"
    },
    {
     "data": {
      "text/plain": [
       "Success: 1 rows affected"
      ]
     },
     "execution_count": 9,
     "metadata": {
      "application/vnd.teradata.resultset": ""
     },
     "output_type": "execute_result"
    },
    {
     "data": {
      "text/plain": [
       "Success: 1 rows affected"
      ]
     },
     "execution_count": 9,
     "metadata": {
      "application/vnd.teradata.resultset": ""
     },
     "output_type": "execute_result"
    },
    {
     "data": {
      "text/plain": [
       "Success: 1 rows affected"
      ]
     },
     "execution_count": 9,
     "metadata": {
      "application/vnd.teradata.resultset": ""
     },
     "output_type": "execute_result"
    },
    {
     "data": {
      "text/plain": [
       "Success: 1 rows affected"
      ]
     },
     "execution_count": 9,
     "metadata": {
      "application/vnd.teradata.resultset": ""
     },
     "output_type": "execute_result"
    },
    {
     "data": {
      "text/plain": [
       "Success: 1 rows affected"
      ]
     },
     "execution_count": 9,
     "metadata": {
      "application/vnd.teradata.resultset": ""
     },
     "output_type": "execute_result"
    },
    {
     "data": {
      "text/plain": [
       "Success: 1 rows affected"
      ]
     },
     "execution_count": 9,
     "metadata": {
      "application/vnd.teradata.resultset": ""
     },
     "output_type": "execute_result"
    },
    {
     "data": {
      "text/plain": [
       "Success: 1 rows affected"
      ]
     },
     "execution_count": 9,
     "metadata": {
      "application/vnd.teradata.resultset": ""
     },
     "output_type": "execute_result"
    },
    {
     "data": {
      "text/plain": [
       "Success: 1 rows affected"
      ]
     },
     "execution_count": 9,
     "metadata": {
      "application/vnd.teradata.resultset": ""
     },
     "output_type": "execute_result"
    },
    {
     "data": {
      "text/plain": [
       "Success: 1 rows affected"
      ]
     },
     "execution_count": 9,
     "metadata": {
      "application/vnd.teradata.resultset": ""
     },
     "output_type": "execute_result"
    },
    {
     "data": {
      "text/plain": [
       "Success: 1 rows affected"
      ]
     },
     "execution_count": 9,
     "metadata": {
      "application/vnd.teradata.resultset": ""
     },
     "output_type": "execute_result"
    },
    {
     "data": {
      "text/plain": [
       "Success: 1 rows affected"
      ]
     },
     "execution_count": 9,
     "metadata": {
      "application/vnd.teradata.resultset": ""
     },
     "output_type": "execute_result"
    },
    {
     "data": {
      "text/plain": [
       "Success: 1 rows affected"
      ]
     },
     "execution_count": 9,
     "metadata": {
      "application/vnd.teradata.resultset": ""
     },
     "output_type": "execute_result"
    },
    {
     "data": {
      "text/plain": [
       "Success: 1 rows affected"
      ]
     },
     "execution_count": 9,
     "metadata": {
      "application/vnd.teradata.resultset": ""
     },
     "output_type": "execute_result"
    },
    {
     "data": {
      "text/plain": [
       "Success: 1 rows affected"
      ]
     },
     "execution_count": 9,
     "metadata": {
      "application/vnd.teradata.resultset": ""
     },
     "output_type": "execute_result"
    },
    {
     "data": {
      "text/plain": [
       "Success: 1 rows affected"
      ]
     },
     "execution_count": 9,
     "metadata": {
      "application/vnd.teradata.resultset": ""
     },
     "output_type": "execute_result"
    },
    {
     "data": {
      "text/plain": [
       "Success: 1 rows affected"
      ]
     },
     "execution_count": 9,
     "metadata": {
      "application/vnd.teradata.resultset": ""
     },
     "output_type": "execute_result"
    },
    {
     "data": {
      "text/plain": [
       "Success: 1 rows affected"
      ]
     },
     "execution_count": 9,
     "metadata": {
      "application/vnd.teradata.resultset": ""
     },
     "output_type": "execute_result"
    },
    {
     "data": {
      "text/plain": [
       "Success: 1 rows affected"
      ]
     },
     "execution_count": 9,
     "metadata": {
      "application/vnd.teradata.resultset": ""
     },
     "output_type": "execute_result"
    },
    {
     "data": {
      "text/plain": [
       "Success: 1 rows affected"
      ]
     },
     "execution_count": 9,
     "metadata": {
      "application/vnd.teradata.resultset": ""
     },
     "output_type": "execute_result"
    },
    {
     "data": {
      "text/plain": [
       "Success: 1 rows affected"
      ]
     },
     "execution_count": 9,
     "metadata": {
      "application/vnd.teradata.resultset": ""
     },
     "output_type": "execute_result"
    },
    {
     "data": {
      "text/plain": [
       "Success: 1 rows affected"
      ]
     },
     "execution_count": 9,
     "metadata": {
      "application/vnd.teradata.resultset": ""
     },
     "output_type": "execute_result"
    },
    {
     "data": {
      "text/plain": [
       "Success: 1 rows affected"
      ]
     },
     "execution_count": 9,
     "metadata": {
      "application/vnd.teradata.resultset": ""
     },
     "output_type": "execute_result"
    },
    {
     "data": {
      "text/plain": [
       "Success: 1 rows affected"
      ]
     },
     "execution_count": 9,
     "metadata": {
      "application/vnd.teradata.resultset": ""
     },
     "output_type": "execute_result"
    },
    {
     "data": {
      "text/plain": [
       "Success: 1 rows affected"
      ]
     },
     "execution_count": 9,
     "metadata": {
      "application/vnd.teradata.resultset": ""
     },
     "output_type": "execute_result"
    },
    {
     "data": {
      "text/plain": [
       "Success: 1 rows affected"
      ]
     },
     "execution_count": 9,
     "metadata": {
      "application/vnd.teradata.resultset": ""
     },
     "output_type": "execute_result"
    },
    {
     "data": {
      "text/plain": [
       "Success: 1 rows affected"
      ]
     },
     "execution_count": 9,
     "metadata": {
      "application/vnd.teradata.resultset": ""
     },
     "output_type": "execute_result"
    },
    {
     "data": {
      "text/plain": [
       "Success: 1 rows affected"
      ]
     },
     "execution_count": 9,
     "metadata": {
      "application/vnd.teradata.resultset": ""
     },
     "output_type": "execute_result"
    },
    {
     "data": {
      "text/plain": [
       "Success: 1 rows affected"
      ]
     },
     "execution_count": 9,
     "metadata": {
      "application/vnd.teradata.resultset": ""
     },
     "output_type": "execute_result"
    },
    {
     "data": {
      "text/plain": [
       "Success: 1 rows affected"
      ]
     },
     "execution_count": 9,
     "metadata": {
      "application/vnd.teradata.resultset": ""
     },
     "output_type": "execute_result"
    },
    {
     "data": {
      "text/plain": [
       "Success: 1 rows affected"
      ]
     },
     "execution_count": 9,
     "metadata": {
      "application/vnd.teradata.resultset": ""
     },
     "output_type": "execute_result"
    },
    {
     "data": {
      "text/plain": [
       "Success: 1 rows affected"
      ]
     },
     "execution_count": 9,
     "metadata": {
      "application/vnd.teradata.resultset": ""
     },
     "output_type": "execute_result"
    },
    {
     "data": {
      "text/plain": [
       "Success: 1 rows affected"
      ]
     },
     "execution_count": 9,
     "metadata": {
      "application/vnd.teradata.resultset": ""
     },
     "output_type": "execute_result"
    },
    {
     "data": {
      "text/plain": [
       "Success: 1 rows affected"
      ]
     },
     "execution_count": 9,
     "metadata": {
      "application/vnd.teradata.resultset": ""
     },
     "output_type": "execute_result"
    },
    {
     "data": {
      "text/plain": [
       "Success: 1 rows affected"
      ]
     },
     "execution_count": 9,
     "metadata": {
      "application/vnd.teradata.resultset": ""
     },
     "output_type": "execute_result"
    },
    {
     "data": {
      "text/plain": [
       "Success: 1 rows affected"
      ]
     },
     "execution_count": 9,
     "metadata": {
      "application/vnd.teradata.resultset": ""
     },
     "output_type": "execute_result"
    },
    {
     "data": {
      "text/plain": [
       "Success: 1 rows affected"
      ]
     },
     "execution_count": 9,
     "metadata": {
      "application/vnd.teradata.resultset": ""
     },
     "output_type": "execute_result"
    },
    {
     "data": {
      "text/plain": [
       "Success: 1 rows affected"
      ]
     },
     "execution_count": 9,
     "metadata": {
      "application/vnd.teradata.resultset": ""
     },
     "output_type": "execute_result"
    },
    {
     "data": {
      "text/plain": [
       "Success: 1 rows affected"
      ]
     },
     "execution_count": 9,
     "metadata": {
      "application/vnd.teradata.resultset": ""
     },
     "output_type": "execute_result"
    },
    {
     "data": {
      "text/plain": [
       "Success: 1 rows affected"
      ]
     },
     "execution_count": 9,
     "metadata": {
      "application/vnd.teradata.resultset": ""
     },
     "output_type": "execute_result"
    },
    {
     "data": {
      "text/plain": [
       "Success: 1 rows affected"
      ]
     },
     "execution_count": 9,
     "metadata": {
      "application/vnd.teradata.resultset": ""
     },
     "output_type": "execute_result"
    },
    {
     "data": {
      "text/plain": [
       "Success: 1 rows affected"
      ]
     },
     "execution_count": 9,
     "metadata": {
      "application/vnd.teradata.resultset": ""
     },
     "output_type": "execute_result"
    },
    {
     "data": {
      "text/plain": [
       "Success: 1 rows affected"
      ]
     },
     "execution_count": 9,
     "metadata": {
      "application/vnd.teradata.resultset": ""
     },
     "output_type": "execute_result"
    },
    {
     "data": {
      "text/plain": [
       "Success: 1 rows affected"
      ]
     },
     "execution_count": 9,
     "metadata": {
      "application/vnd.teradata.resultset": ""
     },
     "output_type": "execute_result"
    },
    {
     "data": {
      "text/plain": [
       "Success: 1 rows affected"
      ]
     },
     "execution_count": 9,
     "metadata": {
      "application/vnd.teradata.resultset": ""
     },
     "output_type": "execute_result"
    },
    {
     "data": {
      "text/plain": [
       "Success: 1 rows affected"
      ]
     },
     "execution_count": 9,
     "metadata": {
      "application/vnd.teradata.resultset": ""
     },
     "output_type": "execute_result"
    },
    {
     "data": {
      "text/plain": [
       "Success: 1 rows affected"
      ]
     },
     "execution_count": 9,
     "metadata": {
      "application/vnd.teradata.resultset": ""
     },
     "output_type": "execute_result"
    },
    {
     "data": {
      "text/plain": [
       "Success: 1 rows affected"
      ]
     },
     "execution_count": 9,
     "metadata": {
      "application/vnd.teradata.resultset": ""
     },
     "output_type": "execute_result"
    },
    {
     "data": {
      "text/plain": [
       "Success: 1 rows affected"
      ]
     },
     "execution_count": 9,
     "metadata": {
      "application/vnd.teradata.resultset": ""
     },
     "output_type": "execute_result"
    },
    {
     "data": {
      "text/plain": [
       "Success: 1 rows affected"
      ]
     },
     "execution_count": 9,
     "metadata": {
      "application/vnd.teradata.resultset": ""
     },
     "output_type": "execute_result"
    },
    {
     "data": {
      "text/plain": [
       "Success: 1 rows affected"
      ]
     },
     "execution_count": 9,
     "metadata": {
      "application/vnd.teradata.resultset": ""
     },
     "output_type": "execute_result"
    },
    {
     "data": {
      "text/plain": [
       "Success: 1 rows affected"
      ]
     },
     "execution_count": 9,
     "metadata": {
      "application/vnd.teradata.resultset": ""
     },
     "output_type": "execute_result"
    },
    {
     "data": {
      "text/plain": [
       "Success: 1 rows affected"
      ]
     },
     "execution_count": 9,
     "metadata": {
      "application/vnd.teradata.resultset": ""
     },
     "output_type": "execute_result"
    },
    {
     "data": {
      "text/plain": [
       "Success: 1 rows affected"
      ]
     },
     "execution_count": 9,
     "metadata": {
      "application/vnd.teradata.resultset": ""
     },
     "output_type": "execute_result"
    },
    {
     "data": {
      "text/plain": [
       "Success: 1 rows affected"
      ]
     },
     "execution_count": 9,
     "metadata": {
      "application/vnd.teradata.resultset": ""
     },
     "output_type": "execute_result"
    },
    {
     "data": {
      "text/plain": [
       "Success: 1 rows affected"
      ]
     },
     "execution_count": 9,
     "metadata": {
      "application/vnd.teradata.resultset": ""
     },
     "output_type": "execute_result"
    },
    {
     "data": {
      "text/plain": [
       "Success: 1 rows affected"
      ]
     },
     "execution_count": 9,
     "metadata": {
      "application/vnd.teradata.resultset": ""
     },
     "output_type": "execute_result"
    },
    {
     "data": {
      "text/plain": [
       "Success: 1 rows affected"
      ]
     },
     "execution_count": 9,
     "metadata": {
      "application/vnd.teradata.resultset": ""
     },
     "output_type": "execute_result"
    },
    {
     "data": {
      "text/plain": [
       "Success: 1 rows affected"
      ]
     },
     "execution_count": 9,
     "metadata": {
      "application/vnd.teradata.resultset": ""
     },
     "output_type": "execute_result"
    },
    {
     "data": {
      "text/plain": [
       "Success: 1 rows affected"
      ]
     },
     "execution_count": 9,
     "metadata": {
      "application/vnd.teradata.resultset": ""
     },
     "output_type": "execute_result"
    },
    {
     "data": {
      "text/plain": [
       "Success: 1 rows affected"
      ]
     },
     "execution_count": 9,
     "metadata": {
      "application/vnd.teradata.resultset": ""
     },
     "output_type": "execute_result"
    },
    {
     "data": {
      "text/plain": [
       "Success: 1 rows affected"
      ]
     },
     "execution_count": 9,
     "metadata": {
      "application/vnd.teradata.resultset": ""
     },
     "output_type": "execute_result"
    },
    {
     "data": {
      "text/plain": [
       "Success: 1 rows affected"
      ]
     },
     "execution_count": 9,
     "metadata": {
      "application/vnd.teradata.resultset": ""
     },
     "output_type": "execute_result"
    },
    {
     "data": {
      "text/plain": [
       "Success: 1 rows affected"
      ]
     },
     "execution_count": 9,
     "metadata": {
      "application/vnd.teradata.resultset": ""
     },
     "output_type": "execute_result"
    },
    {
     "data": {
      "text/plain": [
       "Success: 1 rows affected"
      ]
     },
     "execution_count": 9,
     "metadata": {
      "application/vnd.teradata.resultset": ""
     },
     "output_type": "execute_result"
    },
    {
     "data": {
      "text/plain": [
       "Success: 1 rows affected"
      ]
     },
     "execution_count": 9,
     "metadata": {
      "application/vnd.teradata.resultset": ""
     },
     "output_type": "execute_result"
    },
    {
     "data": {
      "text/plain": [
       "Success: 1 rows affected"
      ]
     },
     "execution_count": 9,
     "metadata": {
      "application/vnd.teradata.resultset": ""
     },
     "output_type": "execute_result"
    },
    {
     "data": {
      "text/plain": [
       "Success: 1 rows affected"
      ]
     },
     "execution_count": 9,
     "metadata": {
      "application/vnd.teradata.resultset": ""
     },
     "output_type": "execute_result"
    },
    {
     "data": {
      "text/plain": [
       "Success: 1 rows affected"
      ]
     },
     "execution_count": 9,
     "metadata": {
      "application/vnd.teradata.resultset": ""
     },
     "output_type": "execute_result"
    },
    {
     "data": {
      "text/plain": [
       "Success: 1 rows affected"
      ]
     },
     "execution_count": 9,
     "metadata": {
      "application/vnd.teradata.resultset": ""
     },
     "output_type": "execute_result"
    },
    {
     "data": {
      "text/plain": [
       "Success: 1 rows affected"
      ]
     },
     "execution_count": 9,
     "metadata": {
      "application/vnd.teradata.resultset": ""
     },
     "output_type": "execute_result"
    },
    {
     "data": {
      "text/plain": [
       "Success: 1 rows affected"
      ]
     },
     "execution_count": 9,
     "metadata": {
      "application/vnd.teradata.resultset": ""
     },
     "output_type": "execute_result"
    },
    {
     "data": {
      "text/plain": [
       "Success: 1 rows affected"
      ]
     },
     "execution_count": 9,
     "metadata": {
      "application/vnd.teradata.resultset": ""
     },
     "output_type": "execute_result"
    },
    {
     "data": {
      "text/plain": [
       "Success: 1 rows affected"
      ]
     },
     "execution_count": 9,
     "metadata": {
      "application/vnd.teradata.resultset": ""
     },
     "output_type": "execute_result"
    },
    {
     "data": {
      "text/plain": [
       "Success: 1 rows affected"
      ]
     },
     "execution_count": 9,
     "metadata": {
      "application/vnd.teradata.resultset": ""
     },
     "output_type": "execute_result"
    },
    {
     "data": {
      "text/plain": [
       "Success: 1 rows affected"
      ]
     },
     "execution_count": 9,
     "metadata": {
      "application/vnd.teradata.resultset": ""
     },
     "output_type": "execute_result"
    },
    {
     "data": {
      "text/plain": [
       "Success: 1 rows affected"
      ]
     },
     "execution_count": 9,
     "metadata": {
      "application/vnd.teradata.resultset": ""
     },
     "output_type": "execute_result"
    },
    {
     "data": {
      "text/plain": [
       "Success: 1 rows affected"
      ]
     },
     "execution_count": 9,
     "metadata": {
      "application/vnd.teradata.resultset": ""
     },
     "output_type": "execute_result"
    },
    {
     "data": {
      "text/plain": [
       "Success: 1 rows affected"
      ]
     },
     "execution_count": 9,
     "metadata": {
      "application/vnd.teradata.resultset": ""
     },
     "output_type": "execute_result"
    },
    {
     "data": {
      "text/plain": [
       "Success: 1 rows affected"
      ]
     },
     "execution_count": 9,
     "metadata": {
      "application/vnd.teradata.resultset": ""
     },
     "output_type": "execute_result"
    },
    {
     "data": {
      "text/plain": [
       "Success: 1 rows affected"
      ]
     },
     "execution_count": 9,
     "metadata": {
      "application/vnd.teradata.resultset": ""
     },
     "output_type": "execute_result"
    },
    {
     "data": {
      "text/plain": [
       "Success: 1 rows affected"
      ]
     },
     "execution_count": 9,
     "metadata": {
      "application/vnd.teradata.resultset": ""
     },
     "output_type": "execute_result"
    },
    {
     "data": {
      "text/plain": [
       "Success: 1 rows affected"
      ]
     },
     "execution_count": 9,
     "metadata": {
      "application/vnd.teradata.resultset": ""
     },
     "output_type": "execute_result"
    },
    {
     "data": {
      "text/plain": [
       "Success: 1 rows affected"
      ]
     },
     "execution_count": 9,
     "metadata": {
      "application/vnd.teradata.resultset": ""
     },
     "output_type": "execute_result"
    },
    {
     "data": {
      "text/plain": [
       "Success: 1 rows affected"
      ]
     },
     "execution_count": 9,
     "metadata": {
      "application/vnd.teradata.resultset": ""
     },
     "output_type": "execute_result"
    },
    {
     "data": {
      "text/plain": [
       "Success: 1 rows affected"
      ]
     },
     "execution_count": 9,
     "metadata": {
      "application/vnd.teradata.resultset": ""
     },
     "output_type": "execute_result"
    },
    {
     "data": {
      "text/plain": [
       "Success: 1 rows affected"
      ]
     },
     "execution_count": 9,
     "metadata": {
      "application/vnd.teradata.resultset": ""
     },
     "output_type": "execute_result"
    },
    {
     "data": {
      "text/plain": [
       "Success: 1 rows affected"
      ]
     },
     "execution_count": 9,
     "metadata": {
      "application/vnd.teradata.resultset": ""
     },
     "output_type": "execute_result"
    },
    {
     "data": {
      "text/plain": [
       "Success: 1 rows affected"
      ]
     },
     "execution_count": 9,
     "metadata": {
      "application/vnd.teradata.resultset": ""
     },
     "output_type": "execute_result"
    },
    {
     "data": {
      "text/plain": [
       "Success: 1 rows affected"
      ]
     },
     "execution_count": 9,
     "metadata": {
      "application/vnd.teradata.resultset": ""
     },
     "output_type": "execute_result"
    },
    {
     "data": {
      "text/plain": [
       "Success: 1 rows affected"
      ]
     },
     "execution_count": 9,
     "metadata": {
      "application/vnd.teradata.resultset": ""
     },
     "output_type": "execute_result"
    },
    {
     "data": {
      "text/plain": [
       "Success: 1 rows affected"
      ]
     },
     "execution_count": 9,
     "metadata": {
      "application/vnd.teradata.resultset": ""
     },
     "output_type": "execute_result"
    },
    {
     "data": {
      "text/plain": [
       "Success: 1 rows affected"
      ]
     },
     "execution_count": 9,
     "metadata": {
      "application/vnd.teradata.resultset": ""
     },
     "output_type": "execute_result"
    },
    {
     "data": {
      "text/plain": [
       "Success: 1 rows affected"
      ]
     },
     "execution_count": 9,
     "metadata": {
      "application/vnd.teradata.resultset": ""
     },
     "output_type": "execute_result"
    },
    {
     "data": {
      "text/plain": [
       "Success: 1 rows affected"
      ]
     },
     "execution_count": 9,
     "metadata": {
      "application/vnd.teradata.resultset": ""
     },
     "output_type": "execute_result"
    },
    {
     "data": {
      "text/plain": [
       "Success: 1 rows affected"
      ]
     },
     "execution_count": 9,
     "metadata": {
      "application/vnd.teradata.resultset": ""
     },
     "output_type": "execute_result"
    },
    {
     "data": {
      "text/plain": [
       "Success: 1 rows affected"
      ]
     },
     "execution_count": 9,
     "metadata": {
      "application/vnd.teradata.resultset": ""
     },
     "output_type": "execute_result"
    },
    {
     "data": {
      "text/plain": [
       "Success: 1 rows affected"
      ]
     },
     "execution_count": 9,
     "metadata": {
      "application/vnd.teradata.resultset": ""
     },
     "output_type": "execute_result"
    },
    {
     "data": {
      "text/plain": [
       "Success: 1 rows affected"
      ]
     },
     "execution_count": 9,
     "metadata": {
      "application/vnd.teradata.resultset": ""
     },
     "output_type": "execute_result"
    },
    {
     "data": {
      "text/plain": [
       "Success: 1 rows affected"
      ]
     },
     "execution_count": 9,
     "metadata": {
      "application/vnd.teradata.resultset": ""
     },
     "output_type": "execute_result"
    },
    {
     "data": {
      "text/plain": [
       "Success: 1 rows affected"
      ]
     },
     "execution_count": 9,
     "metadata": {
      "application/vnd.teradata.resultset": ""
     },
     "output_type": "execute_result"
    },
    {
     "data": {
      "text/plain": [
       "Success: 1 rows affected"
      ]
     },
     "execution_count": 9,
     "metadata": {
      "application/vnd.teradata.resultset": ""
     },
     "output_type": "execute_result"
    },
    {
     "data": {
      "text/plain": [
       "Success: 1 rows affected"
      ]
     },
     "execution_count": 9,
     "metadata": {
      "application/vnd.teradata.resultset": ""
     },
     "output_type": "execute_result"
    },
    {
     "data": {
      "text/plain": [
       "Success: 1 rows affected"
      ]
     },
     "execution_count": 9,
     "metadata": {
      "application/vnd.teradata.resultset": ""
     },
     "output_type": "execute_result"
    },
    {
     "data": {
      "text/plain": [
       "Success: 1 rows affected"
      ]
     },
     "execution_count": 9,
     "metadata": {
      "application/vnd.teradata.resultset": ""
     },
     "output_type": "execute_result"
    },
    {
     "data": {
      "text/plain": [
       "Success: 1 rows affected"
      ]
     },
     "execution_count": 9,
     "metadata": {
      "application/vnd.teradata.resultset": ""
     },
     "output_type": "execute_result"
    },
    {
     "data": {
      "text/plain": [
       "Success: 1 rows affected"
      ]
     },
     "execution_count": 9,
     "metadata": {
      "application/vnd.teradata.resultset": ""
     },
     "output_type": "execute_result"
    },
    {
     "data": {
      "text/plain": [
       "Success: 1 rows affected"
      ]
     },
     "execution_count": 9,
     "metadata": {
      "application/vnd.teradata.resultset": ""
     },
     "output_type": "execute_result"
    },
    {
     "data": {
      "text/plain": [
       "Success: 1 rows affected"
      ]
     },
     "execution_count": 9,
     "metadata": {
      "application/vnd.teradata.resultset": ""
     },
     "output_type": "execute_result"
    },
    {
     "data": {
      "text/plain": [
       "Success: 1 rows affected"
      ]
     },
     "execution_count": 9,
     "metadata": {
      "application/vnd.teradata.resultset": ""
     },
     "output_type": "execute_result"
    },
    {
     "data": {
      "text/plain": [
       "Success: 1 rows affected"
      ]
     },
     "execution_count": 9,
     "metadata": {
      "application/vnd.teradata.resultset": ""
     },
     "output_type": "execute_result"
    },
    {
     "data": {
      "text/plain": [
       "Success: 1 rows affected"
      ]
     },
     "execution_count": 9,
     "metadata": {
      "application/vnd.teradata.resultset": ""
     },
     "output_type": "execute_result"
    },
    {
     "data": {
      "text/plain": [
       "Success: 1 rows affected"
      ]
     },
     "execution_count": 9,
     "metadata": {
      "application/vnd.teradata.resultset": ""
     },
     "output_type": "execute_result"
    },
    {
     "data": {
      "text/plain": [
       "Success: 1 rows affected"
      ]
     },
     "execution_count": 9,
     "metadata": {
      "application/vnd.teradata.resultset": ""
     },
     "output_type": "execute_result"
    },
    {
     "data": {
      "text/plain": [
       "Success: 1 rows affected"
      ]
     },
     "execution_count": 9,
     "metadata": {
      "application/vnd.teradata.resultset": ""
     },
     "output_type": "execute_result"
    },
    {
     "data": {
      "text/plain": [
       "Success: 1 rows affected"
      ]
     },
     "execution_count": 9,
     "metadata": {
      "application/vnd.teradata.resultset": ""
     },
     "output_type": "execute_result"
    },
    {
     "data": {
      "text/plain": [
       "Success: 1 rows affected"
      ]
     },
     "execution_count": 9,
     "metadata": {
      "application/vnd.teradata.resultset": ""
     },
     "output_type": "execute_result"
    },
    {
     "data": {
      "text/plain": [
       "Success: 1 rows affected"
      ]
     },
     "execution_count": 9,
     "metadata": {
      "application/vnd.teradata.resultset": ""
     },
     "output_type": "execute_result"
    },
    {
     "data": {
      "text/plain": [
       "Success: 1 rows affected"
      ]
     },
     "execution_count": 9,
     "metadata": {
      "application/vnd.teradata.resultset": ""
     },
     "output_type": "execute_result"
    },
    {
     "data": {
      "text/plain": [
       "Success: 1 rows affected"
      ]
     },
     "execution_count": 9,
     "metadata": {
      "application/vnd.teradata.resultset": ""
     },
     "output_type": "execute_result"
    },
    {
     "data": {
      "text/plain": [
       "Success: 1 rows affected"
      ]
     },
     "execution_count": 9,
     "metadata": {
      "application/vnd.teradata.resultset": ""
     },
     "output_type": "execute_result"
    },
    {
     "data": {
      "text/plain": [
       "Success: 1 rows affected"
      ]
     },
     "execution_count": 9,
     "metadata": {
      "application/vnd.teradata.resultset": ""
     },
     "output_type": "execute_result"
    },
    {
     "data": {
      "text/plain": [
       "Success: 1 rows affected"
      ]
     },
     "execution_count": 9,
     "metadata": {
      "application/vnd.teradata.resultset": ""
     },
     "output_type": "execute_result"
    },
    {
     "data": {
      "text/plain": [
       "Success: 1 rows affected"
      ]
     },
     "execution_count": 9,
     "metadata": {
      "application/vnd.teradata.resultset": ""
     },
     "output_type": "execute_result"
    },
    {
     "data": {
      "text/plain": [
       "Success: 1 rows affected"
      ]
     },
     "execution_count": 9,
     "metadata": {
      "application/vnd.teradata.resultset": ""
     },
     "output_type": "execute_result"
    },
    {
     "data": {
      "text/plain": [
       "Success: 1 rows affected"
      ]
     },
     "execution_count": 9,
     "metadata": {
      "application/vnd.teradata.resultset": ""
     },
     "output_type": "execute_result"
    },
    {
     "data": {
      "text/plain": [
       "Success: 1 rows affected"
      ]
     },
     "execution_count": 9,
     "metadata": {
      "application/vnd.teradata.resultset": ""
     },
     "output_type": "execute_result"
    },
    {
     "data": {
      "text/plain": [
       "Success: 1 rows affected"
      ]
     },
     "execution_count": 9,
     "metadata": {
      "application/vnd.teradata.resultset": ""
     },
     "output_type": "execute_result"
    },
    {
     "data": {
      "text/plain": [
       "Success: 1 rows affected"
      ]
     },
     "execution_count": 9,
     "metadata": {
      "application/vnd.teradata.resultset": ""
     },
     "output_type": "execute_result"
    },
    {
     "data": {
      "text/plain": [
       "Success: 1 rows affected"
      ]
     },
     "execution_count": 9,
     "metadata": {
      "application/vnd.teradata.resultset": ""
     },
     "output_type": "execute_result"
    },
    {
     "data": {
      "text/plain": [
       "Success: 1 rows affected"
      ]
     },
     "execution_count": 9,
     "metadata": {
      "application/vnd.teradata.resultset": ""
     },
     "output_type": "execute_result"
    },
    {
     "data": {
      "text/plain": [
       "Success: 1 rows affected"
      ]
     },
     "execution_count": 9,
     "metadata": {
      "application/vnd.teradata.resultset": ""
     },
     "output_type": "execute_result"
    },
    {
     "data": {
      "text/plain": [
       "Success: 1 rows affected"
      ]
     },
     "execution_count": 9,
     "metadata": {
      "application/vnd.teradata.resultset": ""
     },
     "output_type": "execute_result"
    },
    {
     "data": {
      "text/plain": [
       "Success: 1 rows affected"
      ]
     },
     "execution_count": 9,
     "metadata": {
      "application/vnd.teradata.resultset": ""
     },
     "output_type": "execute_result"
    },
    {
     "data": {
      "text/plain": [
       "Success: 1 rows affected"
      ]
     },
     "execution_count": 9,
     "metadata": {
      "application/vnd.teradata.resultset": ""
     },
     "output_type": "execute_result"
    },
    {
     "data": {
      "text/plain": [
       "Success: 1 rows affected"
      ]
     },
     "execution_count": 9,
     "metadata": {
      "application/vnd.teradata.resultset": ""
     },
     "output_type": "execute_result"
    },
    {
     "data": {
      "text/plain": [
       "Success: 1 rows affected"
      ]
     },
     "execution_count": 9,
     "metadata": {
      "application/vnd.teradata.resultset": ""
     },
     "output_type": "execute_result"
    },
    {
     "data": {
      "text/plain": [
       "Success: 1 rows affected"
      ]
     },
     "execution_count": 9,
     "metadata": {
      "application/vnd.teradata.resultset": ""
     },
     "output_type": "execute_result"
    },
    {
     "data": {
      "text/plain": [
       "Success: 1 rows affected"
      ]
     },
     "execution_count": 9,
     "metadata": {
      "application/vnd.teradata.resultset": ""
     },
     "output_type": "execute_result"
    },
    {
     "data": {
      "text/plain": [
       "Success: 1 rows affected"
      ]
     },
     "execution_count": 9,
     "metadata": {
      "application/vnd.teradata.resultset": ""
     },
     "output_type": "execute_result"
    },
    {
     "data": {
      "text/plain": [
       "Success: 1 rows affected"
      ]
     },
     "execution_count": 9,
     "metadata": {
      "application/vnd.teradata.resultset": ""
     },
     "output_type": "execute_result"
    },
    {
     "data": {
      "text/plain": [
       "Success: 1 rows affected"
      ]
     },
     "execution_count": 9,
     "metadata": {
      "application/vnd.teradata.resultset": ""
     },
     "output_type": "execute_result"
    },
    {
     "data": {
      "text/plain": [
       "Success: 1 rows affected"
      ]
     },
     "execution_count": 9,
     "metadata": {
      "application/vnd.teradata.resultset": ""
     },
     "output_type": "execute_result"
    },
    {
     "data": {
      "text/plain": [
       "Success: 1 rows affected"
      ]
     },
     "execution_count": 9,
     "metadata": {
      "application/vnd.teradata.resultset": ""
     },
     "output_type": "execute_result"
    },
    {
     "data": {
      "text/plain": [
       "Success: 1 rows affected"
      ]
     },
     "execution_count": 9,
     "metadata": {
      "application/vnd.teradata.resultset": ""
     },
     "output_type": "execute_result"
    },
    {
     "data": {
      "text/plain": [
       "Success: 1 rows affected"
      ]
     },
     "execution_count": 9,
     "metadata": {
      "application/vnd.teradata.resultset": ""
     },
     "output_type": "execute_result"
    },
    {
     "data": {
      "text/plain": [
       "Success: 1 rows affected"
      ]
     },
     "execution_count": 9,
     "metadata": {
      "application/vnd.teradata.resultset": ""
     },
     "output_type": "execute_result"
    },
    {
     "data": {
      "text/plain": [
       "Success: 1 rows affected"
      ]
     },
     "execution_count": 9,
     "metadata": {
      "application/vnd.teradata.resultset": ""
     },
     "output_type": "execute_result"
    },
    {
     "data": {
      "text/plain": [
       "Success: 1 rows affected"
      ]
     },
     "execution_count": 9,
     "metadata": {
      "application/vnd.teradata.resultset": ""
     },
     "output_type": "execute_result"
    },
    {
     "data": {
      "text/plain": [
       "Success: 1 rows affected"
      ]
     },
     "execution_count": 9,
     "metadata": {
      "application/vnd.teradata.resultset": ""
     },
     "output_type": "execute_result"
    },
    {
     "data": {
      "text/plain": [
       "Success: 1 rows affected"
      ]
     },
     "execution_count": 9,
     "metadata": {
      "application/vnd.teradata.resultset": ""
     },
     "output_type": "execute_result"
    },
    {
     "data": {
      "text/plain": [
       "Success: 1 rows affected"
      ]
     },
     "execution_count": 9,
     "metadata": {
      "application/vnd.teradata.resultset": ""
     },
     "output_type": "execute_result"
    },
    {
     "data": {
      "text/plain": [
       "Success: 1 rows affected"
      ]
     },
     "execution_count": 9,
     "metadata": {
      "application/vnd.teradata.resultset": ""
     },
     "output_type": "execute_result"
    },
    {
     "data": {
      "text/plain": [
       "Success: 1 rows affected"
      ]
     },
     "execution_count": 9,
     "metadata": {
      "application/vnd.teradata.resultset": ""
     },
     "output_type": "execute_result"
    },
    {
     "data": {
      "text/plain": [
       "Success: 1 rows affected"
      ]
     },
     "execution_count": 9,
     "metadata": {
      "application/vnd.teradata.resultset": ""
     },
     "output_type": "execute_result"
    },
    {
     "data": {
      "text/plain": [
       "Success: 1 rows affected"
      ]
     },
     "execution_count": 9,
     "metadata": {
      "application/vnd.teradata.resultset": ""
     },
     "output_type": "execute_result"
    },
    {
     "data": {
      "text/plain": [
       "Success: 1 rows affected"
      ]
     },
     "execution_count": 9,
     "metadata": {
      "application/vnd.teradata.resultset": ""
     },
     "output_type": "execute_result"
    },
    {
     "data": {
      "text/plain": [
       "Success: 1 rows affected"
      ]
     },
     "execution_count": 9,
     "metadata": {
      "application/vnd.teradata.resultset": ""
     },
     "output_type": "execute_result"
    },
    {
     "data": {
      "text/plain": [
       "Success: 1 rows affected"
      ]
     },
     "execution_count": 9,
     "metadata": {
      "application/vnd.teradata.resultset": ""
     },
     "output_type": "execute_result"
    },
    {
     "data": {
      "text/plain": [
       "Success: 1 rows affected"
      ]
     },
     "execution_count": 9,
     "metadata": {
      "application/vnd.teradata.resultset": ""
     },
     "output_type": "execute_result"
    },
    {
     "data": {
      "text/plain": [
       "Success: 1 rows affected"
      ]
     },
     "execution_count": 9,
     "metadata": {
      "application/vnd.teradata.resultset": ""
     },
     "output_type": "execute_result"
    },
    {
     "data": {
      "text/plain": [
       "Success: 1 rows affected"
      ]
     },
     "execution_count": 9,
     "metadata": {
      "application/vnd.teradata.resultset": ""
     },
     "output_type": "execute_result"
    },
    {
     "data": {
      "text/plain": [
       "Success: 1 rows affected"
      ]
     },
     "execution_count": 9,
     "metadata": {
      "application/vnd.teradata.resultset": ""
     },
     "output_type": "execute_result"
    },
    {
     "data": {
      "text/plain": [
       "Success: 1 rows affected"
      ]
     },
     "execution_count": 9,
     "metadata": {
      "application/vnd.teradata.resultset": ""
     },
     "output_type": "execute_result"
    },
    {
     "data": {
      "text/plain": [
       "Success: 1 rows affected"
      ]
     },
     "execution_count": 9,
     "metadata": {
      "application/vnd.teradata.resultset": ""
     },
     "output_type": "execute_result"
    },
    {
     "data": {
      "text/plain": [
       "Success: 1 rows affected"
      ]
     },
     "execution_count": 9,
     "metadata": {
      "application/vnd.teradata.resultset": ""
     },
     "output_type": "execute_result"
    },
    {
     "data": {
      "text/plain": [
       "Success: 1 rows affected"
      ]
     },
     "execution_count": 9,
     "metadata": {
      "application/vnd.teradata.resultset": ""
     },
     "output_type": "execute_result"
    },
    {
     "data": {
      "text/plain": [
       "Success: 1 rows affected"
      ]
     },
     "execution_count": 9,
     "metadata": {
      "application/vnd.teradata.resultset": ""
     },
     "output_type": "execute_result"
    },
    {
     "data": {
      "text/plain": [
       "Success: 1 rows affected"
      ]
     },
     "execution_count": 9,
     "metadata": {
      "application/vnd.teradata.resultset": ""
     },
     "output_type": "execute_result"
    },
    {
     "data": {
      "text/plain": [
       "Success: 1 rows affected"
      ]
     },
     "execution_count": 9,
     "metadata": {
      "application/vnd.teradata.resultset": ""
     },
     "output_type": "execute_result"
    },
    {
     "data": {
      "text/plain": [
       "Success: 1 rows affected"
      ]
     },
     "execution_count": 9,
     "metadata": {
      "application/vnd.teradata.resultset": ""
     },
     "output_type": "execute_result"
    },
    {
     "data": {
      "text/plain": [
       "Success: 1 rows affected"
      ]
     },
     "execution_count": 9,
     "metadata": {
      "application/vnd.teradata.resultset": ""
     },
     "output_type": "execute_result"
    },
    {
     "data": {
      "text/plain": [
       "Success: 1 rows affected"
      ]
     },
     "execution_count": 9,
     "metadata": {
      "application/vnd.teradata.resultset": ""
     },
     "output_type": "execute_result"
    },
    {
     "data": {
      "text/plain": [
       "Success: 1 rows affected"
      ]
     },
     "execution_count": 9,
     "metadata": {
      "application/vnd.teradata.resultset": ""
     },
     "output_type": "execute_result"
    },
    {
     "data": {
      "text/plain": [
       "Success: 1 rows affected"
      ]
     },
     "execution_count": 9,
     "metadata": {
      "application/vnd.teradata.resultset": ""
     },
     "output_type": "execute_result"
    },
    {
     "data": {
      "text/plain": [
       "Success: 1 rows affected"
      ]
     },
     "execution_count": 9,
     "metadata": {
      "application/vnd.teradata.resultset": ""
     },
     "output_type": "execute_result"
    },
    {
     "data": {
      "text/plain": [
       "Success: 1 rows affected"
      ]
     },
     "execution_count": 9,
     "metadata": {
      "application/vnd.teradata.resultset": ""
     },
     "output_type": "execute_result"
    },
    {
     "data": {
      "text/plain": [
       "Success: 1 rows affected"
      ]
     },
     "execution_count": 9,
     "metadata": {
      "application/vnd.teradata.resultset": ""
     },
     "output_type": "execute_result"
    },
    {
     "data": {
      "text/plain": [
       "Success: 1 rows affected"
      ]
     },
     "execution_count": 9,
     "metadata": {
      "application/vnd.teradata.resultset": ""
     },
     "output_type": "execute_result"
    },
    {
     "data": {
      "text/plain": [
       "Success: 1 rows affected"
      ]
     },
     "execution_count": 9,
     "metadata": {
      "application/vnd.teradata.resultset": ""
     },
     "output_type": "execute_result"
    },
    {
     "data": {
      "text/plain": [
       "Success: 1 rows affected"
      ]
     },
     "execution_count": 9,
     "metadata": {
      "application/vnd.teradata.resultset": ""
     },
     "output_type": "execute_result"
    },
    {
     "data": {
      "text/plain": [
       "Success: 1 rows affected"
      ]
     },
     "execution_count": 9,
     "metadata": {
      "application/vnd.teradata.resultset": ""
     },
     "output_type": "execute_result"
    },
    {
     "data": {
      "text/plain": [
       "Success: 1 rows affected"
      ]
     },
     "execution_count": 9,
     "metadata": {
      "application/vnd.teradata.resultset": ""
     },
     "output_type": "execute_result"
    },
    {
     "data": {
      "text/plain": [
       "Success: 1 rows affected"
      ]
     },
     "execution_count": 9,
     "metadata": {
      "application/vnd.teradata.resultset": ""
     },
     "output_type": "execute_result"
    },
    {
     "data": {
      "text/plain": [
       "Success: 1 rows affected"
      ]
     },
     "execution_count": 9,
     "metadata": {
      "application/vnd.teradata.resultset": ""
     },
     "output_type": "execute_result"
    },
    {
     "data": {
      "text/plain": [
       "Success: 1 rows affected"
      ]
     },
     "execution_count": 9,
     "metadata": {
      "application/vnd.teradata.resultset": ""
     },
     "output_type": "execute_result"
    },
    {
     "data": {
      "text/plain": [
       "Success: 1 rows affected"
      ]
     },
     "execution_count": 9,
     "metadata": {
      "application/vnd.teradata.resultset": ""
     },
     "output_type": "execute_result"
    },
    {
     "data": {
      "text/plain": [
       "Success: 1 rows affected"
      ]
     },
     "execution_count": 9,
     "metadata": {
      "application/vnd.teradata.resultset": ""
     },
     "output_type": "execute_result"
    },
    {
     "data": {
      "text/plain": [
       "Success: 1 rows affected"
      ]
     },
     "execution_count": 9,
     "metadata": {
      "application/vnd.teradata.resultset": ""
     },
     "output_type": "execute_result"
    },
    {
     "data": {
      "text/plain": [
       "Success: 1 rows affected"
      ]
     },
     "execution_count": 9,
     "metadata": {
      "application/vnd.teradata.resultset": ""
     },
     "output_type": "execute_result"
    },
    {
     "data": {
      "text/plain": [
       "Success: 1 rows affected"
      ]
     },
     "execution_count": 9,
     "metadata": {
      "application/vnd.teradata.resultset": ""
     },
     "output_type": "execute_result"
    },
    {
     "data": {
      "text/plain": [
       "Success: 1 rows affected"
      ]
     },
     "execution_count": 9,
     "metadata": {
      "application/vnd.teradata.resultset": ""
     },
     "output_type": "execute_result"
    },
    {
     "data": {
      "text/plain": [
       "Success: 1 rows affected"
      ]
     },
     "execution_count": 9,
     "metadata": {
      "application/vnd.teradata.resultset": ""
     },
     "output_type": "execute_result"
    },
    {
     "data": {
      "text/plain": [
       "Success: 1 rows affected"
      ]
     },
     "execution_count": 9,
     "metadata": {
      "application/vnd.teradata.resultset": ""
     },
     "output_type": "execute_result"
    },
    {
     "data": {
      "text/plain": [
       "Success: 1 rows affected"
      ]
     },
     "execution_count": 9,
     "metadata": {
      "application/vnd.teradata.resultset": ""
     },
     "output_type": "execute_result"
    },
    {
     "data": {
      "text/plain": [
       "Success: 1 rows affected"
      ]
     },
     "execution_count": 9,
     "metadata": {
      "application/vnd.teradata.resultset": ""
     },
     "output_type": "execute_result"
    },
    {
     "data": {
      "text/plain": [
       "Success: 1 rows affected"
      ]
     },
     "execution_count": 9,
     "metadata": {
      "application/vnd.teradata.resultset": ""
     },
     "output_type": "execute_result"
    },
    {
     "data": {
      "text/plain": [
       "Success: 1 rows affected"
      ]
     },
     "execution_count": 9,
     "metadata": {
      "application/vnd.teradata.resultset": ""
     },
     "output_type": "execute_result"
    },
    {
     "data": {
      "text/plain": [
       "Success: 1 rows affected"
      ]
     },
     "execution_count": 9,
     "metadata": {
      "application/vnd.teradata.resultset": ""
     },
     "output_type": "execute_result"
    },
    {
     "data": {
      "text/plain": [
       "Success: 1 rows affected"
      ]
     },
     "execution_count": 9,
     "metadata": {
      "application/vnd.teradata.resultset": ""
     },
     "output_type": "execute_result"
    },
    {
     "data": {
      "text/plain": [
       "Success: 1 rows affected"
      ]
     },
     "execution_count": 9,
     "metadata": {
      "application/vnd.teradata.resultset": ""
     },
     "output_type": "execute_result"
    },
    {
     "data": {
      "text/plain": [
       "Success: 1 rows affected"
      ]
     },
     "execution_count": 9,
     "metadata": {
      "application/vnd.teradata.resultset": ""
     },
     "output_type": "execute_result"
    },
    {
     "data": {
      "text/plain": [
       "Success: 1 rows affected"
      ]
     },
     "execution_count": 9,
     "metadata": {
      "application/vnd.teradata.resultset": ""
     },
     "output_type": "execute_result"
    },
    {
     "data": {
      "text/plain": [
       "Success: 1 rows affected"
      ]
     },
     "execution_count": 9,
     "metadata": {
      "application/vnd.teradata.resultset": ""
     },
     "output_type": "execute_result"
    },
    {
     "data": {
      "text/plain": [
       "Success: 1 rows affected"
      ]
     },
     "execution_count": 9,
     "metadata": {
      "application/vnd.teradata.resultset": ""
     },
     "output_type": "execute_result"
    },
    {
     "data": {
      "text/plain": [
       "Success: 1 rows affected"
      ]
     },
     "execution_count": 9,
     "metadata": {
      "application/vnd.teradata.resultset": ""
     },
     "output_type": "execute_result"
    },
    {
     "data": {
      "text/plain": [
       "Success: 1 rows affected"
      ]
     },
     "execution_count": 9,
     "metadata": {
      "application/vnd.teradata.resultset": ""
     },
     "output_type": "execute_result"
    },
    {
     "data": {
      "text/plain": [
       "Success: 1 rows affected"
      ]
     },
     "execution_count": 9,
     "metadata": {
      "application/vnd.teradata.resultset": ""
     },
     "output_type": "execute_result"
    },
    {
     "data": {
      "text/plain": [
       "Success: 1 rows affected"
      ]
     },
     "execution_count": 9,
     "metadata": {
      "application/vnd.teradata.resultset": ""
     },
     "output_type": "execute_result"
    },
    {
     "data": {
      "text/plain": [
       "Success: 1 rows affected"
      ]
     },
     "execution_count": 9,
     "metadata": {
      "application/vnd.teradata.resultset": ""
     },
     "output_type": "execute_result"
    },
    {
     "data": {
      "text/plain": [
       "Success: 1 rows affected"
      ]
     },
     "execution_count": 9,
     "metadata": {
      "application/vnd.teradata.resultset": ""
     },
     "output_type": "execute_result"
    },
    {
     "data": {
      "text/plain": [
       "Success: 1 rows affected"
      ]
     },
     "execution_count": 9,
     "metadata": {
      "application/vnd.teradata.resultset": ""
     },
     "output_type": "execute_result"
    },
    {
     "data": {
      "text/plain": [
       "Success: 1 rows affected"
      ]
     },
     "execution_count": 9,
     "metadata": {
      "application/vnd.teradata.resultset": ""
     },
     "output_type": "execute_result"
    },
    {
     "data": {
      "text/plain": [
       "Success: 1 rows affected"
      ]
     },
     "execution_count": 9,
     "metadata": {
      "application/vnd.teradata.resultset": ""
     },
     "output_type": "execute_result"
    },
    {
     "data": {
      "text/plain": [
       "Success: 1 rows affected"
      ]
     },
     "execution_count": 9,
     "metadata": {
      "application/vnd.teradata.resultset": ""
     },
     "output_type": "execute_result"
    },
    {
     "data": {
      "text/plain": [
       "Success: 1 rows affected"
      ]
     },
     "execution_count": 9,
     "metadata": {
      "application/vnd.teradata.resultset": ""
     },
     "output_type": "execute_result"
    },
    {
     "data": {
      "text/plain": [
       "Success: 1 rows affected"
      ]
     },
     "execution_count": 9,
     "metadata": {
      "application/vnd.teradata.resultset": ""
     },
     "output_type": "execute_result"
    },
    {
     "data": {
      "text/plain": [
       "Success: 1 rows affected"
      ]
     },
     "execution_count": 9,
     "metadata": {
      "application/vnd.teradata.resultset": ""
     },
     "output_type": "execute_result"
    },
    {
     "data": {
      "text/plain": [
       "Success: 1 rows affected"
      ]
     },
     "execution_count": 9,
     "metadata": {
      "application/vnd.teradata.resultset": ""
     },
     "output_type": "execute_result"
    },
    {
     "data": {
      "text/plain": [
       "Success: 1 rows affected"
      ]
     },
     "execution_count": 9,
     "metadata": {
      "application/vnd.teradata.resultset": ""
     },
     "output_type": "execute_result"
    },
    {
     "data": {
      "text/plain": [
       "Success: 1 rows affected"
      ]
     },
     "execution_count": 9,
     "metadata": {
      "application/vnd.teradata.resultset": ""
     },
     "output_type": "execute_result"
    },
    {
     "data": {
      "text/plain": [
       "Success: 1 rows affected"
      ]
     },
     "execution_count": 9,
     "metadata": {
      "application/vnd.teradata.resultset": ""
     },
     "output_type": "execute_result"
    },
    {
     "data": {
      "text/plain": [
       "Success: 1 rows affected"
      ]
     },
     "execution_count": 9,
     "metadata": {
      "application/vnd.teradata.resultset": ""
     },
     "output_type": "execute_result"
    },
    {
     "data": {
      "text/plain": [
       "Success: 1 rows affected"
      ]
     },
     "execution_count": 9,
     "metadata": {
      "application/vnd.teradata.resultset": ""
     },
     "output_type": "execute_result"
    },
    {
     "data": {
      "text/plain": [
       "Success: 1 rows affected"
      ]
     },
     "execution_count": 9,
     "metadata": {
      "application/vnd.teradata.resultset": ""
     },
     "output_type": "execute_result"
    },
    {
     "data": {
      "text/plain": [
       "Success: 1 rows affected"
      ]
     },
     "execution_count": 9,
     "metadata": {
      "application/vnd.teradata.resultset": ""
     },
     "output_type": "execute_result"
    },
    {
     "data": {
      "text/plain": [
       "Success: 1 rows affected"
      ]
     },
     "execution_count": 9,
     "metadata": {
      "application/vnd.teradata.resultset": ""
     },
     "output_type": "execute_result"
    },
    {
     "data": {
      "text/plain": [
       "Success: 1 rows affected"
      ]
     },
     "execution_count": 9,
     "metadata": {
      "application/vnd.teradata.resultset": ""
     },
     "output_type": "execute_result"
    },
    {
     "data": {
      "text/plain": [
       "Success: 1 rows affected"
      ]
     },
     "execution_count": 9,
     "metadata": {
      "application/vnd.teradata.resultset": ""
     },
     "output_type": "execute_result"
    },
    {
     "data": {
      "text/plain": [
       "Success: 1 rows affected"
      ]
     },
     "execution_count": 9,
     "metadata": {
      "application/vnd.teradata.resultset": ""
     },
     "output_type": "execute_result"
    },
    {
     "data": {
      "text/plain": [
       "Success: 1 rows affected"
      ]
     },
     "execution_count": 9,
     "metadata": {
      "application/vnd.teradata.resultset": ""
     },
     "output_type": "execute_result"
    },
    {
     "data": {
      "text/plain": [
       "Success: 1 rows affected"
      ]
     },
     "execution_count": 9,
     "metadata": {
      "application/vnd.teradata.resultset": ""
     },
     "output_type": "execute_result"
    },
    {
     "data": {
      "text/plain": [
       "Success: 1 rows affected"
      ]
     },
     "execution_count": 9,
     "metadata": {
      "application/vnd.teradata.resultset": ""
     },
     "output_type": "execute_result"
    },
    {
     "data": {
      "text/plain": [
       "Success: 1 rows affected"
      ]
     },
     "execution_count": 9,
     "metadata": {
      "application/vnd.teradata.resultset": ""
     },
     "output_type": "execute_result"
    },
    {
     "data": {
      "text/plain": [
       "Success: 1 rows affected"
      ]
     },
     "execution_count": 9,
     "metadata": {
      "application/vnd.teradata.resultset": ""
     },
     "output_type": "execute_result"
    },
    {
     "data": {
      "text/plain": [
       "Success: 1 rows affected"
      ]
     },
     "execution_count": 9,
     "metadata": {
      "application/vnd.teradata.resultset": ""
     },
     "output_type": "execute_result"
    },
    {
     "data": {
      "text/plain": [
       "Success: 1 rows affected"
      ]
     },
     "execution_count": 9,
     "metadata": {
      "application/vnd.teradata.resultset": ""
     },
     "output_type": "execute_result"
    },
    {
     "data": {
      "text/plain": [
       "Success: 1 rows affected"
      ]
     },
     "execution_count": 9,
     "metadata": {
      "application/vnd.teradata.resultset": ""
     },
     "output_type": "execute_result"
    },
    {
     "data": {
      "text/plain": [
       "Success: 1 rows affected"
      ]
     },
     "execution_count": 9,
     "metadata": {
      "application/vnd.teradata.resultset": ""
     },
     "output_type": "execute_result"
    },
    {
     "data": {
      "text/plain": [
       "Success: 1 rows affected"
      ]
     },
     "execution_count": 9,
     "metadata": {
      "application/vnd.teradata.resultset": ""
     },
     "output_type": "execute_result"
    },
    {
     "data": {
      "text/plain": [
       "Success: 1 rows affected"
      ]
     },
     "execution_count": 9,
     "metadata": {
      "application/vnd.teradata.resultset": ""
     },
     "output_type": "execute_result"
    },
    {
     "data": {
      "text/plain": [
       "Success: 1 rows affected"
      ]
     },
     "execution_count": 9,
     "metadata": {
      "application/vnd.teradata.resultset": ""
     },
     "output_type": "execute_result"
    },
    {
     "data": {
      "text/plain": [
       "Success: 1 rows affected"
      ]
     },
     "execution_count": 9,
     "metadata": {
      "application/vnd.teradata.resultset": ""
     },
     "output_type": "execute_result"
    },
    {
     "data": {
      "text/plain": [
       "Success: 1 rows affected"
      ]
     },
     "execution_count": 9,
     "metadata": {
      "application/vnd.teradata.resultset": ""
     },
     "output_type": "execute_result"
    },
    {
     "data": {
      "text/plain": [
       "Success: 1 rows affected"
      ]
     },
     "execution_count": 9,
     "metadata": {
      "application/vnd.teradata.resultset": ""
     },
     "output_type": "execute_result"
    },
    {
     "data": {
      "text/plain": [
       "Success: 1 rows affected"
      ]
     },
     "execution_count": 9,
     "metadata": {
      "application/vnd.teradata.resultset": ""
     },
     "output_type": "execute_result"
    },
    {
     "data": {
      "text/plain": [
       "Success: 1 rows affected"
      ]
     },
     "execution_count": 9,
     "metadata": {
      "application/vnd.teradata.resultset": ""
     },
     "output_type": "execute_result"
    },
    {
     "data": {
      "text/plain": [
       "Success: 1 rows affected"
      ]
     },
     "execution_count": 9,
     "metadata": {
      "application/vnd.teradata.resultset": ""
     },
     "output_type": "execute_result"
    },
    {
     "data": {
      "text/plain": [
       "Success: 1 rows affected"
      ]
     },
     "execution_count": 9,
     "metadata": {
      "application/vnd.teradata.resultset": ""
     },
     "output_type": "execute_result"
    },
    {
     "data": {
      "text/plain": [
       "Success: 1 rows affected"
      ]
     },
     "execution_count": 9,
     "metadata": {
      "application/vnd.teradata.resultset": ""
     },
     "output_type": "execute_result"
    },
    {
     "data": {
      "text/plain": [
       "Success: 1 rows affected"
      ]
     },
     "execution_count": 9,
     "metadata": {
      "application/vnd.teradata.resultset": ""
     },
     "output_type": "execute_result"
    },
    {
     "data": {
      "text/plain": [
       "Success: 1 rows affected"
      ]
     },
     "execution_count": 9,
     "metadata": {
      "application/vnd.teradata.resultset": ""
     },
     "output_type": "execute_result"
    },
    {
     "data": {
      "text/plain": [
       "Success: 1 rows affected"
      ]
     },
     "execution_count": 9,
     "metadata": {
      "application/vnd.teradata.resultset": ""
     },
     "output_type": "execute_result"
    },
    {
     "data": {
      "text/plain": [
       "Success: 1 rows affected"
      ]
     },
     "execution_count": 9,
     "metadata": {
      "application/vnd.teradata.resultset": ""
     },
     "output_type": "execute_result"
    },
    {
     "data": {
      "text/plain": [
       "Success: 1 rows affected"
      ]
     },
     "execution_count": 9,
     "metadata": {
      "application/vnd.teradata.resultset": ""
     },
     "output_type": "execute_result"
    },
    {
     "data": {
      "text/plain": [
       "Success: 1 rows affected"
      ]
     },
     "execution_count": 9,
     "metadata": {
      "application/vnd.teradata.resultset": ""
     },
     "output_type": "execute_result"
    },
    {
     "data": {
      "text/plain": [
       "Success: 1 rows affected"
      ]
     },
     "execution_count": 9,
     "metadata": {
      "application/vnd.teradata.resultset": ""
     },
     "output_type": "execute_result"
    },
    {
     "data": {
      "text/plain": [
       "Success: 1 rows affected"
      ]
     },
     "execution_count": 9,
     "metadata": {
      "application/vnd.teradata.resultset": ""
     },
     "output_type": "execute_result"
    },
    {
     "data": {
      "text/plain": [
       "Success: 1 rows affected"
      ]
     },
     "execution_count": 9,
     "metadata": {
      "application/vnd.teradata.resultset": ""
     },
     "output_type": "execute_result"
    },
    {
     "data": {
      "text/plain": [
       "Success: 1 rows affected"
      ]
     },
     "execution_count": 9,
     "metadata": {
      "application/vnd.teradata.resultset": ""
     },
     "output_type": "execute_result"
    },
    {
     "data": {
      "text/plain": [
       "Success: 1 rows affected"
      ]
     },
     "execution_count": 9,
     "metadata": {
      "application/vnd.teradata.resultset": ""
     },
     "output_type": "execute_result"
    },
    {
     "data": {
      "text/plain": [
       "Success: 1 rows affected"
      ]
     },
     "execution_count": 9,
     "metadata": {
      "application/vnd.teradata.resultset": ""
     },
     "output_type": "execute_result"
    },
    {
     "data": {
      "text/plain": [
       "Success: 1 rows affected"
      ]
     },
     "execution_count": 9,
     "metadata": {
      "application/vnd.teradata.resultset": ""
     },
     "output_type": "execute_result"
    },
    {
     "data": {
      "text/plain": [
       "Success: 1 rows affected"
      ]
     },
     "execution_count": 9,
     "metadata": {
      "application/vnd.teradata.resultset": ""
     },
     "output_type": "execute_result"
    },
    {
     "data": {
      "text/plain": [
       "Success: 1 rows affected"
      ]
     },
     "execution_count": 9,
     "metadata": {
      "application/vnd.teradata.resultset": ""
     },
     "output_type": "execute_result"
    },
    {
     "data": {
      "text/plain": [
       "Success: 1 rows affected"
      ]
     },
     "execution_count": 9,
     "metadata": {
      "application/vnd.teradata.resultset": ""
     },
     "output_type": "execute_result"
    },
    {
     "data": {
      "text/plain": [
       "Success: 1 rows affected"
      ]
     },
     "execution_count": 9,
     "metadata": {
      "application/vnd.teradata.resultset": ""
     },
     "output_type": "execute_result"
    },
    {
     "data": {
      "text/plain": [
       "Success: 1 rows affected"
      ]
     },
     "execution_count": 9,
     "metadata": {
      "application/vnd.teradata.resultset": ""
     },
     "output_type": "execute_result"
    },
    {
     "data": {
      "text/plain": [
       "Success: 1 rows affected"
      ]
     },
     "execution_count": 9,
     "metadata": {
      "application/vnd.teradata.resultset": ""
     },
     "output_type": "execute_result"
    },
    {
     "data": {
      "text/plain": [
       "Success: 1 rows affected"
      ]
     },
     "execution_count": 9,
     "metadata": {
      "application/vnd.teradata.resultset": ""
     },
     "output_type": "execute_result"
    },
    {
     "data": {
      "text/plain": [
       "Success: 1 rows affected"
      ]
     },
     "execution_count": 9,
     "metadata": {
      "application/vnd.teradata.resultset": ""
     },
     "output_type": "execute_result"
    },
    {
     "data": {
      "text/plain": [
       "Success: 1 rows affected"
      ]
     },
     "execution_count": 9,
     "metadata": {
      "application/vnd.teradata.resultset": ""
     },
     "output_type": "execute_result"
    },
    {
     "data": {
      "text/plain": [
       "Success: 1 rows affected"
      ]
     },
     "execution_count": 9,
     "metadata": {
      "application/vnd.teradata.resultset": ""
     },
     "output_type": "execute_result"
    },
    {
     "data": {
      "text/plain": [
       "Success: 1 rows affected"
      ]
     },
     "execution_count": 9,
     "metadata": {
      "application/vnd.teradata.resultset": ""
     },
     "output_type": "execute_result"
    },
    {
     "data": {
      "text/plain": [
       "Success: 1 rows affected"
      ]
     },
     "execution_count": 9,
     "metadata": {
      "application/vnd.teradata.resultset": ""
     },
     "output_type": "execute_result"
    },
    {
     "data": {
      "text/plain": [
       "Success: 1 rows affected"
      ]
     },
     "execution_count": 9,
     "metadata": {
      "application/vnd.teradata.resultset": ""
     },
     "output_type": "execute_result"
    },
    {
     "data": {
      "text/plain": [
       "Success: 1 rows affected"
      ]
     },
     "execution_count": 9,
     "metadata": {
      "application/vnd.teradata.resultset": ""
     },
     "output_type": "execute_result"
    },
    {
     "data": {
      "text/plain": [
       "Success: 1 rows affected"
      ]
     },
     "execution_count": 9,
     "metadata": {
      "application/vnd.teradata.resultset": ""
     },
     "output_type": "execute_result"
    },
    {
     "data": {
      "text/plain": [
       "Success: 1 rows affected"
      ]
     },
     "execution_count": 9,
     "metadata": {
      "application/vnd.teradata.resultset": ""
     },
     "output_type": "execute_result"
    },
    {
     "data": {
      "text/plain": [
       "Success: 1 rows affected"
      ]
     },
     "execution_count": 9,
     "metadata": {
      "application/vnd.teradata.resultset": ""
     },
     "output_type": "execute_result"
    },
    {
     "data": {
      "text/plain": [
       "Success: 1 rows affected"
      ]
     },
     "execution_count": 9,
     "metadata": {
      "application/vnd.teradata.resultset": ""
     },
     "output_type": "execute_result"
    },
    {
     "data": {
      "text/plain": [
       "Success: 1 rows affected"
      ]
     },
     "execution_count": 9,
     "metadata": {
      "application/vnd.teradata.resultset": ""
     },
     "output_type": "execute_result"
    },
    {
     "data": {
      "text/plain": [
       "Success: 1 rows affected"
      ]
     },
     "execution_count": 9,
     "metadata": {
      "application/vnd.teradata.resultset": ""
     },
     "output_type": "execute_result"
    },
    {
     "data": {
      "text/plain": [
       "Success: 1 rows affected"
      ]
     },
     "execution_count": 9,
     "metadata": {
      "application/vnd.teradata.resultset": ""
     },
     "output_type": "execute_result"
    },
    {
     "data": {
      "text/plain": [
       "Success: 1 rows affected"
      ]
     },
     "execution_count": 9,
     "metadata": {
      "application/vnd.teradata.resultset": ""
     },
     "output_type": "execute_result"
    },
    {
     "data": {
      "text/plain": [
       "Success: 1 rows affected"
      ]
     },
     "execution_count": 9,
     "metadata": {
      "application/vnd.teradata.resultset": ""
     },
     "output_type": "execute_result"
    },
    {
     "data": {
      "text/plain": [
       "Success: 1 rows affected"
      ]
     },
     "execution_count": 9,
     "metadata": {
      "application/vnd.teradata.resultset": ""
     },
     "output_type": "execute_result"
    },
    {
     "data": {
      "text/plain": [
       "Success: 1 rows affected"
      ]
     },
     "execution_count": 9,
     "metadata": {
      "application/vnd.teradata.resultset": ""
     },
     "output_type": "execute_result"
    },
    {
     "data": {
      "text/plain": [
       "Success: 1 rows affected"
      ]
     },
     "execution_count": 9,
     "metadata": {
      "application/vnd.teradata.resultset": ""
     },
     "output_type": "execute_result"
    },
    {
     "data": {
      "text/plain": [
       "Success: 1 rows affected"
      ]
     },
     "execution_count": 9,
     "metadata": {
      "application/vnd.teradata.resultset": ""
     },
     "output_type": "execute_result"
    },
    {
     "data": {
      "text/plain": [
       "Success: 1 rows affected"
      ]
     },
     "execution_count": 9,
     "metadata": {
      "application/vnd.teradata.resultset": ""
     },
     "output_type": "execute_result"
    },
    {
     "data": {
      "text/plain": [
       "Success: 1 rows affected"
      ]
     },
     "execution_count": 9,
     "metadata": {
      "application/vnd.teradata.resultset": ""
     },
     "output_type": "execute_result"
    },
    {
     "data": {
      "text/plain": [
       "Success: 1 rows affected"
      ]
     },
     "execution_count": 9,
     "metadata": {
      "application/vnd.teradata.resultset": ""
     },
     "output_type": "execute_result"
    },
    {
     "data": {
      "text/plain": [
       "Success: 1 rows affected"
      ]
     },
     "execution_count": 9,
     "metadata": {
      "application/vnd.teradata.resultset": ""
     },
     "output_type": "execute_result"
    },
    {
     "data": {
      "text/plain": [
       "Success: 1 rows affected"
      ]
     },
     "execution_count": 9,
     "metadata": {
      "application/vnd.teradata.resultset": ""
     },
     "output_type": "execute_result"
    },
    {
     "data": {
      "text/plain": [
       "Success: 1 rows affected"
      ]
     },
     "execution_count": 9,
     "metadata": {
      "application/vnd.teradata.resultset": ""
     },
     "output_type": "execute_result"
    },
    {
     "data": {
      "text/plain": [
       "Success: 1 rows affected"
      ]
     },
     "execution_count": 9,
     "metadata": {
      "application/vnd.teradata.resultset": ""
     },
     "output_type": "execute_result"
    },
    {
     "data": {
      "text/plain": [
       "Success: 1 rows affected"
      ]
     },
     "execution_count": 9,
     "metadata": {
      "application/vnd.teradata.resultset": ""
     },
     "output_type": "execute_result"
    },
    {
     "data": {
      "text/plain": [
       "Success: 1 rows affected"
      ]
     },
     "execution_count": 9,
     "metadata": {
      "application/vnd.teradata.resultset": ""
     },
     "output_type": "execute_result"
    },
    {
     "data": {
      "text/plain": [
       "Success: 1 rows affected"
      ]
     },
     "execution_count": 9,
     "metadata": {
      "application/vnd.teradata.resultset": ""
     },
     "output_type": "execute_result"
    },
    {
     "data": {
      "text/plain": [
       "Success: 1 rows affected"
      ]
     },
     "execution_count": 9,
     "metadata": {
      "application/vnd.teradata.resultset": ""
     },
     "output_type": "execute_result"
    },
    {
     "data": {
      "text/plain": [
       "Success: 1 rows affected"
      ]
     },
     "execution_count": 9,
     "metadata": {
      "application/vnd.teradata.resultset": ""
     },
     "output_type": "execute_result"
    },
    {
     "data": {
      "text/plain": [
       "Success: 1 rows affected"
      ]
     },
     "execution_count": 9,
     "metadata": {
      "application/vnd.teradata.resultset": ""
     },
     "output_type": "execute_result"
    },
    {
     "data": {
      "text/plain": [
       "Success: 1 rows affected"
      ]
     },
     "execution_count": 9,
     "metadata": {
      "application/vnd.teradata.resultset": ""
     },
     "output_type": "execute_result"
    },
    {
     "data": {
      "text/plain": [
       "Success: 1 rows affected"
      ]
     },
     "execution_count": 9,
     "metadata": {
      "application/vnd.teradata.resultset": ""
     },
     "output_type": "execute_result"
    },
    {
     "data": {
      "text/plain": [
       "Success: 1 rows affected"
      ]
     },
     "execution_count": 9,
     "metadata": {
      "application/vnd.teradata.resultset": ""
     },
     "output_type": "execute_result"
    },
    {
     "data": {
      "text/plain": [
       "Success: 1 rows affected"
      ]
     },
     "execution_count": 9,
     "metadata": {
      "application/vnd.teradata.resultset": ""
     },
     "output_type": "execute_result"
    },
    {
     "data": {
      "text/plain": [
       "Success: 1 rows affected"
      ]
     },
     "execution_count": 9,
     "metadata": {
      "application/vnd.teradata.resultset": ""
     },
     "output_type": "execute_result"
    },
    {
     "data": {
      "text/plain": [
       "Success: 1 rows affected"
      ]
     },
     "execution_count": 9,
     "metadata": {
      "application/vnd.teradata.resultset": ""
     },
     "output_type": "execute_result"
    },
    {
     "data": {
      "text/plain": [
       "Success: 1 rows affected"
      ]
     },
     "execution_count": 9,
     "metadata": {
      "application/vnd.teradata.resultset": ""
     },
     "output_type": "execute_result"
    },
    {
     "data": {
      "text/plain": [
       "Success: 1 rows affected"
      ]
     },
     "execution_count": 9,
     "metadata": {
      "application/vnd.teradata.resultset": ""
     },
     "output_type": "execute_result"
    },
    {
     "data": {
      "text/plain": [
       "Success: 1 rows affected"
      ]
     },
     "execution_count": 9,
     "metadata": {
      "application/vnd.teradata.resultset": ""
     },
     "output_type": "execute_result"
    },
    {
     "data": {
      "text/plain": [
       "Success: 1 rows affected"
      ]
     },
     "execution_count": 9,
     "metadata": {
      "application/vnd.teradata.resultset": ""
     },
     "output_type": "execute_result"
    },
    {
     "data": {
      "text/plain": [
       "Success: 1 rows affected"
      ]
     },
     "execution_count": 9,
     "metadata": {
      "application/vnd.teradata.resultset": ""
     },
     "output_type": "execute_result"
    },
    {
     "data": {
      "text/plain": [
       "Success: 1 rows affected"
      ]
     },
     "execution_count": 9,
     "metadata": {
      "application/vnd.teradata.resultset": ""
     },
     "output_type": "execute_result"
    },
    {
     "data": {
      "text/plain": [
       "Success: 1 rows affected"
      ]
     },
     "execution_count": 9,
     "metadata": {
      "application/vnd.teradata.resultset": ""
     },
     "output_type": "execute_result"
    },
    {
     "data": {
      "text/plain": [
       "Success: 1 rows affected"
      ]
     },
     "execution_count": 9,
     "metadata": {
      "application/vnd.teradata.resultset": ""
     },
     "output_type": "execute_result"
    },
    {
     "data": {
      "text/plain": [
       "Success: 1 rows affected"
      ]
     },
     "execution_count": 9,
     "metadata": {
      "application/vnd.teradata.resultset": ""
     },
     "output_type": "execute_result"
    },
    {
     "data": {
      "text/plain": [
       "Success: 1 rows affected"
      ]
     },
     "execution_count": 9,
     "metadata": {
      "application/vnd.teradata.resultset": ""
     },
     "output_type": "execute_result"
    },
    {
     "data": {
      "text/plain": [
       "Success: 1 rows affected"
      ]
     },
     "execution_count": 9,
     "metadata": {
      "application/vnd.teradata.resultset": ""
     },
     "output_type": "execute_result"
    },
    {
     "data": {
      "text/plain": [
       "Success: 1 rows affected"
      ]
     },
     "execution_count": 9,
     "metadata": {
      "application/vnd.teradata.resultset": ""
     },
     "output_type": "execute_result"
    },
    {
     "data": {
      "text/plain": [
       "Success: 1 rows affected"
      ]
     },
     "execution_count": 9,
     "metadata": {
      "application/vnd.teradata.resultset": ""
     },
     "output_type": "execute_result"
    },
    {
     "data": {
      "text/plain": [
       "Success: 1 rows affected"
      ]
     },
     "execution_count": 9,
     "metadata": {
      "application/vnd.teradata.resultset": ""
     },
     "output_type": "execute_result"
    },
    {
     "data": {
      "text/plain": [
       "Success: 1 rows affected"
      ]
     },
     "execution_count": 9,
     "metadata": {
      "application/vnd.teradata.resultset": ""
     },
     "output_type": "execute_result"
    },
    {
     "data": {
      "text/plain": [
       "Success: 1 rows affected"
      ]
     },
     "execution_count": 9,
     "metadata": {
      "application/vnd.teradata.resultset": ""
     },
     "output_type": "execute_result"
    },
    {
     "data": {
      "text/plain": [
       "Success: 1 rows affected"
      ]
     },
     "execution_count": 9,
     "metadata": {
      "application/vnd.teradata.resultset": ""
     },
     "output_type": "execute_result"
    },
    {
     "data": {
      "text/plain": [
       "Success: 1 rows affected"
      ]
     },
     "execution_count": 9,
     "metadata": {
      "application/vnd.teradata.resultset": ""
     },
     "output_type": "execute_result"
    },
    {
     "data": {
      "text/plain": [
       "Success: 1 rows affected"
      ]
     },
     "execution_count": 9,
     "metadata": {
      "application/vnd.teradata.resultset": ""
     },
     "output_type": "execute_result"
    },
    {
     "data": {
      "text/plain": [
       "Success: 1 rows affected"
      ]
     },
     "execution_count": 9,
     "metadata": {
      "application/vnd.teradata.resultset": ""
     },
     "output_type": "execute_result"
    },
    {
     "data": {
      "text/plain": [
       "Success: 1 rows affected"
      ]
     },
     "execution_count": 9,
     "metadata": {
      "application/vnd.teradata.resultset": ""
     },
     "output_type": "execute_result"
    },
    {
     "data": {
      "text/plain": [
       "Success: 1 rows affected"
      ]
     },
     "execution_count": 9,
     "metadata": {
      "application/vnd.teradata.resultset": ""
     },
     "output_type": "execute_result"
    },
    {
     "data": {
      "text/plain": [
       "Success: 1 rows affected"
      ]
     },
     "execution_count": 9,
     "metadata": {
      "application/vnd.teradata.resultset": ""
     },
     "output_type": "execute_result"
    },
    {
     "data": {
      "text/plain": [
       "Success: 1 rows affected"
      ]
     },
     "execution_count": 9,
     "metadata": {
      "application/vnd.teradata.resultset": ""
     },
     "output_type": "execute_result"
    },
    {
     "data": {
      "text/plain": [
       "Success: 1 rows affected"
      ]
     },
     "execution_count": 9,
     "metadata": {
      "application/vnd.teradata.resultset": ""
     },
     "output_type": "execute_result"
    },
    {
     "data": {
      "text/plain": [
       "Success: 1 rows affected"
      ]
     },
     "execution_count": 9,
     "metadata": {
      "application/vnd.teradata.resultset": ""
     },
     "output_type": "execute_result"
    },
    {
     "data": {
      "text/plain": [
       "Success: 1 rows affected"
      ]
     },
     "execution_count": 9,
     "metadata": {
      "application/vnd.teradata.resultset": ""
     },
     "output_type": "execute_result"
    },
    {
     "data": {
      "text/plain": [
       "Success: 1 rows affected"
      ]
     },
     "execution_count": 9,
     "metadata": {
      "application/vnd.teradata.resultset": ""
     },
     "output_type": "execute_result"
    },
    {
     "data": {
      "text/plain": [
       "Success: 1 rows affected"
      ]
     },
     "execution_count": 9,
     "metadata": {
      "application/vnd.teradata.resultset": ""
     },
     "output_type": "execute_result"
    },
    {
     "data": {
      "text/plain": [
       "Success: 1 rows affected"
      ]
     },
     "execution_count": 9,
     "metadata": {
      "application/vnd.teradata.resultset": ""
     },
     "output_type": "execute_result"
    },
    {
     "data": {
      "text/plain": [
       "Success: 1 rows affected"
      ]
     },
     "execution_count": 9,
     "metadata": {
      "application/vnd.teradata.resultset": ""
     },
     "output_type": "execute_result"
    },
    {
     "data": {
      "text/plain": [
       "Success: 1 rows affected"
      ]
     },
     "execution_count": 9,
     "metadata": {
      "application/vnd.teradata.resultset": ""
     },
     "output_type": "execute_result"
    },
    {
     "data": {
      "text/plain": [
       "Success: 1 rows affected"
      ]
     },
     "execution_count": 9,
     "metadata": {
      "application/vnd.teradata.resultset": ""
     },
     "output_type": "execute_result"
    },
    {
     "data": {
      "text/plain": [
       "Success: 1 rows affected"
      ]
     },
     "execution_count": 9,
     "metadata": {
      "application/vnd.teradata.resultset": ""
     },
     "output_type": "execute_result"
    },
    {
     "data": {
      "text/plain": [
       "Success: 1 rows affected"
      ]
     },
     "execution_count": 9,
     "metadata": {
      "application/vnd.teradata.resultset": ""
     },
     "output_type": "execute_result"
    },
    {
     "data": {
      "text/plain": [
       "Success: 1 rows affected"
      ]
     },
     "execution_count": 9,
     "metadata": {
      "application/vnd.teradata.resultset": ""
     },
     "output_type": "execute_result"
    },
    {
     "data": {
      "text/plain": [
       "Success: 1 rows affected"
      ]
     },
     "execution_count": 9,
     "metadata": {
      "application/vnd.teradata.resultset": ""
     },
     "output_type": "execute_result"
    },
    {
     "data": {
      "text/plain": [
       "Success: 1 rows affected"
      ]
     },
     "execution_count": 9,
     "metadata": {
      "application/vnd.teradata.resultset": ""
     },
     "output_type": "execute_result"
    },
    {
     "data": {
      "text/plain": [
       "Success: 1 rows affected"
      ]
     },
     "execution_count": 9,
     "metadata": {
      "application/vnd.teradata.resultset": ""
     },
     "output_type": "execute_result"
    },
    {
     "data": {
      "text/plain": [
       "Success: 1 rows affected"
      ]
     },
     "execution_count": 9,
     "metadata": {
      "application/vnd.teradata.resultset": ""
     },
     "output_type": "execute_result"
    },
    {
     "data": {
      "text/plain": [
       "Success: 1 rows affected"
      ]
     },
     "execution_count": 9,
     "metadata": {
      "application/vnd.teradata.resultset": ""
     },
     "output_type": "execute_result"
    },
    {
     "data": {
      "text/plain": [
       "Success: 1 rows affected"
      ]
     },
     "execution_count": 9,
     "metadata": {
      "application/vnd.teradata.resultset": ""
     },
     "output_type": "execute_result"
    },
    {
     "data": {
      "text/plain": [
       "Success: 1 rows affected"
      ]
     },
     "execution_count": 9,
     "metadata": {
      "application/vnd.teradata.resultset": ""
     },
     "output_type": "execute_result"
    },
    {
     "data": {
      "text/plain": [
       "Success: 1 rows affected"
      ]
     },
     "execution_count": 9,
     "metadata": {
      "application/vnd.teradata.resultset": ""
     },
     "output_type": "execute_result"
    },
    {
     "data": {
      "text/plain": [
       "Success: 1 rows affected"
      ]
     },
     "execution_count": 9,
     "metadata": {
      "application/vnd.teradata.resultset": ""
     },
     "output_type": "execute_result"
    },
    {
     "data": {
      "text/plain": [
       "Success: 1 rows affected"
      ]
     },
     "execution_count": 9,
     "metadata": {
      "application/vnd.teradata.resultset": ""
     },
     "output_type": "execute_result"
    },
    {
     "data": {
      "text/plain": [
       "Success: 1 rows affected"
      ]
     },
     "execution_count": 9,
     "metadata": {
      "application/vnd.teradata.resultset": ""
     },
     "output_type": "execute_result"
    },
    {
     "data": {
      "text/plain": [
       "Success: 1 rows affected"
      ]
     },
     "execution_count": 9,
     "metadata": {
      "application/vnd.teradata.resultset": ""
     },
     "output_type": "execute_result"
    },
    {
     "data": {
      "text/plain": [
       "Success: 1 rows affected"
      ]
     },
     "execution_count": 9,
     "metadata": {
      "application/vnd.teradata.resultset": ""
     },
     "output_type": "execute_result"
    },
    {
     "data": {
      "text/plain": [
       "Success: 1 rows affected"
      ]
     },
     "execution_count": 9,
     "metadata": {
      "application/vnd.teradata.resultset": ""
     },
     "output_type": "execute_result"
    },
    {
     "data": {
      "text/plain": [
       "Success: 1 rows affected"
      ]
     },
     "execution_count": 9,
     "metadata": {
      "application/vnd.teradata.resultset": ""
     },
     "output_type": "execute_result"
    },
    {
     "data": {
      "text/plain": [
       "Success: 1 rows affected"
      ]
     },
     "execution_count": 9,
     "metadata": {
      "application/vnd.teradata.resultset": ""
     },
     "output_type": "execute_result"
    },
    {
     "data": {
      "text/plain": [
       "Success: 1 rows affected"
      ]
     },
     "execution_count": 9,
     "metadata": {
      "application/vnd.teradata.resultset": ""
     },
     "output_type": "execute_result"
    },
    {
     "data": {
      "text/plain": [
       "Success: 1 rows affected"
      ]
     },
     "execution_count": 9,
     "metadata": {
      "application/vnd.teradata.resultset": ""
     },
     "output_type": "execute_result"
    },
    {
     "data": {
      "text/plain": [
       "Success: 1 rows affected"
      ]
     },
     "execution_count": 9,
     "metadata": {
      "application/vnd.teradata.resultset": ""
     },
     "output_type": "execute_result"
    },
    {
     "data": {
      "text/plain": [
       "Success: 1 rows affected"
      ]
     },
     "execution_count": 9,
     "metadata": {
      "application/vnd.teradata.resultset": ""
     },
     "output_type": "execute_result"
    },
    {
     "data": {
      "text/plain": [
       "Success: 1 rows affected"
      ]
     },
     "execution_count": 9,
     "metadata": {
      "application/vnd.teradata.resultset": ""
     },
     "output_type": "execute_result"
    },
    {
     "data": {
      "text/plain": [
       "Success: 1 rows affected"
      ]
     },
     "execution_count": 9,
     "metadata": {
      "application/vnd.teradata.resultset": ""
     },
     "output_type": "execute_result"
    },
    {
     "data": {
      "text/plain": [
       "Success: 1 rows affected"
      ]
     },
     "execution_count": 9,
     "metadata": {
      "application/vnd.teradata.resultset": ""
     },
     "output_type": "execute_result"
    },
    {
     "data": {
      "text/plain": [
       "Success: 1 rows affected"
      ]
     },
     "execution_count": 9,
     "metadata": {
      "application/vnd.teradata.resultset": ""
     },
     "output_type": "execute_result"
    },
    {
     "data": {
      "text/plain": [
       "Success: 1 rows affected"
      ]
     },
     "execution_count": 9,
     "metadata": {
      "application/vnd.teradata.resultset": ""
     },
     "output_type": "execute_result"
    },
    {
     "data": {
      "text/plain": [
       "Success: 1 rows affected"
      ]
     },
     "execution_count": 9,
     "metadata": {
      "application/vnd.teradata.resultset": ""
     },
     "output_type": "execute_result"
    },
    {
     "data": {
      "text/plain": [
       "Success: 1 rows affected"
      ]
     },
     "execution_count": 9,
     "metadata": {
      "application/vnd.teradata.resultset": ""
     },
     "output_type": "execute_result"
    },
    {
     "data": {
      "text/plain": [
       "Success: 1 rows affected"
      ]
     },
     "execution_count": 9,
     "metadata": {
      "application/vnd.teradata.resultset": ""
     },
     "output_type": "execute_result"
    },
    {
     "data": {
      "text/plain": [
       "Success: 1 rows affected"
      ]
     },
     "execution_count": 9,
     "metadata": {
      "application/vnd.teradata.resultset": ""
     },
     "output_type": "execute_result"
    },
    {
     "data": {
      "text/plain": [
       "Success: 1 rows affected"
      ]
     },
     "execution_count": 9,
     "metadata": {
      "application/vnd.teradata.resultset": ""
     },
     "output_type": "execute_result"
    },
    {
     "data": {
      "text/plain": [
       "Success: 1 rows affected"
      ]
     },
     "execution_count": 9,
     "metadata": {
      "application/vnd.teradata.resultset": ""
     },
     "output_type": "execute_result"
    },
    {
     "data": {
      "text/plain": [
       "Success: 1 rows affected"
      ]
     },
     "execution_count": 9,
     "metadata": {
      "application/vnd.teradata.resultset": ""
     },
     "output_type": "execute_result"
    },
    {
     "data": {
      "text/plain": [
       "Success: 1 rows affected"
      ]
     },
     "execution_count": 9,
     "metadata": {
      "application/vnd.teradata.resultset": ""
     },
     "output_type": "execute_result"
    },
    {
     "data": {
      "text/plain": [
       "Success: 1 rows affected"
      ]
     },
     "execution_count": 9,
     "metadata": {
      "application/vnd.teradata.resultset": ""
     },
     "output_type": "execute_result"
    },
    {
     "data": {
      "text/plain": [
       "Success: 1 rows affected"
      ]
     },
     "execution_count": 9,
     "metadata": {
      "application/vnd.teradata.resultset": ""
     },
     "output_type": "execute_result"
    },
    {
     "data": {
      "text/plain": [
       "Success: 1 rows affected"
      ]
     },
     "execution_count": 9,
     "metadata": {
      "application/vnd.teradata.resultset": ""
     },
     "output_type": "execute_result"
    },
    {
     "data": {
      "text/plain": [
       "Success: 1 rows affected"
      ]
     },
     "execution_count": 9,
     "metadata": {
      "application/vnd.teradata.resultset": ""
     },
     "output_type": "execute_result"
    },
    {
     "data": {
      "text/plain": [
       "Success: 1 rows affected"
      ]
     },
     "execution_count": 9,
     "metadata": {
      "application/vnd.teradata.resultset": ""
     },
     "output_type": "execute_result"
    },
    {
     "data": {
      "text/plain": [
       "Success: 1 rows affected"
      ]
     },
     "execution_count": 9,
     "metadata": {
      "application/vnd.teradata.resultset": ""
     },
     "output_type": "execute_result"
    },
    {
     "data": {
      "text/plain": [
       "Success: 1 rows affected"
      ]
     },
     "execution_count": 9,
     "metadata": {
      "application/vnd.teradata.resultset": ""
     },
     "output_type": "execute_result"
    },
    {
     "data": {
      "text/plain": [
       "Success: 1 rows affected"
      ]
     },
     "execution_count": 9,
     "metadata": {
      "application/vnd.teradata.resultset": ""
     },
     "output_type": "execute_result"
    },
    {
     "data": {
      "text/plain": [
       "Success: 1 rows affected"
      ]
     },
     "execution_count": 9,
     "metadata": {
      "application/vnd.teradata.resultset": ""
     },
     "output_type": "execute_result"
    },
    {
     "data": {
      "text/plain": [
       "Success: 1 rows affected"
      ]
     },
     "execution_count": 9,
     "metadata": {
      "application/vnd.teradata.resultset": ""
     },
     "output_type": "execute_result"
    },
    {
     "data": {
      "text/plain": [
       "Success: 1 rows affected"
      ]
     },
     "execution_count": 9,
     "metadata": {
      "application/vnd.teradata.resultset": ""
     },
     "output_type": "execute_result"
    },
    {
     "data": {
      "text/plain": [
       "Success: 1 rows affected"
      ]
     },
     "execution_count": 9,
     "metadata": {
      "application/vnd.teradata.resultset": ""
     },
     "output_type": "execute_result"
    },
    {
     "data": {
      "text/plain": [
       "Success: 1 rows affected"
      ]
     },
     "execution_count": 9,
     "metadata": {
      "application/vnd.teradata.resultset": ""
     },
     "output_type": "execute_result"
    },
    {
     "data": {
      "text/plain": [
       "Success: 1 rows affected"
      ]
     },
     "execution_count": 9,
     "metadata": {
      "application/vnd.teradata.resultset": ""
     },
     "output_type": "execute_result"
    },
    {
     "data": {
      "text/plain": [
       "Success: 1 rows affected"
      ]
     },
     "execution_count": 9,
     "metadata": {
      "application/vnd.teradata.resultset": ""
     },
     "output_type": "execute_result"
    },
    {
     "data": {
      "text/plain": [
       "Success: 1 rows affected"
      ]
     },
     "execution_count": 9,
     "metadata": {
      "application/vnd.teradata.resultset": ""
     },
     "output_type": "execute_result"
    },
    {
     "data": {
      "text/plain": [
       "Success: 1 rows affected"
      ]
     },
     "execution_count": 9,
     "metadata": {
      "application/vnd.teradata.resultset": ""
     },
     "output_type": "execute_result"
    },
    {
     "data": {
      "text/plain": [
       "Success: 1 rows affected"
      ]
     },
     "execution_count": 9,
     "metadata": {
      "application/vnd.teradata.resultset": ""
     },
     "output_type": "execute_result"
    },
    {
     "data": {
      "text/plain": [
       "Success: 1 rows affected"
      ]
     },
     "execution_count": 9,
     "metadata": {
      "application/vnd.teradata.resultset": ""
     },
     "output_type": "execute_result"
    },
    {
     "data": {
      "text/plain": [
       "Success: 1 rows affected"
      ]
     },
     "execution_count": 9,
     "metadata": {
      "application/vnd.teradata.resultset": ""
     },
     "output_type": "execute_result"
    },
    {
     "data": {
      "text/plain": [
       "Success: 1 rows affected"
      ]
     },
     "execution_count": 9,
     "metadata": {
      "application/vnd.teradata.resultset": ""
     },
     "output_type": "execute_result"
    },
    {
     "data": {
      "text/plain": [
       "Success: 1 rows affected"
      ]
     },
     "execution_count": 9,
     "metadata": {
      "application/vnd.teradata.resultset": ""
     },
     "output_type": "execute_result"
    },
    {
     "data": {
      "text/plain": [
       "Success: 1 rows affected"
      ]
     },
     "execution_count": 9,
     "metadata": {
      "application/vnd.teradata.resultset": ""
     },
     "output_type": "execute_result"
    },
    {
     "data": {
      "text/plain": [
       "Success: 1 rows affected"
      ]
     },
     "execution_count": 9,
     "metadata": {
      "application/vnd.teradata.resultset": ""
     },
     "output_type": "execute_result"
    },
    {
     "data": {
      "text/plain": [
       "Success: 1 rows affected"
      ]
     },
     "execution_count": 9,
     "metadata": {
      "application/vnd.teradata.resultset": ""
     },
     "output_type": "execute_result"
    },
    {
     "data": {
      "text/plain": [
       "Success: 1 rows affected"
      ]
     },
     "execution_count": 9,
     "metadata": {
      "application/vnd.teradata.resultset": ""
     },
     "output_type": "execute_result"
    },
    {
     "data": {
      "text/plain": [
       "Success: 1 rows affected"
      ]
     },
     "execution_count": 9,
     "metadata": {
      "application/vnd.teradata.resultset": ""
     },
     "output_type": "execute_result"
    },
    {
     "data": {
      "text/plain": [
       "Success: 1 rows affected"
      ]
     },
     "execution_count": 9,
     "metadata": {
      "application/vnd.teradata.resultset": ""
     },
     "output_type": "execute_result"
    },
    {
     "data": {
      "text/plain": [
       "Success: 1 rows affected"
      ]
     },
     "execution_count": 9,
     "metadata": {
      "application/vnd.teradata.resultset": ""
     },
     "output_type": "execute_result"
    },
    {
     "data": {
      "text/plain": [
       "Success: 1 rows affected"
      ]
     },
     "execution_count": 9,
     "metadata": {
      "application/vnd.teradata.resultset": ""
     },
     "output_type": "execute_result"
    },
    {
     "data": {
      "text/plain": [
       "Success: 1 rows affected"
      ]
     },
     "execution_count": 9,
     "metadata": {
      "application/vnd.teradata.resultset": ""
     },
     "output_type": "execute_result"
    },
    {
     "data": {
      "text/plain": [
       "Success: 1 rows affected"
      ]
     },
     "execution_count": 9,
     "metadata": {
      "application/vnd.teradata.resultset": ""
     },
     "output_type": "execute_result"
    },
    {
     "data": {
      "text/plain": [
       "Success: 1 rows affected"
      ]
     },
     "execution_count": 9,
     "metadata": {
      "application/vnd.teradata.resultset": ""
     },
     "output_type": "execute_result"
    },
    {
     "data": {
      "text/plain": [
       "Success: 1 rows affected"
      ]
     },
     "execution_count": 9,
     "metadata": {
      "application/vnd.teradata.resultset": ""
     },
     "output_type": "execute_result"
    },
    {
     "data": {
      "text/plain": [
       "Success: 1 rows affected"
      ]
     },
     "execution_count": 9,
     "metadata": {
      "application/vnd.teradata.resultset": ""
     },
     "output_type": "execute_result"
    },
    {
     "data": {
      "text/plain": [
       "Success: 1 rows affected"
      ]
     },
     "execution_count": 9,
     "metadata": {
      "application/vnd.teradata.resultset": ""
     },
     "output_type": "execute_result"
    },
    {
     "data": {
      "text/plain": [
       "Success: 1 rows affected"
      ]
     },
     "execution_count": 9,
     "metadata": {
      "application/vnd.teradata.resultset": ""
     },
     "output_type": "execute_result"
    },
    {
     "data": {
      "text/plain": [
       "Success: 1 rows affected"
      ]
     },
     "execution_count": 9,
     "metadata": {
      "application/vnd.teradata.resultset": ""
     },
     "output_type": "execute_result"
    },
    {
     "data": {
      "text/plain": [
       "Success: 1 rows affected"
      ]
     },
     "execution_count": 9,
     "metadata": {
      "application/vnd.teradata.resultset": ""
     },
     "output_type": "execute_result"
    },
    {
     "data": {
      "text/plain": [
       "Success: 1 rows affected"
      ]
     },
     "execution_count": 9,
     "metadata": {
      "application/vnd.teradata.resultset": ""
     },
     "output_type": "execute_result"
    },
    {
     "data": {
      "text/plain": [
       "Success: 1 rows affected"
      ]
     },
     "execution_count": 9,
     "metadata": {
      "application/vnd.teradata.resultset": ""
     },
     "output_type": "execute_result"
    },
    {
     "data": {
      "text/plain": [
       "Success: 1 rows affected"
      ]
     },
     "execution_count": 9,
     "metadata": {
      "application/vnd.teradata.resultset": ""
     },
     "output_type": "execute_result"
    },
    {
     "data": {
      "text/plain": [
       "Success: 1 rows affected"
      ]
     },
     "execution_count": 9,
     "metadata": {
      "application/vnd.teradata.resultset": ""
     },
     "output_type": "execute_result"
    },
    {
     "data": {
      "text/plain": [
       "Success: 1 rows affected"
      ]
     },
     "execution_count": 9,
     "metadata": {
      "application/vnd.teradata.resultset": ""
     },
     "output_type": "execute_result"
    },
    {
     "data": {
      "text/plain": [
       "Success: 1 rows affected"
      ]
     },
     "execution_count": 9,
     "metadata": {
      "application/vnd.teradata.resultset": ""
     },
     "output_type": "execute_result"
    },
    {
     "data": {
      "text/plain": [
       "Success: 1 rows affected"
      ]
     },
     "execution_count": 9,
     "metadata": {
      "application/vnd.teradata.resultset": ""
     },
     "output_type": "execute_result"
    },
    {
     "data": {
      "text/plain": [
       "Success: 1 rows affected"
      ]
     },
     "execution_count": 9,
     "metadata": {
      "application/vnd.teradata.resultset": ""
     },
     "output_type": "execute_result"
    },
    {
     "data": {
      "text/plain": [
       "Success: 1 rows affected"
      ]
     },
     "execution_count": 9,
     "metadata": {
      "application/vnd.teradata.resultset": ""
     },
     "output_type": "execute_result"
    },
    {
     "data": {
      "text/plain": [
       "Success: 1 rows affected"
      ]
     },
     "execution_count": 9,
     "metadata": {
      "application/vnd.teradata.resultset": ""
     },
     "output_type": "execute_result"
    },
    {
     "data": {
      "text/plain": [
       "Success: 1 rows affected"
      ]
     },
     "execution_count": 9,
     "metadata": {
      "application/vnd.teradata.resultset": ""
     },
     "output_type": "execute_result"
    },
    {
     "data": {
      "text/plain": [
       "Success: 1 rows affected"
      ]
     },
     "execution_count": 9,
     "metadata": {
      "application/vnd.teradata.resultset": ""
     },
     "output_type": "execute_result"
    },
    {
     "data": {
      "text/plain": [
       "Success: 1 rows affected"
      ]
     },
     "execution_count": 9,
     "metadata": {
      "application/vnd.teradata.resultset": ""
     },
     "output_type": "execute_result"
    },
    {
     "data": {
      "text/plain": [
       "Success: 1 rows affected"
      ]
     },
     "execution_count": 9,
     "metadata": {
      "application/vnd.teradata.resultset": ""
     },
     "output_type": "execute_result"
    },
    {
     "data": {
      "text/plain": [
       "Success: 1 rows affected"
      ]
     },
     "execution_count": 9,
     "metadata": {
      "application/vnd.teradata.resultset": ""
     },
     "output_type": "execute_result"
    },
    {
     "data": {
      "text/plain": [
       "Success: 1 rows affected"
      ]
     },
     "execution_count": 9,
     "metadata": {
      "application/vnd.teradata.resultset": ""
     },
     "output_type": "execute_result"
    },
    {
     "data": {
      "text/plain": [
       "Success: 1 rows affected"
      ]
     },
     "execution_count": 9,
     "metadata": {
      "application/vnd.teradata.resultset": ""
     },
     "output_type": "execute_result"
    },
    {
     "data": {
      "text/plain": [
       "Success: 1 rows affected"
      ]
     },
     "execution_count": 9,
     "metadata": {
      "application/vnd.teradata.resultset": ""
     },
     "output_type": "execute_result"
    }
   ],
   "source": [
    "-- Insert fake data\n",
    "INSERT INTO raven.branches (1, 'Citi Bank North Hector', 'South Dakota', '406 Harris Lane Apt. 608, North Amanda, MN 28515', 25.600258, -87.273819);\n",
    "INSERT INTO raven.branches (2, 'Citi Bank Gonzalezchester', 'North Dakota', '3777 Candice Village Apt. 438, Staceymouth, TX 13680', 30.357058, -108.77327);\n",
    "INSERT INTO raven.branches (3, 'Citi Bank Snowville', 'Virginia', '88958 Aguilar Haven Apt. 703, South Robertfort, MS 95824', 41.240788, -81.548198);\n",
    "INSERT INTO raven.branches (4, 'Citi Bank West Erikastad', 'Maryland', '76127 Christopher Roads, West Kellytown, MT 71068', 27.086532, -72.361406);\n",
    "INSERT INTO raven.branches (5, 'Citi Bank Margaretmouth', 'New Jersey', '8428 Roberson Terrace, West Nicholasborough, SD 74188', 25.715133, -100.106613);\n",
    "INSERT INTO raven.branches (6, 'Citi Bank Lisamouth', 'Ohio', 'PSC 7014, Box 4702, APO AE 51971', 37.128527, -112.100359);\n",
    "INSERT INTO raven.branches (7, 'Citi Bank East Johnton', 'Ohio', 'USS Walker, FPO AE 68512', 29.772104, -123.434378);\n",
    "INSERT INTO raven.branches (8, 'Citi Bank Patelside', 'Hawaii', 'Unit 9394 Box 3331, DPO AP 77149', 38.078596, -86.656818);\n",
    "INSERT INTO raven.branches (9, 'Citi Bank New Jillburgh', 'Wyoming', '082 Scott Parkway Suite 273, Blakechester, NM 64811', 39.142376, -111.994003);\n",
    "INSERT INTO raven.branches (10, 'Citi Bank Port Sonya', 'Washington', '4895 Williams Wells, West Timothyton, LA 95733', 25.15597, -77.243603);\n",
    "INSERT INTO raven.branches (11, 'Citi Bank North Cameronchester', 'Oklahoma', '5996 Howard Burg, Lake Elizabethbury, MD 78801', 41.755345, -77.456664);\n",
    "INSERT INTO raven.branches (12, 'Citi Bank South Tanner', 'Washington', '0412 Miles Walk Apt. 520, East Joseph, MN 73276', 28.731508, -104.92522);\n",
    "INSERT INTO raven.branches (13, 'Citi Bank South Johnberg', 'Connecticut', '9455 Jackson Heights, Richardborough, AL 71328', 33.078269, -68.524429);\n",
    "INSERT INTO raven.branches (14, 'Citi Bank New Karen', 'Alaska', '3602 Ewing Inlet, South Timothyland, SD 51693', 27.321193, -119.527995);\n",
    "INSERT INTO raven.branches (15, 'Citi Bank Stevensville', 'Kansas', '7397 Chad Spurs Apt. 094, Mcguireborough, CO 75500', 39.489425, -74.997832);\n",
    "INSERT INTO raven.branches (16, 'Citi Bank North Elizabethtown', 'South Dakota', 'Unit 8696 Box 7572, DPO AP 60239', 42.513563, -77.379432);\n",
    "INSERT INTO raven.branches (17, 'Citi Bank South Karaport', 'Louisiana', '26866 Johnson Mount Apt. 908, Lake Christopherchester, VT 74753', 48.354778, -93.362543);\n",
    "INSERT INTO raven.branches (18, 'Citi Bank Valdezmouth', 'Massachusetts', '112 Devin Mount Apt. 050, Port Ross, ID 65605', 38.248975, -102.666472);\n",
    "INSERT INTO raven.branches (19, 'Citi Bank Lisafort', 'Missouri', '413 William Pine Apt. 683, West William, UT 00603', 39.844474, -76.065125);\n",
    "INSERT INTO raven.branches (20, 'Citi Bank North Ruth', 'South Dakota', '588 Kevin Trace Suite 731, Trevinoberg, NM 48858', 38.856451, -74.159293);\n",
    "INSERT INTO raven.branches (21, 'Citi Bank Lake Destiny', 'Tennessee', '59973 April Port Suite 906, Shawnshire, DC 37544', 26.099785, -83.430262);\n",
    "INSERT INTO raven.branches (22, 'Citi Bank Perezshire', 'Virginia', '0059 James Mews Suite 322, Port Cory, AL 79897', 31.945311, -111.554002);\n",
    "INSERT INTO raven.branches (23, 'Citi Bank East Scott', 'Texas', '5056 Crystal Run Suite 974, Jenniferside, TX 75768', 30.586981, -120.292273);\n",
    "INSERT INTO raven.branches (24, 'Citi Bank Chungville', 'Colorado', '1704 Travis Light, Coopermouth, SC 17471', 31.671366, -119.040916);\n",
    "INSERT INTO raven.branches (25, 'Citi Bank North Katherine', 'Indiana', '92013 Jonathan Vista Suite 962, South Brittany, WA 18803', 33.755972, -87.494618);\n",
    "INSERT INTO raven.branches (26, 'Citi Bank Lake Jennifermouth', 'Oklahoma', '853 Robert Estate, Port Jennifermouth, NM 66673', 30.028169, -103.159323);\n",
    "INSERT INTO raven.branches (27, 'Citi Bank Lake Ronaldview', 'Connecticut', '5941 Teresa Expressway Suite 100, Bakerfort, CT 43608', 47.47971, -109.248308);\n",
    "INSERT INTO raven.branches (28, 'Citi Bank West Tracy', 'California', '55903 Joe Valley, Woodardland, MO 51210', 39.619144, -86.765912);\n",
    "INSERT INTO raven.branches (29, 'Citi Bank Roytown', 'Texas', '2869 Dunn Manor Apt. 474, North Breannaview, CT 76546', 42.499043, -114.90282);\n",
    "INSERT INTO raven.branches (30, 'Citi Bank Johnfurt', 'Florida', '14440 Mcmahon Street Suite 456, North Waynemouth, VT 29309', 34.106931, -115.359253);\n",
    "INSERT INTO raven.branches (31, 'Citi Bank West Juliehaven', 'North Dakota', '9066 Tina Dale Apt. 274, Schwartzbury, NY 61892', 40.359994, -66.618122);\n",
    "INSERT INTO raven.branches (32, 'Citi Bank Stevenfort', 'Minnesota', '20026 Davis Hollow Suite 863, Leberg, AR 64918', 41.430742, -92.139965);\n",
    "INSERT INTO raven.branches (33, 'Citi Bank New Cynthiaton', 'Utah', '04982 Anderson Crossroad, Jasonberg, OR 86094', 43.623998, -75.271737);\n",
    "INSERT INTO raven.branches (34, 'Citi Bank Reedshire', 'South Dakota', '521 Robinson Spurs, New Stacy, MA 59574', 25.770406, -111.486164);\n",
    "INSERT INTO raven.branches (35, 'Citi Bank South Megan', 'Wisconsin', 'PSC 3606, Box 1822, APO AE 52439', 31.425781, -106.38827);\n",
    "INSERT INTO raven.branches (36, 'Citi Bank West Bradleyville', 'Utah', '22377 Alexander Park, Lake Audreyshire, MO 21894', 47.629833, -112.552012);\n",
    "INSERT INTO raven.branches (37, 'Citi Bank Kingview', 'Arizona', '6807 Kelley Vista, South Timothy, FL 85621', 32.552269, -73.29431);\n",
    "INSERT INTO raven.branches (38, 'Citi Bank Lake Maryport', 'Washington', '07675 Vickie Lock Apt. 583, West Diane, CO 20716', 34.495166, -86.329119);\n",
    "INSERT INTO raven.branches (39, 'Citi Bank North Kimberly', 'Georgia', 'Unit 5352 Box 0442, DPO AE 16898', 36.012444, -71.041692);\n",
    "INSERT INTO raven.branches (40, 'Citi Bank Sherrichester', 'Connecticut', '49403 Jones Forks, Ginaport, ME 08000', 30.91906, -109.37207);\n",
    "INSERT INTO raven.branches (41, 'Citi Bank North Kevin', 'Wisconsin', '552 Eduardo Fork, Stuartview, NJ 93058', 31.305799, -91.87928);\n",
    "INSERT INTO raven.branches (42, 'Citi Bank West Kristinaborough', 'Alabama', '3194 Simmons Crest Suite 079, South Edward, AR 33730', 46.547749, -90.509427);\n",
    "INSERT INTO raven.branches (43, 'Citi Bank Melissafort', 'New Mexico', '26465 Richard Cliff, Lake Karen, NE 33274', 30.263698, -101.43537);\n",
    "INSERT INTO raven.branches (44, 'Citi Bank East Gabrielmouth', 'Vermont', '3707 Sophia Ville, Melissaview, MT 67133', 37.228631, -66.145281);\n",
    "INSERT INTO raven.branches (45, 'Citi Bank Lake Kristinaview', 'New York', '4925 Courtney Corners Apt. 647, Rodriguezland, NJ 51903', 26.130793, -119.636345);\n",
    "INSERT INTO raven.branches (46, 'Citi Bank South Kenneth', 'Mississippi', '7412 Taylor Heights Suite 735, Johnsonshire, OK 85462', 40.058705, -118.530701);\n",
    "INSERT INTO raven.branches (47, 'Citi Bank Lake Jacobton', 'Missouri', '8125 Perez Glen Suite 616, Port Kelly, MI 62652', 35.131839, -78.267318);\n",
    "INSERT INTO raven.branches (48, 'Citi Bank South Derrick', 'Pennsylvania', '0322 Rogers Shores, East Tony, NV 42661', 34.158863, -121.251865);\n",
    "INSERT INTO raven.branches (49, 'Citi Bank New Amyshire', 'Texas', 'PSC 9673, Box 1358, APO AA 63371', 37.698744, -66.228839);\n",
    "INSERT INTO raven.branches (50, 'Citi Bank Alanchester', 'Virginia', '2260 Thomas Forks Suite 323, Lisamouth, IN 20363', 45.658713, -67.706376);\n",
    "INSERT INTO raven.branches (51, 'Citi Bank Hoside', 'Georgia', 'PSC 1729, Box 8206, APO AE 15611', 42.297324, -124.32262);\n",
    "INSERT INTO raven.branches (52, 'Citi Bank Lake Amanda', 'Rhode Island', '963 Emily Creek, Andreafort, NE 24854', 37.887288, -84.779088);\n",
    "INSERT INTO raven.branches (53, 'Citi Bank West Stefanieview', 'Tennessee', '7802 Paula Overpass, New Jennifer, KS 91336', 40.383083, -109.257314);\n",
    "INSERT INTO raven.branches (54, 'Citi Bank South Scottmouth', 'North Carolina', '24836 Joshua Forks, North Julie, HI 06782', 35.434366, -118.418422);\n",
    "INSERT INTO raven.branches (55, 'Citi Bank South Marymouth', 'Pennsylvania', '3213 Stout Plains, Port Williamstad, KY 56443', 47.891582, -98.230301);\n",
    "INSERT INTO raven.branches (56, 'Citi Bank New Andrewburgh', 'North Carolina', 'PSC 9747, Box 6736, APO AA 02788', 31.321337, -73.324677);\n",
    "INSERT INTO raven.branches (57, 'Citi Bank Josephshire', 'Delaware', '8168 Joshua Roads, Port Christina, OR 51463', 29.287645, -95.465419);\n",
    "INSERT INTO raven.branches (58, 'Citi Bank North Rebecca', 'Washington', '865 James Trafficway, South Edwin, NH 45258', 45.892446, -71.154957);\n",
    "INSERT INTO raven.branches (59, 'Citi Bank Kingville', 'South Carolina', '38037 Patricia Fork Suite 826, West Teresa, FL 63178', 40.334788, -107.391757);\n",
    "INSERT INTO raven.branches (60, 'Citi Bank Ricardoport', 'Colorado', '50507 Steve Plains Suite 301, Annafurt, NE 38899', 28.668142, -89.070758);\n",
    "INSERT INTO raven.branches (61, 'Citi Bank South Christopher', 'Montana', '7365 Jason Camp Apt. 793, Campbellborough, IA 94981', 37.945097, -80.011863);\n",
    "INSERT INTO raven.branches (62, 'Citi Bank Lake Susan', 'Montana', '309 Williams Ranch Apt. 688, Grayport, TN 15073', 37.728488, -79.061038);\n",
    "INSERT INTO raven.branches (63, 'Citi Bank Lake Cindy', 'Massachusetts', '8182 Hawkins Lodge, West Maria, PA 39134', 32.779745, -124.966258);\n",
    "INSERT INTO raven.branches (64, 'Citi Bank Cindyfurt', 'Florida', '94009 Michael Turnpike Suite 896, Olivertown, WA 92094', 47.298367, -123.850872);\n",
    "INSERT INTO raven.branches (65, 'Citi Bank Lake Gregorychester', 'Iowa', 'Unit 5620 Box 9857, DPO AP 01629', 44.959973, -73.155409);\n",
    "INSERT INTO raven.branches (66, 'Citi Bank South Andre', 'Ohio', '74746 Joseph Glen, Adamhaven, MO 33384', 26.390204, -106.856667);\n",
    "INSERT INTO raven.branches (67, 'Citi Bank Cheryltown', 'Georgia', '110 Vasquez Shores Apt. 306, North Curtisborough, VT 54080', 47.726787, -73.197434);\n",
    "INSERT INTO raven.branches (68, 'Citi Bank Weeksmouth', 'Pennsylvania', '32087 Jesse Freeway, Clementsshire, CT 91698', 36.663771, -119.946446);\n",
    "INSERT INTO raven.branches (69, 'Citi Bank Lisastad', 'New Hampshire', '87366 Sean Burgs Suite 604, East Brendashire, TX 04379', 43.254452, -120.916461);\n",
    "INSERT INTO raven.branches (70, 'Citi Bank West Melanie', 'New Mexico', 'USCGC Davidson, FPO AE 93234', 28.081395, -79.815769);\n",
    "INSERT INTO raven.branches (71, 'Citi Bank Greeneborough', 'Idaho', '1052 Horton Extensions Suite 633, West Ethanfurt, NE 55782', 38.195286, -96.95834);\n",
    "INSERT INTO raven.branches (72, 'Citi Bank South Michael', 'South Carolina', '427 Pamela Heights, Josephtown, MD 42083', 45.938393, -109.361659);\n",
    "INSERT INTO raven.branches (73, 'Citi Bank East John', 'California', '3401 Nicholas Station, Jeffreystad, TN 85451', 30.083157, -100.034862);\n",
    "INSERT INTO raven.branches (74, 'Citi Bank East Vincent', 'Kentucky', '17672 Berry Point Apt. 595, Schwartzview, OH 20335', 42.518346, -93.181531);\n",
    "INSERT INTO raven.branches (75, 'Citi Bank Port Alexisshire', 'Minnesota', '7305 Christina Roads Suite 118, West Thomasfurt, MA 39765', 32.481191, -113.132087);\n",
    "INSERT INTO raven.branches (76, 'Citi Bank South Anthonymouth', 'Kansas', '301 Lloyd Square Apt. 850, Gonzalesport, MN 36771', 40.597073, -66.286188);\n",
    "INSERT INTO raven.branches (77, 'Citi Bank North Sarah', 'Nevada', '05359 Kaiser Mountains Suite 946, West Heather, WI 44052', 37.42182, -99.152095);\n",
    "INSERT INTO raven.branches (78, 'Citi Bank West Sheilastad', 'Wyoming', 'Unit 8996 Box 2870, DPO AA 69412', 30.392736, -117.860752);\n",
    "INSERT INTO raven.branches (79, 'Citi Bank West Christine', 'Arkansas', '1334 Lauren Court, Cardenasmouth, VA 35962', 39.119409, -105.052952);\n",
    "INSERT INTO raven.branches (80, 'Citi Bank New Michael', 'Iowa', '03731 Gary Harbors Apt. 978, Markmouth, NC 06495', 30.285217, -111.423231);\n",
    "INSERT INTO raven.branches (81, 'Citi Bank South Kristinmouth', 'Delaware', '83726 Washington Row, Michaelmouth, AZ 29597', 40.146471, -120.811408);\n",
    "INSERT INTO raven.branches (82, 'Citi Bank South Michael', 'California', '816 Angela Heights, Michelleside, CA 59320', 46.73008, -111.492435);\n",
    "INSERT INTO raven.branches (83, 'Citi Bank Colemanchester', 'Arkansas', '60147 Snyder Parks Apt. 905, West Jotown, MS 32974', 26.700576, -74.281511);\n",
    "INSERT INTO raven.branches (84, 'Citi Bank Sawyerside', 'Nebraska', '7145 Angela Passage Apt. 046, Diazside, MO 21570', 41.055467, -110.957727);\n",
    "INSERT INTO raven.branches (85, 'Citi Bank Lake Stephanieville', 'Indiana', '17190 John Estate Suite 129, Farrellstad, NJ 97330', 28.175484, -112.360028);\n",
    "INSERT INTO raven.branches (86, 'Citi Bank Port Joanland', 'Virginia', '5680 Moreno Avenue, Wendychester, MI 79147', 38.705034, -69.80466);\n",
    "INSERT INTO raven.branches (87, 'Citi Bank Michaelstad', 'Alabama', '3817 Chung Parkways Suite 459, Andersonburgh, WV 79364', 43.830866, -97.112409);\n",
    "INSERT INTO raven.branches (88, 'Citi Bank Scottfurt', 'Nevada', 'PSC 9727, Box 2573, APO AP 96535', 29.569838, -77.357677);\n",
    "INSERT INTO raven.branches (89, 'Citi Bank Kochchester', 'Louisiana', '8073 Christopher Parkways Apt. 541, Christopherchester, WY 21560', 35.345228, -119.281082);\n",
    "INSERT INTO raven.branches (90, 'Citi Bank South Kristen', 'North Carolina', '840 Timothy Alley Suite 079, East Teresa, KY 22453', 36.208592, -100.008861);\n",
    "INSERT INTO raven.branches (91, 'Citi Bank South Austin', 'Alabama', '65328 Knight Brooks, West Shawnfurt, KS 57339', 41.160749, -81.984525);\n",
    "INSERT INTO raven.branches (92, 'Citi Bank Wilsonborough', 'Kentucky', '012 Nicholas Mount Suite 594, Elizabethbury, UT 49443', 27.362029, -66.934253);\n",
    "INSERT INTO raven.branches (93, 'Citi Bank Melissamouth', 'Pennsylvania', '3443 Conner Mount, New Jessica, VA 41268', 33.143263, -101.245344);\n",
    "INSERT INTO raven.branches (94, 'Citi Bank North Angela', 'Texas', '7387 James Turnpike, Antoniomouth, NC 53106', 30.967752, -74.16132);\n",
    "INSERT INTO raven.branches (95, 'Citi Bank Davismouth', 'Virginia', '183 Paul Rapids Apt. 203, West Thomasstad, LA 79583', 35.766725, -113.777674);\n",
    "INSERT INTO raven.branches (96, 'Citi Bank North Robert', 'Washington', '02455 Velasquez Union Suite 457, Amberburgh, TX 10692', 31.685083, -100.108983);\n",
    "INSERT INTO raven.branches (97, 'Citi Bank Sarastad', 'Arizona', 'PSC 4599, Box 7030, APO AP 39324', 47.158374, -110.26142);\n",
    "INSERT INTO raven.branches (98, 'Citi Bank New David', 'Virginia', '93096 Gutierrez Dale Apt. 338, Samuelchester, AR 05750', 45.672379, -98.855286);\n",
    "INSERT INTO raven.branches (99, 'Citi Bank Wallsborough', 'Texas', '56464 Scott Common Suite 460, Lake Matthewstad, WV 46597', 26.21412, -92.530807);\n",
    "INSERT INTO raven.branches (100, 'Citi Bank Johnsonville', 'Iowa', '968 Mitchell Way, East Ryan, MT 18551', 45.064662, -66.042334);\n",
    "INSERT INTO raven.transactions (1, 'USD', 'Deposit', 18528.08, 31);\n",
    "INSERT INTO raven.transactions (2, 'USD', 'Withdrawal', 8134.22, 62);\n",
    "INSERT INTO raven.transactions (3, 'USD', 'Withdrawal', 17294.36, 8);\n",
    "INSERT INTO raven.transactions (4, 'USD', 'Withdrawal', 7585.67, 50);\n",
    "INSERT INTO raven.transactions (5, 'USD', 'Transfer', 18531.1, 59);\n",
    "INSERT INTO raven.transactions (6, 'USD', 'Transfer', 8465.92, 94);\n",
    "INSERT INTO raven.transactions (7, 'USD', 'Payment', 3104.39, 38);\n",
    "INSERT INTO raven.transactions (8, 'USD', 'Withdrawal', 19374.5, 75);\n",
    "INSERT INTO raven.transactions (9, 'USD', 'Deposit', 14962.03, 8);\n",
    "INSERT INTO raven.transactions (10, 'USD', 'Deposit', 11687.71, 65);\n",
    "INSERT INTO raven.transactions (11, 'USD', 'Withdrawal', 1147.02, 66);\n",
    "INSERT INTO raven.transactions (12, 'USD', 'Deposit', 17028.34, 9);\n",
    "INSERT INTO raven.transactions (13, 'USD', 'Deposit', 13507.5, 31);\n",
    "INSERT INTO raven.transactions (14, 'USD', 'Payment', 2406.53, 73);\n",
    "INSERT INTO raven.transactions (15, 'USD', 'Withdrawal', 11582.59, 6);\n",
    "INSERT INTO raven.transactions (16, 'USD', 'Deposit', 8390.31, 75);\n",
    "INSERT INTO raven.transactions (17, 'USD', 'Transfer', 18694.78, 27);\n",
    "INSERT INTO raven.transactions (18, 'USD', 'Transfer', 4781.33, 51);\n",
    "INSERT INTO raven.transactions (19, 'USD', 'Withdrawal', 13437.09, 39);\n",
    "INSERT INTO raven.transactions (20, 'USD', 'Payment', 6330.38, 97);\n",
    "INSERT INTO raven.transactions (21, 'USD', 'Deposit', 196.22, 80);\n",
    "INSERT INTO raven.transactions (22, 'USD', 'Deposit', 1474.48, 28);\n",
    "INSERT INTO raven.transactions (23, 'USD', 'Transfer', 2657.81, 45);\n",
    "INSERT INTO raven.transactions (24, 'USD', 'Deposit', 17586.61, 48);\n",
    "INSERT INTO raven.transactions (25, 'USD', 'Transfer', 3163.36, 70);\n",
    "INSERT INTO raven.transactions(26, 'USD', 'Transfer', 12237.44, 84);\n",
    "INSERT INTO raven.transactions(27, 'USD', 'Deposit', 13360.59, 71);\n",
    "INSERT INTO raven.transactions(28, 'USD', 'Transfer', 18635.8, 14);\n",
    "INSERT INTO raven.transactions(29, 'USD', 'Withdrawal', 5296.67, 14);\n",
    "INSERT INTO raven.transactions(30, 'USD', 'Withdrawal', 5454.24, 78);\n",
    "INSERT INTO raven.transactions(31, 'USD', 'Withdrawal', 14355.07, 27);\n",
    "INSERT INTO raven.transactions(32, 'USD', 'Transfer', 10113.13, 33);\n",
    "INSERT INTO raven.transactions(33, 'USD', 'Deposit', 1855.05, 55);\n",
    "INSERT INTO raven.transactions(34, 'USD', 'Transfer', 891.29, 43);\n",
    "INSERT INTO raven.transactions(35, 'USD', 'Withdrawal', 12745.9, 34);\n",
    "INSERT INTO raven.transactions(36, 'USD', 'Withdrawal', 14827.21, 71);\n",
    "INSERT INTO raven.transactions(37, 'USD', 'Payment', 11222.53, 15);\n",
    "INSERT INTO raven.transactions(38, 'USD', 'Deposit', 18901.57, 89);\n",
    "INSERT INTO raven.transactions(39, 'USD', 'Withdrawal', 10916.35, 48);\n",
    "INSERT INTO raven.transactions(40, 'USD', 'Withdrawal', 8601.44, 6);\n",
    "INSERT INTO raven.transactions(41, 'USD', 'Transfer', 7299.38, 6);\n",
    "INSERT INTO raven.transactions(42, 'USD', 'Transfer', 4209.43, 32);\n",
    "INSERT INTO raven.transactions(43, 'USD', 'Deposit', 7080.04, 72);\n",
    "INSERT INTO raven.transactions(44, 'USD', 'Payment', 19477.0, 96);\n",
    "INSERT INTO raven.transactions(45, 'USD', 'Withdrawal', 18516.02, 31);\n",
    "INSERT INTO raven.transactions(46, 'USD', 'Withdrawal', 19524.36, 23);\n",
    "INSERT INTO raven.transactions(47, 'USD', 'Payment', 505.48, 95);\n",
    "INSERT INTO raven.transactions(48, 'USD', 'Transfer', 15649.91, 53);\n",
    "INSERT INTO raven.transactions(49, 'USD', 'Withdrawal', 5343.45, 90);\n",
    "INSERT INTO raven.transactions(50, 'USD', 'Deposit', 7657.01, 5);\n",
    "INSERT INTO raven.transactions(51, 'USD', 'Payment', 4456.45, 59);\n",
    "INSERT INTO raven.transactions(52, 'USD', 'Transfer', 6110.77, 30);\n",
    "INSERT INTO raven.transactions(53, 'USD', 'Withdrawal', 483.05, 25);\n",
    "INSERT INTO raven.transactions(54, 'USD', 'Payment', 6571.96, 9);\n",
    "INSERT INTO raven.transactions(55, 'USD', 'Transfer', 7029.41, 66);\n",
    "INSERT INTO raven.transactions(56, 'USD', 'Payment', 13593.57, 69);\n",
    "INSERT INTO raven.transactions(57, 'USD', 'Transfer', 18785.35, 15);\n",
    "INSERT INTO raven.transactions(58, 'USD', 'Transfer', 3579.57, 34);\n",
    "INSERT INTO raven.transactions(59, 'USD', 'Deposit', 2176.97, 56);\n",
    "INSERT INTO raven.transactions(60, 'USD', 'Transfer', 14573.62, 41);\n",
    "INSERT INTO raven.transactions(61, 'USD', 'Payment', 12128.11, 66);\n",
    "INSERT INTO raven.transactions(62, 'USD', 'Deposit', 7710.06, 74);\n",
    "INSERT INTO raven.transactions(63, 'USD', 'Withdrawal', 5101.9, 91);\n",
    "INSERT INTO raven.transactions(64, 'USD', 'Payment', 43.81, 69);\n",
    "INSERT INTO raven.transactions(65, 'USD', 'Withdrawal', 7290.79, 9);\n",
    "INSERT INTO raven.transactions(66, 'USD', 'Transfer', 12466.88, 85);\n",
    "INSERT INTO raven.transactions(67, 'USD', 'Deposit', 14397.89, 39);\n",
    "INSERT INTO raven.transactions(68, 'USD', 'Transfer', 13341.19, 42);\n",
    "INSERT INTO raven.transactions(69, 'USD', 'Payment', 13947.2, 71);\n",
    "INSERT INTO raven.transactions(70, 'USD', 'Withdrawal', 3844.88, 86);\n",
    "INSERT INTO raven.transactions(71, 'USD', 'Payment', 13549.59, 23);\n",
    "INSERT INTO raven.transactions(72, 'USD', 'Transfer', 8127.44, 1);\n",
    "INSERT INTO raven.transactions(73, 'USD', 'Transfer', 5745.41, 56);\n",
    "INSERT INTO raven.transactions(74, 'USD', 'Transfer', 9305.11, 57);\n",
    "INSERT INTO raven.transactions(75, 'USD', 'Withdrawal', 10228.37, 95);\n",
    "INSERT INTO raven.transactions(76, 'USD', 'Withdrawal', 13180.43, 37);\n",
    "INSERT INTO raven.transactions(77, 'USD', 'Transfer', 1876.81, 97);\n",
    "INSERT INTO raven.transactions(78, 'USD', 'Withdrawal', 13459.19, 29);\n",
    "INSERT INTO raven.transactions(79, 'USD', 'Withdrawal', 2955.61, 6);\n",
    "INSERT INTO raven.transactions(80, 'USD', 'Withdrawal', 19678.88, 79);\n",
    "INSERT INTO raven.transactions(81, 'USD', 'Deposit', 9113.77, 81);\n",
    "INSERT INTO raven.transactions(82, 'USD', 'Withdrawal', 14369.73, 50);\n",
    "INSERT INTO raven.transactions(83, 'USD', 'Payment', 7999.06, 19);\n",
    "INSERT INTO raven.transactions(84, 'USD', 'Deposit', 17854.27, 99);\n",
    "INSERT INTO raven.transactions(85, 'USD', 'Deposit', 15570.62, 29);\n",
    "INSERT INTO raven.transactions(86, 'USD', 'Withdrawal', 16084.16, 90);\n",
    "INSERT INTO raven.transactions(87, 'USD', 'Payment', 1013.87, 32);\n",
    "INSERT INTO raven.transactions(88, 'USD', 'Deposit', 9134.67, 60);\n",
    "INSERT INTO raven.transactions(89, 'USD', 'Transfer', 19001.29, 57);\n",
    "INSERT INTO raven.transactions(90, 'USD', 'Payment', 16613.08, 71);\n",
    "INSERT INTO raven.transactions(91, 'USD', 'Payment', 17945.19, 96);\n",
    "INSERT INTO raven.transactions(92, 'USD', 'Payment', 9006.89, 97);\n",
    "INSERT INTO raven.transactions(93, 'USD', 'Withdrawal', 16798.86, 36);\n",
    "INSERT INTO raven.transactions(94, 'USD', 'Payment', 12538.7, 36);\n",
    "INSERT INTO raven.transactions(95, 'USD', 'Payment', 1558.89, 37);\n",
    "INSERT INTO raven.transactions(96, 'USD', 'Withdrawal', 5441.58, 41);\n",
    "INSERT INTO raven.transactions(97, 'USD', 'Deposit', 2776.1, 30);\n",
    "INSERT INTO raven.transactions(98, 'USD', 'Payment', 13882.06, 91);\n",
    "INSERT INTO raven.transactions(99, 'USD', 'Withdrawal', 1293.93, 53);\n",
    "INSERT INTO raven.transactions(100, 'USD', 'Transfer', 10856.8, 54);\n",
    "INSERT INTO raven.transactions(101, 'USD', 'Deposit', 4144.62, 54);\n",
    "INSERT INTO raven.transactions(102, 'USD', 'Payment', 18097.72, 75);\n",
    "INSERT INTO raven.transactions(103, 'USD', 'Deposit', 17136.07, 98);\n",
    "INSERT INTO raven.transactions(104, 'USD', 'Payment', 9544.82, 46);\n",
    "INSERT INTO raven.transactions(105, 'USD', 'Transfer', 15071.97, 54);\n",
    "INSERT INTO raven.transactions(106, 'USD', 'Withdrawal', 9769.71, 35);\n",
    "INSERT INTO raven.transactions(107, 'USD', 'Payment', 9717.98, 50);\n",
    "INSERT INTO raven.transactions(108, 'USD', 'Transfer', 13380.78, 52);\n",
    "INSERT INTO raven.transactions(109, 'USD', 'Withdrawal', 16811.71, 17);\n",
    "INSERT INTO raven.transactions(110, 'USD', 'Deposit', 18139.51, 76);\n",
    "INSERT INTO raven.transactions(111, 'USD', 'Deposit', 1688.11, 55);\n",
    "INSERT INTO raven.transactions(112, 'USD', 'Withdrawal', 17338.36, 24);\n",
    "INSERT INTO raven.transactions(113, 'USD', 'Deposit', 5210.52, 42);\n",
    "INSERT INTO raven.transactions(114, 'USD', 'Withdrawal', 9099.44, 44);\n",
    "INSERT INTO raven.transactions(115, 'USD', 'Payment', 5572.35, 54);\n",
    "INSERT INTO raven.transactions(116, 'USD', 'Transfer', 16699.87, 61);\n",
    "INSERT INTO raven.transactions(117, 'USD', 'Deposit', 14982.99, 7);\n",
    "INSERT INTO raven.transactions(118, 'USD', 'Transfer', 4492.2, 9);\n",
    "INSERT INTO raven.transactions(119, 'USD', 'Deposit', 15087.12, 32);\n",
    "INSERT INTO raven.transactions(120, 'USD', 'Withdrawal', 16786.18, 80);\n",
    "INSERT INTO raven.transactions(121, 'USD', 'Withdrawal', 4778.51, 61);\n",
    "INSERT INTO raven.transactions(122, 'USD', 'Deposit', 11283.75, 28);\n",
    "INSERT INTO raven.transactions(123, 'USD', 'Payment', 13992.3, 99);\n",
    "INSERT INTO raven.transactions(124, 'USD', 'Transfer', 3364.1, 78);\n",
    "INSERT INTO raven.transactions(125, 'USD', 'Deposit', 15558.06, 21);\n",
    "INSERT INTO raven.transactions(126, 'USD', 'Transfer', 2170.89, 4);\n",
    "INSERT INTO raven.transactions(127, 'USD', 'Transfer', 11520.18, 49);\n",
    "INSERT INTO raven.transactions(128, 'USD', 'Payment', 18830.0, 26);\n",
    "INSERT INTO raven.transactions(129, 'USD', 'Deposit', 11846.04, 81);\n",
    "INSERT INTO raven.transactions(130, 'USD', 'Withdrawal', 2047.01, 99);\n",
    "INSERT INTO raven.transactions(131, 'USD', 'Transfer', 17007.36, 77);\n",
    "INSERT INTO raven.transactions(132, 'USD', 'Deposit', 15926.58, 73);\n",
    "INSERT INTO raven.transactions(133, 'USD', 'Deposit', 6950.6, 55);\n",
    "INSERT INTO raven.transactions(134, 'USD', 'Transfer', 1388.45, 83);\n",
    "INSERT INTO raven.transactions(135, 'USD', 'Transfer', 262.92, 54);\n",
    "INSERT INTO raven.transactions(136, 'USD', 'Payment', 2119.72, 47);\n",
    "INSERT INTO raven.transactions(137, 'USD', 'Payment', 14149.1, 56);\n",
    "INSERT INTO raven.transactions(138, 'USD', 'Withdrawal', 14678.57, 84);\n",
    "INSERT INTO raven.transactions(139, 'USD', 'Transfer', 12322.09, 69);\n",
    "INSERT INTO raven.transactions(140, 'USD', 'Payment', 9302.83, 94);\n",
    "INSERT INTO raven.transactions(141, 'USD', 'Transfer', 6452.87, 32);\n",
    "INSERT INTO raven.transactions(142, 'USD', 'Deposit', 5585.78, 58);\n",
    "INSERT INTO raven.transactions(143, 'USD', 'Withdrawal', 15012.02, 73);\n",
    "INSERT INTO raven.transactions(144, 'USD', 'Payment', 6734.57, 64);\n",
    "INSERT INTO raven.transactions(145, 'USD', 'Transfer', 3644.98, 28);\n",
    "INSERT INTO raven.transactions(146, 'USD', 'Transfer', 15958.67, 44);\n",
    "INSERT INTO raven.transactions(147, 'USD', 'Transfer', 17607.6, 90);\n",
    "INSERT INTO raven.transactions(148, 'USD', 'Transfer', 11120.26, 67);\n",
    "INSERT INTO raven.transactions(149, 'USD', 'Withdrawal', 1721.4, 93);\n",
    "INSERT INTO raven.transactions(150, 'USD', 'Payment', 9776.67, 98);\n",
    "INSERT INTO raven.transactions(151, 'USD', 'Withdrawal', 13815.28, 83);\n",
    "INSERT INTO raven.transactions(152, 'USD', 'Payment', 8969.01, 3);\n",
    "INSERT INTO raven.transactions(153, 'USD', 'Deposit', 5891.77, 52);\n",
    "INSERT INTO raven.transactions(154, 'USD', 'Withdrawal', 6131.06, 75);\n",
    "INSERT INTO raven.transactions(155, 'USD', 'Transfer', 9470.48, 68);\n",
    "INSERT INTO raven.transactions(156, 'USD', 'Transfer', 8515.82, 96);\n",
    "INSERT INTO raven.transactions(157, 'USD', 'Transfer', 7042.69, 59);\n",
    "INSERT INTO raven.transactions(158, 'USD', 'Transfer', 6139.39, 30);\n",
    "INSERT INTO raven.transactions(159, 'USD', 'Deposit', 14428.47, 41);\n",
    "INSERT INTO raven.transactions(160, 'USD', 'Deposit', 14860.19, 98);\n",
    "INSERT INTO raven.transactions(161, 'USD', 'Withdrawal', 3838.9, 95);\n",
    "INSERT INTO raven.transactions(162, 'USD', 'Payment', 5537.23, 76);\n",
    "INSERT INTO raven.transactions(163, 'USD', 'Transfer', 19610.41, 25);\n",
    "INSERT INTO raven.transactions(164, 'USD', 'Transfer', 4557.39, 23);\n",
    "INSERT INTO raven.transactions(165, 'USD', 'Transfer', 292.83, 69);\n",
    "INSERT INTO raven.transactions(166, 'USD', 'Withdrawal', 5493.48, 7);\n",
    "INSERT INTO raven.transactions(167, 'USD', 'Transfer', 13951.37, 17);\n",
    "INSERT INTO raven.transactions(168, 'USD', 'Payment', 2060.73, 2);\n",
    "INSERT INTO raven.transactions(169, 'USD', 'Transfer', 9393.24, 57);\n",
    "INSERT INTO raven.transactions(170, 'USD', 'Transfer', 3695.43, 7);\n",
    "INSERT INTO raven.transactions(171, 'USD', 'Transfer', 18821.86, 62);\n",
    "INSERT INTO raven.transactions(172, 'USD', 'Deposit', 16444.09, 52);\n",
    "INSERT INTO raven.transactions(173, 'USD', 'Payment', 1490.9, 81);\n",
    "INSERT INTO raven.transactions(174, 'USD', 'Deposit', 3043.02, 73);\n",
    "INSERT INTO raven.transactions(175, 'USD', 'Transfer', 1712.77, 32);\n",
    "INSERT INTO raven.transactions(176, 'USD', 'Deposit', 11165.88, 54);\n",
    "INSERT INTO raven.transactions(177, 'USD', 'Withdrawal', 15516.11, 49);\n",
    "INSERT INTO raven.transactions(178, 'USD', 'Payment', 18171.0, 39);\n",
    "INSERT INTO raven.transactions(179, 'USD', 'Payment', 6114.55, 80);\n",
    "INSERT INTO raven.transactions(180, 'USD', 'Deposit', 12196.52, 95);\n",
    "INSERT INTO raven.transactions(181, 'USD', 'Deposit', 18952.33, 27);\n",
    "INSERT INTO raven.transactions(182, 'USD', 'Withdrawal', 5300.28, 11);\n",
    "INSERT INTO raven.transactions(183, 'USD', 'Withdrawal', 4804.9, 71);\n",
    "INSERT INTO raven.transactions(184, 'USD', 'Deposit', 3139.09, 53);\n",
    "INSERT INTO raven.transactions(185, 'USD', 'Payment', 13790.53, 61);\n",
    "INSERT INTO raven.transactions(186, 'USD', 'Transfer', 662.47, 37);\n",
    "INSERT INTO raven.transactions(187, 'USD', 'Transfer', 14062.72, 59);\n",
    "INSERT INTO raven.transactions(188, 'USD', 'Deposit', 13750.82, 34);\n",
    "INSERT INTO raven.transactions(189, 'USD', 'Withdrawal', 8508.53, 70);\n",
    "INSERT INTO raven.transactions(190, 'USD', 'Withdrawal', 12956.22, 35);\n",
    "INSERT INTO raven.transactions(191, 'USD', 'Withdrawal', 1437.48, 22);\n",
    "INSERT INTO raven.transactions(192, 'USD', 'Transfer', 11904.93, 73);\n",
    "INSERT INTO raven.transactions(193, 'USD', 'Transfer', 8788.68, 60);\n",
    "INSERT INTO raven.transactions(194, 'USD', 'Transfer', 13997.68, 35);\n",
    "INSERT INTO raven.transactions(195, 'USD', 'Payment', 8760.8, 77);\n",
    "INSERT INTO raven.transactions(196, 'USD', 'Deposit', 17789.56, 95);\n",
    "INSERT INTO raven.transactions(197, 'USD', 'Transfer', 12078.24, 4);\n",
    "INSERT INTO raven.transactions(198, 'USD', 'Deposit', 4586.2, 87);\n",
    "INSERT INTO raven.transactions(199, 'USD', 'Deposit', 19991.45, 87);\n",
    "INSERT INTO raven.transactions(200, 'USD', 'Transfer', 11529.18, 98);\n",
    "INSERT INTO raven.transactions(201, 'USD', 'Withdrawal', 9415.31, 84);\n",
    "INSERT INTO raven.transactions(202, 'USD', 'Payment', 18322.3, 24);\n",
    "INSERT INTO raven.transactions(203, 'USD', 'Payment', 12699.35, 63);\n",
    "INSERT INTO raven.transactions(204, 'USD', 'Deposit', 9405.51, 53);\n",
    "INSERT INTO raven.transactions(205, 'USD', 'Transfer', 6427.95, 14);\n",
    "INSERT INTO raven.transactions(206, 'USD', 'Withdrawal', 6602.78, 89);\n",
    "INSERT INTO raven.transactions(207, 'USD', 'Payment', 5771.47, 52);\n",
    "INSERT INTO raven.transactions(208, 'USD', 'Deposit', 9101.97, 41);\n",
    "INSERT INTO raven.transactions(209, 'USD', 'Transfer', 6472.24, 99);\n",
    "INSERT INTO raven.transactions(210, 'USD', 'Payment', 17299.56, 1);\n",
    "INSERT INTO raven.transactions(211, 'USD', 'Payment', 8270.82, 25);\n",
    "INSERT INTO raven.transactions(212, 'USD', 'Transfer', 12456.45, 64);\n",
    "INSERT INTO raven.transactions(213, 'USD', 'Payment', 15202.21, 27);\n",
    "INSERT INTO raven.transactions(214, 'USD', 'Transfer', 10988.9, 37);\n",
    "INSERT INTO raven.transactions(215, 'USD', 'Payment', 17618.12, 63);\n",
    "INSERT INTO raven.transactions(216, 'USD', 'Deposit', 587.1, 81);\n",
    "INSERT INTO raven.transactions(217, 'USD', 'Withdrawal', 14198.56, 40);\n",
    "INSERT INTO raven.transactions(218, 'USD', 'Deposit', 11049.51, 12);\n",
    "INSERT INTO raven.transactions(219, 'USD', 'Withdrawal', 19845.22, 15);\n",
    "INSERT INTO raven.transactions(220, 'USD', 'Payment', 18941.74, 83);\n",
    "INSERT INTO raven.transactions(221, 'USD', 'Withdrawal', 9972.53, 92);\n",
    "INSERT INTO raven.transactions(222, 'USD', 'Transfer', 10182.35, 35);\n",
    "INSERT INTO raven.transactions(223, 'USD', 'Payment', 16696.13, 61);\n",
    "INSERT INTO raven.transactions(224, 'USD', 'Withdrawal', 9141.16, 19);\n",
    "INSERT INTO raven.transactions(225, 'USD', 'Payment', 3820.3, 77);\n",
    "INSERT INTO raven.transactions(226, 'USD', 'Withdrawal', 17281.9, 36);\n",
    "INSERT INTO raven.transactions(227, 'USD', 'Payment', 6804.11, 65);\n",
    "INSERT INTO raven.transactions(228, 'USD', 'Transfer', 16412.78, 37);\n",
    "INSERT INTO raven.transactions(229, 'USD', 'Transfer', 16751.14, 75);\n",
    "INSERT INTO raven.transactions(230, 'USD', 'Payment', 17306.56, 58);\n",
    "INSERT INTO raven.transactions(231, 'USD', 'Payment', 6909.03, 71);\n",
    "INSERT INTO raven.transactions(232, 'USD', 'Payment', 9112.34, 42);\n",
    "INSERT INTO raven.transactions(233, 'USD', 'Withdrawal', 19615.68, 31);\n",
    "INSERT INTO raven.transactions(234, 'USD', 'Payment', 4678.91, 100);\n",
    "INSERT INTO raven.transactions(235, 'USD', 'Payment', 882.51, 96);\n",
    "INSERT INTO raven.transactions(236, 'USD', 'Payment', 14107.51, 49);\n",
    "INSERT INTO raven.transactions(237, 'USD', 'Payment', 19768.4, 84);\n",
    "INSERT INTO raven.transactions(238, 'USD', 'Withdrawal', 9911.62, 5);\n",
    "INSERT INTO raven.transactions(239, 'USD', 'Withdrawal', 10050.8, 76);\n",
    "INSERT INTO raven.transactions(240, 'USD', 'Transfer', 17395.31, 57);\n",
    "INSERT INTO raven.transactions(241, 'USD', 'Deposit', 10523.76, 59);\n",
    "INSERT INTO raven.transactions(242, 'USD', 'Deposit', 14451.65, 53);\n",
    "INSERT INTO raven.transactions(243, 'USD', 'Withdrawal', 1505.82, 34);\n",
    "INSERT INTO raven.transactions(244, 'USD', 'Transfer', 12468.96, 51);\n",
    "INSERT INTO raven.transactions(245, 'USD', 'Deposit', 17036.79, 87);\n",
    "INSERT INTO raven.transactions(246, 'USD', 'Payment', 19083.25, 81);\n",
    "INSERT INTO raven.transactions(247, 'USD', 'Payment', 17448.94, 5);\n",
    "INSERT INTO raven.transactions(248, 'USD', 'Deposit', 4703.06, 88);\n",
    "INSERT INTO raven.transactions(249, 'USD', 'Transfer', 19948.54, 96);\n",
    "INSERT INTO raven.transactions(250, 'USD', 'Deposit', 8685.09, 13);\n",
    "INSERT INTO raven.transactions(251, 'USD', 'Deposit', 8879.13, 89);\n",
    "INSERT INTO raven.transactions(252, 'USD', 'Transfer', 18069.45, 6);\n",
    "INSERT INTO raven.transactions(253, 'USD', 'Transfer', 15924.91, 38);\n",
    "INSERT INTO raven.transactions(254, 'USD', 'Transfer', 7503.07, 19);\n",
    "INSERT INTO raven.transactions(255, 'USD', 'Withdrawal', 10628.01, 73);\n",
    "INSERT INTO raven.transactions(256, 'USD', 'Withdrawal', 3407.97, 11);\n",
    "INSERT INTO raven.transactions(257, 'USD', 'Payment', 12398.01, 31);\n",
    "INSERT INTO raven.transactions(258, 'USD', 'Payment', 18257.45, 19);\n",
    "INSERT INTO raven.transactions(259, 'USD', 'Withdrawal', 9228.39, 33);\n",
    "INSERT INTO raven.transactions(260, 'USD', 'Payment', 5113.98, 2);\n",
    "INSERT INTO raven.transactions(261, 'USD', 'Payment', 18025.18, 87);\n",
    "INSERT INTO raven.transactions(262, 'USD', 'Withdrawal', 1486.5, 45);\n",
    "INSERT INTO raven.transactions(263, 'USD', 'Transfer', 12782.38, 55);\n",
    "INSERT INTO raven.transactions(264, 'USD', 'Transfer', 9142.15, 39);\n",
    "INSERT INTO raven.transactions(265, 'USD', 'Withdrawal', 19987.48, 62);\n",
    "INSERT INTO raven.transactions(266, 'USD', 'Deposit', 4751.74, 74);\n",
    "INSERT INTO raven.transactions(267, 'USD', 'Transfer', 11500.49, 90);\n",
    "INSERT INTO raven.transactions(268, 'USD', 'Transfer', 448.57, 85);\n",
    "INSERT INTO raven.transactions(269, 'USD', 'Payment', 5496.86, 73);\n",
    "INSERT INTO raven.transactions(270, 'USD', 'Deposit', 18213.23, 96);\n",
    "INSERT INTO raven.transactions(271, 'USD', 'Payment', 16658.45, 37);\n",
    "INSERT INTO raven.transactions(272, 'USD', 'Withdrawal', 12145.23, 46);\n",
    "INSERT INTO raven.transactions(273, 'USD', 'Withdrawal', 12735.99, 80);\n",
    "INSERT INTO raven.transactions(274, 'USD', 'Transfer', 13558.51, 93);\n",
    "INSERT INTO raven.transactions(275, 'USD', 'Withdrawal', 12568.68, 81);\n",
    "INSERT INTO raven.transactions(276, 'USD', 'Deposit', 6185.57, 57);\n",
    "INSERT INTO raven.transactions(277, 'USD', 'Deposit', 11595.68, 94);\n",
    "INSERT INTO raven.transactions(278, 'USD', 'Withdrawal', 1811.77, 38);\n",
    "INSERT INTO raven.transactions(279, 'USD', 'Transfer', 14952.14, 23);\n",
    "INSERT INTO raven.transactions(280, 'USD', 'Withdrawal', 2651.87, 70);\n",
    "INSERT INTO raven.transactions(281, 'USD', 'Transfer', 10621.74, 35);\n",
    "INSERT INTO raven.transactions(282, 'USD', 'Withdrawal', 5146.83, 62);\n",
    "INSERT INTO raven.transactions(283, 'USD', 'Transfer', 14933.72, 44);\n",
    "INSERT INTO raven.transactions(284, 'USD', 'Deposit', 9371.94, 10);\n",
    "INSERT INTO raven.transactions(285, 'USD', 'Withdrawal', 15085.49, 29);\n",
    "INSERT INTO raven.transactions(286, 'USD', 'Payment', 19345.72, 72);\n",
    "INSERT INTO raven.transactions(287, 'USD', 'Transfer', 1815.15, 51);\n",
    "INSERT INTO raven.transactions(288, 'USD', 'Deposit', 5296.53, 16);\n",
    "INSERT INTO raven.transactions(289, 'USD', 'Payment', 7378.03, 96);\n",
    "INSERT INTO raven.transactions(290, 'USD', 'Transfer', 11695.36, 82);\n",
    "INSERT INTO raven.transactions(291, 'USD', 'Transfer', 2175.84, 30);\n",
    "INSERT INTO raven.transactions(292, 'USD', 'Payment', 510.24, 72);\n",
    "INSERT INTO raven.transactions(293, 'USD', 'Transfer', 18305.97, 29);\n",
    "INSERT INTO raven.transactions(294, 'USD', 'Deposit', 12711.72, 60);\n",
    "INSERT INTO raven.transactions(295, 'USD', 'Transfer', 12988.3, 15);\n",
    "INSERT INTO raven.transactions(296, 'USD', 'Withdrawal', 916.48, 5);\n",
    "INSERT INTO raven.transactions(297, 'USD', 'Transfer', 19918.59, 15);\n",
    "INSERT INTO raven.transactions(298, 'USD', 'Deposit', 4703.65, 69);\n",
    "INSERT INTO raven.transactions(299, 'USD', 'Withdrawal', 7779.03, 48);\n",
    "INSERT INTO raven.transactions(300, 'USD', 'Payment', 11750.93, 94);\n",
    "INSERT INTO raven.transactions(301, 'USD', 'Withdrawal', 17709.42, 84);\n",
    "INSERT INTO raven.transactions(302, 'USD', 'Deposit', 16675.52, 79);\n",
    "INSERT INTO raven.transactions(303, 'USD', 'Payment', 18781.67, 36);\n",
    "INSERT INTO raven.transactions(304, 'USD', 'Deposit', 13808.71, 28);\n",
    "INSERT INTO raven.transactions(305, 'USD', 'Payment', 8899.47, 31);\n",
    "INSERT INTO raven.transactions(306, 'USD', 'Transfer', 1996.1, 88);\n",
    "INSERT INTO raven.transactions(307, 'USD', 'Transfer', 10893.87, 83);\n",
    "INSERT INTO raven.transactions(308, 'USD', 'Transfer', 1220.4, 36);\n",
    "INSERT INTO raven.transactions(309, 'USD', 'Withdrawal', 19364.46, 59);\n",
    "INSERT INTO raven.transactions(310, 'USD', 'Deposit', 13258.75, 83);\n",
    "INSERT INTO raven.transactions(311, 'USD', 'Deposit', 1021.06, 43);\n",
    "INSERT INTO raven.transactions(312, 'USD', 'Withdrawal', 19776.53, 73);\n",
    "INSERT INTO raven.transactions(313, 'USD', 'Withdrawal', 1381.52, 98);\n",
    "INSERT INTO raven.transactions(314, 'USD', 'Withdrawal', 11731.8, 30);\n",
    "INSERT INTO raven.transactions(315, 'USD', 'Transfer', 15489.63, 77);\n",
    "INSERT INTO raven.transactions(316, 'USD', 'Deposit', 5552.72, 19);\n",
    "INSERT INTO raven.transactions(317, 'USD', 'Withdrawal', 10808.91, 23);\n",
    "INSERT INTO raven.transactions(318, 'USD', 'Deposit', 13224.54, 4);\n",
    "INSERT INTO raven.transactions(319, 'USD', 'Withdrawal', 307.06, 31);\n",
    "INSERT INTO raven.transactions(320, 'USD', 'Transfer', 325.46, 34);\n",
    "INSERT INTO raven.transactions(321, 'USD', 'Deposit', 2543.9, 54);\n",
    "INSERT INTO raven.transactions(322, 'USD', 'Deposit', 14915.85, 61);\n",
    "INSERT INTO raven.transactions(323, 'USD', 'Payment', 15562.56, 66);\n",
    "INSERT INTO raven.transactions(324, 'USD', 'Deposit', 9045.59, 29);\n",
    "INSERT INTO raven.transactions(325, 'USD', 'Deposit', 14547.59, 85);\n",
    "INSERT INTO raven.transactions(326, 'USD', 'Transfer', 9166.27, 4);\n",
    "INSERT INTO raven.transactions(327, 'USD', 'Deposit', 19971.75, 52);\n",
    "INSERT INTO raven.transactions(328, 'USD', 'Payment', 13725.09, 63);\n",
    "INSERT INTO raven.transactions(329, 'USD', 'Payment', 1479.08, 11);\n",
    "INSERT INTO raven.transactions(330, 'USD', 'Transfer', 12169.87, 9);\n",
    "INSERT INTO raven.transactions(331, 'USD', 'Withdrawal', 5507.57, 82);\n",
    "INSERT INTO raven.transactions(332, 'USD', 'Transfer', 7624.28, 77);\n",
    "INSERT INTO raven.transactions(333, 'USD', 'Transfer', 9079.77, 78);\n",
    "INSERT INTO raven.transactions(334, 'USD', 'Payment', 1992.58, 90);\n",
    "INSERT INTO raven.transactions(335, 'USD', 'Deposit', 17057.33, 84);\n",
    "INSERT INTO raven.transactions(336, 'USD', 'Withdrawal', 8607.1, 30);\n",
    "INSERT INTO raven.transactions(337, 'USD', 'Payment', 6785.24, 59);\n",
    "INSERT INTO raven.transactions(338, 'USD', 'Payment', 8325.63, 13);\n",
    "INSERT INTO raven.transactions(339, 'USD', 'Transfer', 8541.01, 86);\n",
    "INSERT INTO raven.transactions(340, 'USD', 'Transfer', 7492.28, 20);\n",
    "INSERT INTO raven.transactions(341, 'USD', 'Payment', 1351.99, 11);\n",
    "INSERT INTO raven.transactions(342, 'USD', 'Deposit', 8643.21, 96);\n",
    "INSERT INTO raven.transactions(343, 'USD', 'Transfer', 16237.27, 72);\n",
    "INSERT INTO raven.transactions(344, 'USD', 'Deposit', 11733.44, 72);\n",
    "INSERT INTO raven.transactions(345, 'USD', 'Transfer', 13403.57, 53);\n",
    "INSERT INTO raven.transactions(346, 'USD', 'Transfer', 17473.41, 97);\n",
    "INSERT INTO raven.transactions(347, 'USD', 'Payment', 17363.16, 93);\n",
    "INSERT INTO raven.transactions(348, 'USD', 'Deposit', 19368.29, 77);\n",
    "INSERT INTO raven.transactions(349, 'USD', 'Transfer', 7039.41, 74);\n",
    "INSERT INTO raven.transactions(350, 'USD', 'Withdrawal', 3103.06, 62);\n",
    "INSERT INTO raven.transactions(351, 'USD', 'Withdrawal', 16947.02, 45);\n",
    "INSERT INTO raven.transactions(352, 'USD', 'Transfer', 2306.56, 36);\n",
    "INSERT INTO raven.transactions(353, 'USD', 'Withdrawal', 16146.36, 72);\n",
    "INSERT INTO raven.transactions(354, 'USD', 'Deposit', 12183.81, 85);\n",
    "INSERT INTO raven.transactions(355, 'USD', 'Transfer', 588.77, 35);\n",
    "INSERT INTO raven.transactions(356, 'USD', 'Transfer', 18431.54, 45);\n",
    "INSERT INTO raven.transactions(357, 'USD', 'Deposit', 3636.3, 19);\n",
    "INSERT INTO raven.transactions(358, 'USD', 'Payment', 1401.01, 95);\n",
    "INSERT INTO raven.transactions(359, 'USD', 'Deposit', 1844.24, 68);\n",
    "INSERT INTO raven.transactions(360, 'USD', 'Withdrawal', 7530.13, 59);\n",
    "INSERT INTO raven.transactions(361, 'USD', 'Transfer', 3156.61, 40);\n",
    "INSERT INTO raven.transactions(362, 'USD', 'Transfer', 15538.94, 73);\n",
    "INSERT INTO raven.transactions(363, 'USD', 'Deposit', 17668.01, 20);\n",
    "INSERT INTO raven.transactions(364, 'USD', 'Withdrawal', 15091.17, 7);\n",
    "INSERT INTO raven.transactions(365, 'USD', 'Deposit', 5449.34, 85);\n",
    "INSERT INTO raven.transactions(366, 'USD', 'Payment', 9718.38, 57);\n",
    "INSERT INTO raven.transactions(367, 'USD', 'Payment', 5470.61, 97);\n",
    "INSERT INTO raven.transactions(368, 'USD', 'Deposit', 6910.01, 15);\n",
    "INSERT INTO raven.transactions(369, 'USD', 'Transfer', 13567.58, 76);\n",
    "INSERT INTO raven.transactions(370, 'USD', 'Payment', 10543.41, 40);\n",
    "INSERT INTO raven.transactions(371, 'USD', 'Deposit', 4418.16, 77);\n",
    "INSERT INTO raven.transactions(372, 'USD', 'Deposit', 163.66, 39);\n",
    "INSERT INTO raven.transactions(373, 'USD', 'Withdrawal', 15349.32, 98);\n",
    "INSERT INTO raven.transactions(374, 'USD', 'Transfer', 5796.05, 16);\n",
    "INSERT INTO raven.transactions(375, 'USD', 'Deposit', 9952.73, 56);\n",
    "INSERT INTO raven.transactions(376, 'USD', 'Withdrawal', 2592.42, 69);\n",
    "INSERT INTO raven.transactions(377, 'USD', 'Withdrawal', 10010.24, 86);\n",
    "INSERT INTO raven.transactions(378, 'USD', 'Transfer', 1450.79, 95);\n",
    "INSERT INTO raven.transactions(379, 'USD', 'Deposit', 8730.03, 59);\n",
    "INSERT INTO raven.transactions(380, 'USD', 'Deposit', 17243.58, 74);\n",
    "INSERT INTO raven.transactions(381, 'USD', 'Payment', 11472.26, 91);\n",
    "INSERT INTO raven.transactions(382, 'USD', 'Payment', 5797.41, 52);\n",
    "INSERT INTO raven.transactions(383, 'USD', 'Deposit', 19324.33, 22);\n",
    "INSERT INTO raven.transactions(384, 'USD', 'Payment', 16642.2, 47);\n",
    "INSERT INTO raven.transactions(385, 'USD', 'Deposit', 8739.87, 14);\n",
    "INSERT INTO raven.transactions(386, 'USD', 'Withdrawal', 8719.17, 52);\n",
    "INSERT INTO raven.transactions(387, 'USD', 'Deposit', 7921.38, 40);\n",
    "INSERT INTO raven.transactions(388, 'USD', 'Transfer', 4439.23, 100);\n",
    "INSERT INTO raven.transactions(389, 'USD', 'Withdrawal', 1536.82, 82);\n",
    "INSERT INTO raven.transactions(390, 'USD', 'Deposit', 10616.79, 25);\n",
    "INSERT INTO raven.transactions(391, 'USD', 'Transfer', 7028.48, 83);\n",
    "INSERT INTO raven.transactions(392, 'USD', 'Withdrawal', 4733.01, 19);\n",
    "INSERT INTO raven.transactions(393, 'USD', 'Transfer', 3953.46, 78);\n",
    "INSERT INTO raven.transactions(394, 'USD', 'Withdrawal', 15206.7, 84);\n",
    "INSERT INTO raven.transactions(395, 'USD', 'Deposit', 3551.15, 99);\n",
    "INSERT INTO raven.transactions(396, 'USD', 'Payment', 9284.42, 73);\n",
    "INSERT INTO raven.transactions(397, 'USD', 'Payment', 13625.86, 73);\n",
    "INSERT INTO raven.transactions(398, 'USD', 'Transfer', 17286.3, 81);\n",
    "INSERT INTO raven.transactions(399, 'USD', 'Transfer', 3027.64, 9);\n",
    "INSERT INTO raven.transactions(400, 'USD', 'Payment', 8849.74, 39);\n",
    "INSERT INTO raven.transactions(401, 'USD', 'Transfer', 11832.48, 46);\n",
    "INSERT INTO raven.transactions(402, 'USD', 'Deposit', 6215.05, 58);\n",
    "INSERT INTO raven.transactions(403, 'USD', 'Deposit', 1147.23, 37);\n",
    "INSERT INTO raven.transactions(404, 'USD', 'Deposit', 12896.88, 12);\n",
    "INSERT INTO raven.transactions(405, 'USD', 'Payment', 9259.61, 71);\n",
    "INSERT INTO raven.transactions(406, 'USD', 'Deposit', 9000.18, 74);\n",
    "INSERT INTO raven.transactions(407, 'USD', 'Withdrawal', 6437.32, 61);\n",
    "INSERT INTO raven.transactions(408, 'USD', 'Withdrawal', 19154.87, 58);\n",
    "INSERT INTO raven.transactions(409, 'USD', 'Deposit', 16221.23, 44);\n",
    "INSERT INTO raven.transactions(410, 'USD', 'Deposit', 10095.93, 23);\n",
    "INSERT INTO raven.transactions(411, 'USD', 'Deposit', 4962.4, 57);\n",
    "INSERT INTO raven.transactions(412, 'USD', 'Payment', 10486.13, 79);\n",
    "INSERT INTO raven.transactions(413, 'USD', 'Withdrawal', 7284.32, 37);\n",
    "INSERT INTO raven.transactions(414, 'USD', 'Payment', 8181.3, 44);\n",
    "INSERT INTO raven.transactions(415, 'USD', 'Deposit', 15786.65, 83);\n",
    "INSERT INTO raven.transactions(416, 'USD', 'Transfer', 1327.58, 13);\n",
    "INSERT INTO raven.transactions(417, 'USD', 'Payment', 5690.1, 93);\n",
    "INSERT INTO raven.transactions(418, 'USD', 'Withdrawal', 6673.91, 75);\n",
    "INSERT INTO raven.transactions(419, 'USD', 'Withdrawal', 18335.76, 40);\n",
    "INSERT INTO raven.transactions(420, 'USD', 'Payment', 2587.74, 91);\n",
    "INSERT INTO raven.transactions(421, 'USD', 'Deposit', 6198.54, 49);\n",
    "INSERT INTO raven.transactions(422, 'USD', 'Transfer', 16265.56, 86);\n",
    "INSERT INTO raven.transactions(423, 'USD', 'Deposit', 12924.04, 55);\n",
    "INSERT INTO raven.transactions(424, 'USD', 'Transfer', 374.43, 40);\n",
    "INSERT INTO raven.transactions(425, 'USD', 'Withdrawal', 19023.87, 44);\n",
    "INSERT INTO raven.transactions(426, 'USD', 'Payment', 3848.18, 18);\n",
    "INSERT INTO raven.transactions(427, 'USD', 'Withdrawal', 1552.53, 13);\n",
    "INSERT INTO raven.transactions(428, 'USD', 'Deposit', 13241.97, 99);\n",
    "INSERT INTO raven.transactions(429, 'USD', 'Withdrawal', 11948.96, 20);\n",
    "INSERT INTO raven.transactions(430, 'USD', 'Withdrawal', 3625.11, 89);\n",
    "INSERT INTO raven.transactions(431, 'USD', 'Withdrawal', 14426.45, 6);\n",
    "INSERT INTO raven.transactions(432, 'USD', 'Payment', 7292.35, 93);\n",
    "INSERT INTO raven.transactions(433, 'USD', 'Withdrawal', 19392.08, 79);\n",
    "INSERT INTO raven.transactions(434, 'USD', 'Transfer', 15050.3, 58);\n",
    "INSERT INTO raven.transactions(435, 'USD', 'Withdrawal', 10684.88, 40);\n",
    "INSERT INTO raven.transactions(436, 'USD', 'Payment', 18080.45, 25);\n",
    "INSERT INTO raven.transactions(437, 'USD', 'Transfer', 13569.35, 74);\n",
    "INSERT INTO raven.transactions(438, 'USD', 'Payment', 9238.98, 37);\n",
    "INSERT INTO raven.transactions(439, 'USD', 'Payment', 10063.1, 54);\n",
    "INSERT INTO raven.transactions(440, 'USD', 'Withdrawal', 16339.66, 78);\n",
    "INSERT INTO raven.transactions(441, 'USD', 'Withdrawal', 17461.31, 7);\n",
    "INSERT INTO raven.transactions(442, 'USD', 'Payment', 17483.6, 71);\n",
    "INSERT INTO raven.transactions(443, 'USD', 'Deposit', 14230.91, 67);\n",
    "INSERT INTO raven.transactions(444, 'USD', 'Deposit', 5708.41, 98);\n",
    "INSERT INTO raven.transactions(445, 'USD', 'Withdrawal', 5463.1, 66);\n",
    "INSERT INTO raven.transactions(446, 'USD', 'Withdrawal', 16622.62, 12);\n",
    "INSERT INTO raven.transactions(447, 'USD', 'Withdrawal', 16335.9, 45);\n",
    "INSERT INTO raven.transactions(448, 'USD', 'Deposit', 8303.79, 51);\n",
    "INSERT INTO raven.transactions(449, 'USD', 'Transfer', 4723.2, 11);\n",
    "INSERT INTO raven.transactions(450, 'USD', 'Transfer', 4498.53, 41);\n",
    "INSERT INTO raven.transactions(451, 'USD', 'Deposit', 16785.13, 84);\n",
    "INSERT INTO raven.transactions(452, 'USD', 'Transfer', 15829.7, 18);\n",
    "INSERT INTO raven.transactions(453, 'USD', 'Deposit', 5744.72, 61);\n",
    "INSERT INTO raven.transactions(454, 'USD', 'Withdrawal', 15179.23, 61);\n",
    "INSERT INTO raven.transactions(455, 'USD', 'Payment', 12310.81, 11);\n",
    "INSERT INTO raven.transactions(456, 'USD', 'Deposit', 5125.92, 20);\n",
    "INSERT INTO raven.transactions(457, 'USD', 'Payment', 2232.63, 37);\n",
    "INSERT INTO raven.transactions(458, 'USD', 'Withdrawal', 6030.01, 7);\n",
    "INSERT INTO raven.transactions(459, 'USD', 'Withdrawal', 8402.31, 80);\n",
    "INSERT INTO raven.transactions(460, 'USD', 'Payment', 1265.51, 64);\n",
    "INSERT INTO raven.transactions(461, 'USD', 'Deposit', 12642.78, 74);\n",
    "INSERT INTO raven.transactions(462, 'USD', 'Withdrawal', 14373.7, 38);\n",
    "INSERT INTO raven.transactions(463, 'USD', 'Payment', 41.27, 46);\n",
    "INSERT INTO raven.transactions(464, 'USD', 'Withdrawal', 11417.57, 24);\n",
    "INSERT INTO raven.transactions(465, 'USD', 'Deposit', 10474.46, 47);\n",
    "INSERT INTO raven.transactions(466, 'USD', 'Deposit', 19068.54, 70);\n",
    "INSERT INTO raven.transactions(467, 'USD', 'Deposit', 7815.17, 61);\n",
    "INSERT INTO raven.transactions(468, 'USD', 'Deposit', 12717.06, 48);\n",
    "INSERT INTO raven.transactions(469, 'USD', 'Transfer', 14948.86, 46);\n",
    "INSERT INTO raven.transactions(470, 'USD', 'Deposit', 6902.6, 94);\n",
    "INSERT INTO raven.transactions(471, 'USD', 'Deposit', 15432.31, 95);\n",
    "INSERT INTO raven.transactions(472, 'USD', 'Transfer', 2676.86, 46);\n",
    "INSERT INTO raven.transactions(473, 'USD', 'Transfer', 16272.04, 23);\n",
    "INSERT INTO raven.transactions(474, 'USD', 'Payment', 19616.58, 62);\n",
    "INSERT INTO raven.transactions(475, 'USD', 'Withdrawal', 16231.84, 9);\n",
    "INSERT INTO raven.transactions(476, 'USD', 'Payment', 749.31, 26);\n",
    "INSERT INTO raven.transactions(477, 'USD', 'Deposit', 15824.27, 6);\n",
    "INSERT INTO raven.transactions(478, 'USD', 'Transfer', 18668.09, 66);\n",
    "INSERT INTO raven.transactions(479, 'USD', 'Payment', 19782.56, 70);\n",
    "INSERT INTO raven.transactions(480, 'USD', 'Payment', 5073.74, 97);\n",
    "INSERT INTO raven.transactions(481, 'USD', 'Withdrawal', 5729.36, 100);\n",
    "INSERT INTO raven.transactions(482, 'USD', 'Deposit', 17317.31, 43);\n",
    "INSERT INTO raven.transactions(483, 'USD', 'Transfer', 2498.26, 48);\n",
    "INSERT INTO raven.transactions(484, 'USD', 'Payment', 17790.84, 96);\n",
    "INSERT INTO raven.transactions(485, 'USD', 'Payment', 17893.8, 50);\n",
    "INSERT INTO raven.transactions(486, 'USD', 'Transfer', 19474.73, 64);\n",
    "INSERT INTO raven.transactions(487, 'USD', 'Payment', 7353.27, 67);\n",
    "INSERT INTO raven.transactions(488, 'USD', 'Transfer', 16024.95, 94);\n",
    "INSERT INTO raven.transactions(489, 'USD', 'Payment', 1587.75, 78);\n",
    "INSERT INTO raven.transactions(490, 'USD', 'Withdrawal', 10914.03, 42);\n",
    "INSERT INTO raven.transactions(491, 'USD', 'Deposit', 1610.58, 85);\n",
    "INSERT INTO raven.transactions(492, 'USD', 'Transfer', 6136.85, 78);\n",
    "INSERT INTO raven.transactions(493, 'USD', 'Payment', 3341.23, 57);\n",
    "INSERT INTO raven.transactions(494, 'USD', 'Transfer', 8948.12, 94);\n",
    "INSERT INTO raven.transactions(495, 'USD', 'Transfer', 12300.88, 56);\n",
    "INSERT INTO raven.transactions(496, 'USD', 'Transfer', 12792.99, 8);\n",
    "INSERT INTO raven.transactions(497, 'USD', 'Deposit', 13426.97, 52);\n",
    "INSERT INTO raven.transactions(498, 'USD', 'Transfer', 10266.59, 96);\n",
    "INSERT INTO raven.transactions(499, 'USD', 'Withdrawal', 19056.26, 19);\n",
    "INSERT INTO raven.transactions(500, 'USD', 'Payment', 705.63, 9);\n",
    "INSERT INTO raven.transactions(501, 'USD', 'Withdrawal', 15572.52, 47);\n",
    "INSERT INTO raven.transactions(502, 'USD', 'Transfer', 7663.26, 73);\n",
    "INSERT INTO raven.transactions(503, 'USD', 'Deposit', 12105.85, 87);\n",
    "INSERT INTO raven.transactions(504, 'USD', 'Payment', 18976.98, 48);\n",
    "INSERT INTO raven.transactions(505, 'USD', 'Payment', 15264.06, 74);\n",
    "INSERT INTO raven.transactions(506, 'USD', 'Withdrawal', 10593.9, 51);\n",
    "INSERT INTO raven.transactions(507, 'USD', 'Transfer', 12994.72, 32);\n",
    "INSERT INTO raven.transactions(508, 'USD', 'Deposit', 528.01, 24);\n",
    "INSERT INTO raven.transactions(509, 'USD', 'Payment', 10359.73, 72);\n",
    "INSERT INTO raven.transactions(510, 'USD', 'Deposit', 5242.92, 34);\n",
    "INSERT INTO raven.transactions(511, 'USD', 'Payment', 4299.26, 79);\n",
    "INSERT INTO raven.transactions(512, 'USD', 'Transfer', 13882.67, 63);\n",
    "INSERT INTO raven.transactions(513, 'USD', 'Withdrawal', 2461.52, 10);\n",
    "INSERT INTO raven.transactions(514, 'USD', 'Payment', 3461.4, 92);\n",
    "INSERT INTO raven.transactions(515, 'USD', 'Payment', 19945.28, 88);\n",
    "INSERT INTO raven.transactions(516, 'USD', 'Transfer', 13360.12, 91);\n",
    "INSERT INTO raven.transactions(517, 'USD', 'Deposit', 11004.44, 38);\n",
    "INSERT INTO raven.transactions(518, 'USD', 'Transfer', 17028.73, 92);\n",
    "INSERT INTO raven.transactions(519, 'USD', 'Withdrawal', 15875.99, 66);\n",
    "INSERT INTO raven.transactions(520, 'USD', 'Withdrawal', 2436.04, 26);\n",
    "INSERT INTO raven.transactions(521, 'USD', 'Withdrawal', 4742.36, 64);\n",
    "INSERT INTO raven.transactions(522, 'USD', 'Deposit', 7224.32, 74);\n",
    "INSERT INTO raven.transactions(523, 'USD', 'Transfer', 9353.44, 71);\n",
    "INSERT INTO raven.transactions(524, 'USD', 'Withdrawal', 12242.85, 12);\n",
    "INSERT INTO raven.transactions(525, 'USD', 'Deposit', 6192.72, 92);\n",
    "INSERT INTO raven.transactions(526, 'USD', 'Payment', 10518.66, 99);\n",
    "INSERT INTO raven.transactions(527, 'USD', 'Payment', 16468.55, 10);\n",
    "INSERT INTO raven.transactions(528, 'USD', 'Withdrawal', 19447.87, 83);\n",
    "INSERT INTO raven.transactions(529, 'USD', 'Deposit', 9004.99, 88);\n",
    "INSERT INTO raven.transactions(530, 'USD', 'Transfer', 2575.41, 100);\n",
    "INSERT INTO raven.transactions(531, 'USD', 'Withdrawal', 15357.95, 17);\n",
    "INSERT INTO raven.transactions(532, 'USD', 'Payment', 10062.25, 8);\n",
    "INSERT INTO raven.transactions(533, 'USD', 'Deposit', 10366.86, 39);\n",
    "INSERT INTO raven.transactions(534, 'USD', 'Withdrawal', 3247.72, 91);\n",
    "INSERT INTO raven.transactions(535, 'USD', 'Withdrawal', 6927.0, 67);\n",
    "INSERT INTO raven.transactions(536, 'USD', 'Transfer', 16920.21, 33);\n",
    "INSERT INTO raven.transactions(537, 'USD', 'Withdrawal', 12704.79, 71);\n",
    "INSERT INTO raven.transactions(538, 'USD', 'Transfer', 2512.15, 39);\n",
    "INSERT INTO raven.transactions(539, 'USD', 'Deposit', 10056.44, 22);\n",
    "INSERT INTO raven.transactions(540, 'USD', 'Withdrawal', 3432.3, 80);\n",
    "INSERT INTO raven.transactions(541, 'USD', 'Transfer', 16852.17, 73);\n",
    "INSERT INTO raven.transactions(542, 'USD', 'Deposit', 16506.47, 4);\n",
    "INSERT INTO raven.transactions(543, 'USD', 'Deposit', 918.78, 83);\n",
    "INSERT INTO raven.transactions(544, 'USD', 'Transfer', 13026.09, 99);\n",
    "INSERT INTO raven.transactions(545, 'USD', 'Payment', 12365.99, 4);\n",
    "INSERT INTO raven.transactions(546, 'USD', 'Payment', 17781.05, 70);\n",
    "INSERT INTO raven.transactions(547, 'USD', 'Transfer', 12841.73, 39);\n",
    "INSERT INTO raven.transactions(548, 'USD', 'Payment', 4905.11, 88);\n",
    "INSERT INTO raven.transactions(549, 'USD', 'Payment', 5955.7, 10);\n",
    "INSERT INTO raven.transactions(550, 'USD', 'Deposit', 3170.03, 54);\n",
    "INSERT INTO raven.transactions(551, 'USD', 'Payment', 9294.2, 44);\n",
    "INSERT INTO raven.transactions(552, 'USD', 'Withdrawal', 6258.52, 92);\n",
    "INSERT INTO raven.transactions(553, 'USD', 'Transfer', 14686.65, 45);\n",
    "INSERT INTO raven.transactions(554, 'USD', 'Payment', 2624.02, 48);\n",
    "INSERT INTO raven.transactions(555, 'USD', 'Deposit', 6389.13, 60);\n",
    "INSERT INTO raven.transactions(556, 'USD', 'Deposit', 5356.76, 32);\n",
    "INSERT INTO raven.transactions(557, 'USD', 'Withdrawal', 1945.26, 38);\n",
    "INSERT INTO raven.transactions(558, 'USD', 'Payment', 17284.64, 54);\n",
    "INSERT INTO raven.transactions(559, 'USD', 'Withdrawal', 19254.09, 21);\n",
    "INSERT INTO raven.transactions(560, 'USD', 'Transfer', 18675.69, 93);\n",
    "INSERT INTO raven.transactions(561, 'USD', 'Transfer', 3804.78, 21);\n",
    "INSERT INTO raven.transactions(562, 'USD', 'Payment', 19919.43, 60);\n",
    "INSERT INTO raven.transactions(563, 'USD', 'Payment', 17582.72, 64);\n",
    "INSERT INTO raven.transactions(564, 'USD', 'Deposit', 1810.08, 51);\n",
    "INSERT INTO raven.transactions(565, 'USD', 'Payment', 19334.07, 28);\n",
    "INSERT INTO raven.transactions(566, 'USD', 'Transfer', 982.68, 37);\n",
    "INSERT INTO raven.transactions(567, 'USD', 'Payment', 11954.4, 84);\n",
    "INSERT INTO raven.transactions(568, 'USD', 'Payment', 5722.11, 2);\n",
    "INSERT INTO raven.transactions(569, 'USD', 'Deposit', 8624.25, 34);\n",
    "INSERT INTO raven.transactions(570, 'USD', 'Transfer', 15279.5, 47);\n",
    "INSERT INTO raven.transactions(571, 'USD', 'Deposit', 8017.63, 73);\n",
    "INSERT INTO raven.transactions(572, 'USD', 'Withdrawal', 7256.85, 37);\n",
    "INSERT INTO raven.transactions(573, 'USD', 'Deposit', 7733.11, 58);\n",
    "INSERT INTO raven.transactions(574, 'USD', 'Transfer', 16507.97, 80);\n",
    "INSERT INTO raven.transactions(575, 'USD', 'Deposit', 2581.98, 13);\n",
    "INSERT INTO raven.transactions(576, 'USD', 'Payment', 7470.23, 44);\n",
    "INSERT INTO raven.transactions(577, 'USD', 'Transfer', 15101.75, 26);\n",
    "INSERT INTO raven.transactions(578, 'USD', 'Payment', 10006.56, 6);\n",
    "INSERT INTO raven.transactions(579, 'USD', 'Deposit', 2749.36, 43);\n",
    "INSERT INTO raven.transactions(580, 'USD', 'Payment', 10391.46, 20);\n",
    "INSERT INTO raven.transactions(581, 'USD', 'Withdrawal', 6566.04, 79);\n",
    "INSERT INTO raven.transactions(582, 'USD', 'Transfer', 3258.42, 79);\n",
    "INSERT INTO raven.transactions(583, 'USD', 'Transfer', 11878.56, 65);\n",
    "INSERT INTO raven.transactions(584, 'USD', 'Payment', 14177.71, 39);\n",
    "INSERT INTO raven.transactions(585, 'USD', 'Payment', 16316.82, 48);\n",
    "INSERT INTO raven.transactions(586, 'USD', 'Transfer', 13479.39, 54);\n",
    "INSERT INTO raven.transactions(587, 'USD', 'Transfer', 15937.13, 93);\n",
    "INSERT INTO raven.transactions(588, 'USD', 'Deposit', 11942.22, 34);\n",
    "INSERT INTO raven.transactions(589, 'USD', 'Withdrawal', 14430.79, 75);\n",
    "INSERT INTO raven.transactions(590, 'USD', 'Payment', 3418.54, 81);\n",
    "INSERT INTO raven.transactions(591, 'USD', 'Payment', 2964.04, 88);\n",
    "INSERT INTO raven.transactions(592, 'USD', 'Withdrawal', 641.09, 90);\n",
    "INSERT INTO raven.transactions(593, 'USD', 'Deposit', 3823.78, 57);\n",
    "INSERT INTO raven.transactions(594, 'USD', 'Transfer', 8381.42, 53);\n",
    "INSERT INTO raven.transactions(595, 'USD', 'Withdrawal', 8213.44, 100);\n",
    "INSERT INTO raven.transactions(596, 'USD', 'Payment', 17457.63, 95);\n",
    "INSERT INTO raven.transactions(597, 'USD', 'Deposit', 14118.45, 67);\n",
    "INSERT INTO raven.transactions(598, 'USD', 'Withdrawal', 11222.13, 85);\n",
    "INSERT INTO raven.transactions(599, 'USD', 'Payment', 10514.29, 41);\n",
    "INSERT INTO raven.transactions(600, 'USD', 'Withdrawal', 9198.67, 69);\n",
    "INSERT INTO raven.transactions(601, 'USD', 'Transfer', 10930.0, 87);\n",
    "INSERT INTO raven.transactions(602, 'USD', 'Transfer', 12205.43, 25);\n",
    "INSERT INTO raven.transactions(603, 'USD', 'Withdrawal', 5587.34, 39);\n",
    "INSERT INTO raven.transactions(604, 'USD', 'Withdrawal', 18830.3, 39);\n",
    "INSERT INTO raven.transactions(605, 'USD', 'Transfer', 14100.97, 89);\n",
    "INSERT INTO raven.transactions(606, 'USD', 'Payment', 6347.64, 45);\n",
    "INSERT INTO raven.transactions(607, 'USD', 'Transfer', 5762.91, 74);\n",
    "INSERT INTO raven.transactions(608, 'USD', 'Payment', 17916.25, 51);\n",
    "INSERT INTO raven.transactions(609, 'USD', 'Transfer', 19092.63, 19);\n",
    "INSERT INTO raven.transactions(610, 'USD', 'Transfer', 850.91, 92);\n",
    "INSERT INTO raven.transactions(611, 'USD', 'Deposit', 6933.81, 57);\n",
    "INSERT INTO raven.transactions(612, 'USD', 'Transfer', 14949.3, 28);\n",
    "INSERT INTO raven.transactions(613, 'USD', 'Withdrawal', 16560.75, 35);\n",
    "INSERT INTO raven.transactions(614, 'USD', 'Transfer', 2754.09, 79);\n",
    "INSERT INTO raven.transactions(615, 'USD', 'Withdrawal', 4856.74, 86);\n",
    "INSERT INTO raven.transactions(616, 'USD', 'Withdrawal', 12762.51, 7);\n",
    "INSERT INTO raven.transactions(617, 'USD', 'Deposit', 8271.89, 92);\n",
    "INSERT INTO raven.transactions(618, 'USD', 'Payment', 2019.89, 99);\n",
    "INSERT INTO raven.transactions(619, 'USD', 'Withdrawal', 113.58, 71);\n",
    "INSERT INTO raven.transactions(620, 'USD', 'Withdrawal', 8144.08, 61);\n",
    "INSERT INTO raven.transactions(621, 'USD', 'Payment', 13014.27, 97);\n",
    "INSERT INTO raven.transactions(622, 'USD', 'Transfer', 6430.14, 83);\n",
    "INSERT INTO raven.transactions(623, 'USD', 'Deposit', 18159.66, 12);\n",
    "INSERT INTO raven.transactions(624, 'USD', 'Withdrawal', 10707.69, 93);\n",
    "INSERT INTO raven.transactions(625, 'USD', 'Deposit', 18265.46, 23);\n",
    "INSERT INTO raven.transactions(626, 'USD', 'Payment', 17646.08, 23);\n",
    "INSERT INTO raven.transactions(627, 'USD', 'Deposit', 19943.46, 51);\n",
    "INSERT INTO raven.transactions(628, 'USD', 'Payment', 3734.37, 96);\n",
    "INSERT INTO raven.transactions(629, 'USD', 'Transfer', 17536.1, 2);\n",
    "INSERT INTO raven.transactions(630, 'USD', 'Transfer', 11363.56, 14);\n",
    "INSERT INTO raven.transactions(631, 'USD', 'Transfer', 5698.39, 83);\n",
    "INSERT INTO raven.transactions(632, 'USD', 'Payment', 17786.31, 18);\n",
    "INSERT INTO raven.transactions(633, 'USD', 'Payment', 5464.01, 15);\n",
    "INSERT INTO raven.transactions(634, 'USD', 'Transfer', 3258.26, 59);\n",
    "INSERT INTO raven.transactions(635, 'USD', 'Transfer', 14374.78, 2);\n",
    "INSERT INTO raven.transactions(636, 'USD', 'Transfer', 15817.45, 73);\n",
    "INSERT INTO raven.transactions(637, 'USD', 'Withdrawal', 3518.14, 82);\n",
    "INSERT INTO raven.transactions(638, 'USD', 'Payment', 16541.53, 66);\n",
    "INSERT INTO raven.transactions(639, 'USD', 'Transfer', 1743.89, 86);\n",
    "INSERT INTO raven.transactions(640, 'USD', 'Deposit', 3703.78, 18);\n",
    "INSERT INTO raven.transactions(641, 'USD', 'Payment', 6478.8, 32);\n",
    "INSERT INTO raven.transactions(642, 'USD', 'Deposit', 5223.1, 31);\n",
    "INSERT INTO raven.transactions(643, 'USD', 'Payment', 15077.6, 43);\n",
    "INSERT INTO raven.transactions(644, 'USD', 'Transfer', 11653.39, 74);\n",
    "INSERT INTO raven.transactions(645, 'USD', 'Deposit', 5238.45, 47);\n",
    "INSERT INTO raven.transactions(646, 'USD', 'Withdrawal', 1251.87, 16);\n",
    "INSERT INTO raven.transactions(647, 'USD', 'Payment', 6143.06, 52);\n",
    "INSERT INTO raven.transactions(648, 'USD', 'Transfer', 13808.9, 82);\n",
    "INSERT INTO raven.transactions(649, 'USD', 'Transfer', 7357.2, 29);\n",
    "INSERT INTO raven.transactions(650, 'USD', 'Withdrawal', 19147.64, 62);\n",
    "INSERT INTO raven.transactions(651, 'USD', 'Withdrawal', 9105.02, 78);\n",
    "INSERT INTO raven.transactions(652, 'USD', 'Transfer', 8322.75, 71);\n",
    "INSERT INTO raven.transactions(653, 'USD', 'Payment', 15149.44, 86);\n",
    "INSERT INTO raven.transactions(654, 'USD', 'Withdrawal', 15239.57, 88);\n",
    "INSERT INTO raven.transactions(655, 'USD', 'Deposit', 10514.88, 68);\n",
    "INSERT INTO raven.transactions(656, 'USD', 'Transfer', 1571.27, 73);\n",
    "INSERT INTO raven.transactions(657, 'USD', 'Deposit', 1244.54, 71);\n",
    "INSERT INTO raven.transactions(658, 'USD', 'Withdrawal', 11458.31, 20);\n",
    "INSERT INTO raven.transactions(659, 'USD', 'Withdrawal', 6569.07, 67);\n",
    "INSERT INTO raven.transactions(660, 'USD', 'Payment', 2333.64, 27);\n",
    "INSERT INTO raven.transactions(661, 'USD', 'Payment', 1827.92, 66);\n",
    "INSERT INTO raven.transactions(662, 'USD', 'Payment', 16175.75, 59);\n",
    "INSERT INTO raven.transactions(663, 'USD', 'Withdrawal', 10269.82, 59);\n",
    "INSERT INTO raven.transactions(664, 'USD', 'Deposit', 11180.36, 87);\n",
    "INSERT INTO raven.transactions(665, 'USD', 'Transfer', 14468.37, 51);\n",
    "INSERT INTO raven.transactions(666, 'USD', 'Transfer', 16330.9, 96);\n",
    "INSERT INTO raven.transactions(667, 'USD', 'Withdrawal', 11570.44, 6);\n",
    "INSERT INTO raven.transactions(668, 'USD', 'Payment', 6897.13, 9);\n",
    "INSERT INTO raven.transactions(669, 'USD', 'Deposit', 18692.31, 9);\n",
    "INSERT INTO raven.transactions(670, 'USD', 'Payment', 644.38, 53);\n",
    "INSERT INTO raven.transactions(671, 'USD', 'Withdrawal', 15381.75, 99);\n",
    "INSERT INTO raven.transactions(672, 'USD', 'Payment', 7495.47, 49);\n",
    "INSERT INTO raven.transactions(673, 'USD', 'Payment', 17393.71, 49);\n",
    "INSERT INTO raven.transactions(674, 'USD', 'Payment', 1614.2, 85);\n",
    "INSERT INTO raven.transactions(675, 'USD', 'Withdrawal', 13074.15, 45);\n",
    "INSERT INTO raven.transactions(676, 'USD', 'Deposit', 3577.69, 69);\n",
    "INSERT INTO raven.transactions(677, 'USD', 'Payment', 10581.56, 94);\n",
    "INSERT INTO raven.transactions(678, 'USD', 'Withdrawal', 16698.08, 97);\n",
    "INSERT INTO raven.transactions(679, 'USD', 'Deposit', 19570.03, 60);\n",
    "INSERT INTO raven.transactions(680, 'USD', 'Payment', 10643.35, 30);\n",
    "INSERT INTO raven.transactions(681, 'USD', 'Withdrawal', 9217.9, 20);\n",
    "INSERT INTO raven.transactions(682, 'USD', 'Transfer', 3777.72, 93);\n",
    "INSERT INTO raven.transactions(683, 'USD', 'Deposit', 654.02, 85);\n",
    "INSERT INTO raven.transactions(684, 'USD', 'Payment', 12302.31, 3);\n",
    "INSERT INTO raven.transactions(685, 'USD', 'Withdrawal', 4129.57, 13);\n",
    "INSERT INTO raven.transactions(686, 'USD', 'Deposit', 8934.36, 87);\n",
    "INSERT INTO raven.transactions(687, 'USD', 'Deposit', 4902.24, 6);\n",
    "INSERT INTO raven.transactions(688, 'USD', 'Payment', 8784.87, 70);\n",
    "INSERT INTO raven.transactions(689, 'USD', 'Withdrawal', 15090.17, 100);\n",
    "INSERT INTO raven.transactions(690, 'USD', 'Deposit', 2811.31, 38);\n",
    "INSERT INTO raven.transactions(691, 'USD', 'Withdrawal', 16317.57, 94);\n",
    "INSERT INTO raven.transactions(692, 'USD', 'Transfer', 11553.72, 99);\n",
    "INSERT INTO raven.transactions(693, 'USD', 'Transfer', 4745.71, 19);\n",
    "INSERT INTO raven.transactions(694, 'USD', 'Withdrawal', 8277.07, 36);\n",
    "INSERT INTO raven.transactions(695, 'USD', 'Deposit', 11138.8, 76);\n",
    "INSERT INTO raven.transactions(696, 'USD', 'Withdrawal', 12523.6, 55);\n",
    "INSERT INTO raven.transactions(697, 'USD', 'Payment', 947.21, 45);\n",
    "INSERT INTO raven.transactions(698, 'USD', 'Payment', 15718.23, 41);\n",
    "INSERT INTO raven.transactions(699, 'USD', 'Payment', 8171.1, 39);\n",
    "INSERT INTO raven.transactions(700, 'USD', 'Payment', 3685.74, 69);\n",
    "INSERT INTO raven.transactions(701, 'USD', 'Payment', 4826.95, 29);\n",
    "INSERT INTO raven.transactions(702, 'USD', 'Transfer', 17152.25, 19);\n",
    "INSERT INTO raven.transactions(703, 'USD', 'Payment', 18295.68, 72);\n",
    "INSERT INTO raven.transactions(704, 'USD', 'Payment', 19356.05, 72);\n",
    "INSERT INTO raven.transactions(705, 'USD', 'Withdrawal', 7774.5, 33);\n",
    "INSERT INTO raven.transactions(706, 'USD', 'Withdrawal', 6611.96, 11);\n",
    "INSERT INTO raven.transactions(707, 'USD', 'Payment', 16944.2, 12);\n",
    "INSERT INTO raven.transactions(708, 'USD', 'Withdrawal', 1040.22, 49);\n",
    "INSERT INTO raven.transactions(709, 'USD', 'Deposit', 17473.67, 25);\n",
    "INSERT INTO raven.transactions(710, 'USD', 'Withdrawal', 9593.09, 43);\n",
    "INSERT INTO raven.transactions(711, 'USD', 'Transfer', 19140.83, 2);\n",
    "INSERT INTO raven.transactions(712, 'USD', 'Withdrawal', 18743.82, 95);\n",
    "INSERT INTO raven.transactions(713, 'USD', 'Deposit', 14940.12, 97);\n",
    "INSERT INTO raven.transactions(714, 'USD', 'Payment', 18289.68, 90);\n",
    "INSERT INTO raven.transactions(715, 'USD', 'Withdrawal', 7938.67, 31);\n",
    "INSERT INTO raven.transactions(716, 'USD', 'Transfer', 15512.52, 49);\n",
    "INSERT INTO raven.transactions(717, 'USD', 'Payment', 10677.67, 46);\n",
    "INSERT INTO raven.transactions(718, 'USD', 'Transfer', 5238.62, 66);\n",
    "INSERT INTO raven.transactions(719, 'USD', 'Payment', 9325.42, 93);\n",
    "INSERT INTO raven.transactions(720, 'USD', 'Payment', 15234.96, 41);\n",
    "INSERT INTO raven.transactions(721, 'USD', 'Withdrawal', 7420.39, 53);\n",
    "INSERT INTO raven.transactions(722, 'USD', 'Deposit', 11254.87, 29);\n",
    "INSERT INTO raven.transactions(723, 'USD', 'Withdrawal', 334.24, 71);\n",
    "INSERT INTO raven.transactions(724, 'USD', 'Payment', 5910.89, 26);\n",
    "INSERT INTO raven.transactions(725, 'USD', 'Transfer', 4608.07, 73);\n",
    "INSERT INTO raven.transactions(726, 'USD', 'Withdrawal', 9991.04, 84);\n",
    "INSERT INTO raven.transactions(727, 'USD', 'Transfer', 5153.96, 63);\n",
    "INSERT INTO raven.transactions(728, 'USD', 'Payment', 9221.97, 94);\n",
    "INSERT INTO raven.transactions(729, 'USD', 'Transfer', 3393.62, 93);\n",
    "INSERT INTO raven.transactions(730, 'USD', 'Payment', 3689.11, 70);\n",
    "INSERT INTO raven.transactions(731, 'USD', 'Deposit', 10483.65, 10);\n",
    "INSERT INTO raven.transactions(732, 'USD', 'Deposit', 15289.13, 53);\n",
    "INSERT INTO raven.transactions(733, 'USD', 'Withdrawal', 16852.47, 30);\n",
    "INSERT INTO raven.transactions(734, 'USD', 'Deposit', 14146.32, 2);\n",
    "INSERT INTO raven.transactions(735, 'USD', 'Withdrawal', 10119.6, 48);\n",
    "INSERT INTO raven.transactions(736, 'USD', 'Deposit', 12360.53, 86);\n",
    "INSERT INTO raven.transactions(737, 'USD', 'Payment', 13189.09, 3);\n",
    "INSERT INTO raven.transactions(738, 'USD', 'Deposit', 10648.93, 53);\n",
    "INSERT INTO raven.transactions(739, 'USD', 'Deposit', 344.36, 93);\n",
    "INSERT INTO raven.transactions(740, 'USD', 'Transfer', 10719.4, 37);\n",
    "INSERT INTO raven.transactions(741, 'USD', 'Deposit', 10049.3, 90);\n",
    "INSERT INTO raven.transactions(742, 'USD', 'Payment', 16125.29, 23);\n",
    "INSERT INTO raven.transactions(743, 'USD', 'Deposit', 18361.8, 68);\n",
    "INSERT INTO raven.transactions(744, 'USD', 'Withdrawal', 4826.97, 80);\n",
    "INSERT INTO raven.transactions(745, 'USD', 'Transfer', 16306.14, 35);\n",
    "INSERT INTO raven.transactions(746, 'USD', 'Payment', 1589.59, 52);\n",
    "INSERT INTO raven.transactions(747, 'USD', 'Payment', 11304.39, 90);\n",
    "INSERT INTO raven.transactions(748, 'USD', 'Withdrawal', 6006.49, 11);\n",
    "INSERT INTO raven.transactions(749, 'USD', 'Deposit', 1879.08, 49);\n",
    "INSERT INTO raven.transactions(750, 'USD', 'Payment', 11058.5, 8);\n",
    "INSERT INTO raven.transactions(751, 'USD', 'Deposit', 14059.87, 11);\n",
    "INSERT INTO raven.transactions(752, 'USD', 'Payment', 16908.14, 83);\n",
    "INSERT INTO raven.transactions(753, 'USD', 'Transfer', 11321.47, 13);\n",
    "INSERT INTO raven.transactions(754, 'USD', 'Deposit', 4603.03, 89);\n",
    "INSERT INTO raven.transactions(755, 'USD', 'Payment', 5429.19, 10);\n",
    "INSERT INTO raven.transactions(756, 'USD', 'Transfer', 17987.24, 73);\n",
    "INSERT INTO raven.transactions(757, 'USD', 'Deposit', 3595.3, 41);\n",
    "INSERT INTO raven.transactions(758, 'USD', 'Deposit', 19229.77, 76);\n",
    "INSERT INTO raven.transactions(759, 'USD', 'Withdrawal', 15047.57, 92);\n",
    "INSERT INTO raven.transactions(760, 'USD', 'Payment', 18578.21, 39);\n",
    "INSERT INTO raven.transactions(761, 'USD', 'Withdrawal', 11283.52, 73);\n",
    "INSERT INTO raven.transactions(762, 'USD', 'Payment', 13543.93, 70);\n",
    "INSERT INTO raven.transactions(763, 'USD', 'Transfer', 7683.09, 95);\n",
    "INSERT INTO raven.transactions(764, 'USD', 'Withdrawal', 15812.06, 89);\n",
    "INSERT INTO raven.transactions(765, 'USD', 'Deposit', 10020.85, 45);\n",
    "INSERT INTO raven.transactions(766, 'USD', 'Deposit', 1962.74, 30);\n",
    "INSERT INTO raven.transactions(767, 'USD', 'Deposit', 6818.45, 99);\n",
    "INSERT INTO raven.transactions(768, 'USD', 'Payment', 19378.72, 42);\n",
    "INSERT INTO raven.transactions(769, 'USD', 'Deposit', 12686.12, 58);\n",
    "INSERT INTO raven.transactions(770, 'USD', 'Payment', 4570.49, 71);\n",
    "INSERT INTO raven.transactions(771, 'USD', 'Payment', 8642.64, 88);\n",
    "INSERT INTO raven.transactions(772, 'USD', 'Payment', 1723.03, 80);\n",
    "INSERT INTO raven.transactions(773, 'USD', 'Transfer', 15963.12, 92);\n",
    "INSERT INTO raven.transactions(774, 'USD', 'Deposit', 1649.94, 20);\n",
    "INSERT INTO raven.transactions(775, 'USD', 'Payment', 14236.43, 82);\n",
    "INSERT INTO raven.transactions(776, 'USD', 'Withdrawal', 14795.71, 41);\n",
    "INSERT INTO raven.transactions(777, 'USD', 'Transfer', 2139.95, 1);\n",
    "INSERT INTO raven.transactions(778, 'USD', 'Transfer', 8900.27, 98);\n",
    "INSERT INTO raven.transactions(779, 'USD', 'Transfer', 2053.61, 12);\n",
    "INSERT INTO raven.transactions(780, 'USD', 'Withdrawal', 8625.28, 72);\n",
    "INSERT INTO raven.transactions(781, 'USD', 'Payment', 2074.83, 12);\n",
    "INSERT INTO raven.transactions(782, 'USD', 'Transfer', 11088.85, 77);\n",
    "INSERT INTO raven.transactions(783, 'USD', 'Transfer', 17275.73, 2);\n",
    "INSERT INTO raven.transactions(784, 'USD', 'Transfer', 8282.06, 100);\n",
    "INSERT INTO raven.transactions(785, 'USD', 'Deposit', 14499.63, 72);\n",
    "INSERT INTO raven.transactions(786, 'USD', 'Withdrawal', 11443.49, 22);\n",
    "INSERT INTO raven.transactions(787, 'USD', 'Payment', 3398.34, 35);\n",
    "INSERT INTO raven.transactions(788, 'USD', 'Transfer', 5375.45, 19);\n",
    "INSERT INTO raven.transactions(789, 'USD', 'Deposit', 3352.48, 36);\n",
    "INSERT INTO raven.transactions(790, 'USD', 'Payment', 6002.05, 10);\n",
    "INSERT INTO raven.transactions(791, 'USD', 'Transfer', 5041.48, 32);\n",
    "INSERT INTO raven.transactions(792, 'USD', 'Payment', 11880.19, 26);\n",
    "INSERT INTO raven.transactions(793, 'USD', 'Payment', 2148.38, 39);\n",
    "INSERT INTO raven.transactions(794, 'USD', 'Deposit', 18976.98, 43);\n",
    "INSERT INTO raven.transactions(795, 'USD', 'Payment', 16083.49, 43);\n",
    "INSERT INTO raven.transactions(796, 'USD', 'Payment', 6701.38, 84);\n",
    "INSERT INTO raven.transactions(797, 'USD', 'Withdrawal', 6015.7, 78);\n",
    "INSERT INTO raven.transactions(798, 'USD', 'Withdrawal', 9585.4, 23);\n",
    "INSERT INTO raven.transactions(799, 'USD', 'Payment', 19374.82, 38);\n",
    "INSERT INTO raven.transactions(800, 'USD', 'Payment', 19355.58, 32);\n",
    "INSERT INTO raven.transactions(801, 'USD', 'Transfer', 7527.35, 51);\n",
    "INSERT INTO raven.transactions(802, 'USD', 'Transfer', 2286.62, 73);\n",
    "INSERT INTO raven.transactions(803, 'USD', 'Withdrawal', 11848.62, 70);\n",
    "INSERT INTO raven.transactions(804, 'USD', 'Withdrawal', 13637.44, 71);\n",
    "INSERT INTO raven.transactions(805, 'USD', 'Deposit', 19060.56, 60);\n",
    "INSERT INTO raven.transactions(806, 'USD', 'Withdrawal', 8774.71, 38);\n",
    "INSERT INTO raven.transactions(807, 'USD', 'Deposit', 16381.12, 53);\n",
    "INSERT INTO raven.transactions(808, 'USD', 'Payment', 2792.19, 39);\n",
    "INSERT INTO raven.transactions(809, 'USD', 'Withdrawal', 5061.11, 20);\n",
    "INSERT INTO raven.transactions(810, 'USD', 'Payment', 15783.64, 10);\n",
    "INSERT INTO raven.transactions(811, 'USD', 'Payment', 19814.11, 62);\n",
    "INSERT INTO raven.transactions(812, 'USD', 'Payment', 10692.0, 89);\n",
    "INSERT INTO raven.transactions(813, 'USD', 'Payment', 10877.47, 47);\n",
    "INSERT INTO raven.transactions(814, 'USD', 'Deposit', 2196.29, 32);\n",
    "INSERT INTO raven.transactions(815, 'USD', 'Transfer', 3335.11, 79);\n",
    "INSERT INTO raven.transactions(816, 'USD', 'Deposit', 11268.77, 83);\n",
    "INSERT INTO raven.transactions(817, 'USD', 'Payment', 19336.55, 43);\n",
    "INSERT INTO raven.transactions(818, 'USD', 'Payment', 2127.83, 13);\n",
    "INSERT INTO raven.transactions(819, 'USD', 'Transfer', 4447.8, 96);\n",
    "INSERT INTO raven.transactions(820, 'USD', 'Withdrawal', 8921.11, 51);\n",
    "INSERT INTO raven.transactions(821, 'USD', 'Payment', 15449.12, 76);\n",
    "INSERT INTO raven.transactions(822, 'USD', 'Withdrawal', 6905.9, 4);\n",
    "INSERT INTO raven.transactions(823, 'USD', 'Payment', 2099.94, 54);\n",
    "INSERT INTO raven.transactions(824, 'USD', 'Deposit', 2330.23, 94);\n",
    "INSERT INTO raven.transactions(825, 'USD', 'Withdrawal', 6973.09, 44);\n",
    "INSERT INTO raven.transactions(826, 'USD', 'Payment', 15687.56, 67);\n",
    "INSERT INTO raven.transactions(827, 'USD', 'Payment', 6972.52, 13);\n",
    "INSERT INTO raven.transactions(828, 'USD', 'Payment', 14442.66, 58);\n",
    "INSERT INTO raven.transactions(829, 'USD', 'Transfer', 1352.82, 6);\n",
    "INSERT INTO raven.transactions(830, 'USD', 'Deposit', 461.48, 44);\n",
    "INSERT INTO raven.transactions(831, 'USD', 'Deposit', 13546.02, 22);\n",
    "INSERT INTO raven.transactions(832, 'USD', 'Withdrawal', 10324.72, 71);\n",
    "INSERT INTO raven.transactions(833, 'USD', 'Withdrawal', 6626.48, 55);\n",
    "INSERT INTO raven.transactions(834, 'USD', 'Payment', 4644.79, 52);\n",
    "INSERT INTO raven.transactions(835, 'USD', 'Withdrawal', 3735.87, 85);\n",
    "INSERT INTO raven.transactions(836, 'USD', 'Payment', 7917.69, 95);\n",
    "INSERT INTO raven.transactions(837, 'USD', 'Withdrawal', 8997.0, 55);\n",
    "INSERT INTO raven.transactions(838, 'USD', 'Payment', 98.96, 28);\n",
    "INSERT INTO raven.transactions(839, 'USD', 'Withdrawal', 5574.11, 91);\n",
    "INSERT INTO raven.transactions(840, 'USD', 'Deposit', 11551.18, 69);\n",
    "INSERT INTO raven.transactions(841, 'USD', 'Withdrawal', 7322.2, 26);\n",
    "INSERT INTO raven.transactions(842, 'USD', 'Payment', 2287.96, 86);\n",
    "INSERT INTO raven.transactions(843, 'USD', 'Payment', 10559.02, 82);\n",
    "INSERT INTO raven.transactions(844, 'USD', 'Transfer', 11943.45, 79);\n",
    "INSERT INTO raven.transactions(845, 'USD', 'Payment', 11744.22, 45);\n",
    "INSERT INTO raven.transactions(846, 'USD', 'Transfer', 16911.9, 80);\n",
    "INSERT INTO raven.transactions(847, 'USD', 'Withdrawal', 16276.63, 91);\n",
    "INSERT INTO raven.transactions(848, 'USD', 'Transfer', 18374.46, 76);\n",
    "INSERT INTO raven.transactions(849, 'USD', 'Deposit', 13445.48, 41);\n",
    "INSERT INTO raven.transactions(850, 'USD', 'Deposit', 4779.07, 15);\n",
    "INSERT INTO raven.transactions(851, 'USD', 'Withdrawal', 7472.39, 19);\n",
    "INSERT INTO raven.transactions(852, 'USD', 'Payment', 8370.6, 18);\n",
    "INSERT INTO raven.transactions(853, 'USD', 'Payment', 8466.55, 63);\n",
    "INSERT INTO raven.transactions(854, 'USD', 'Withdrawal', 11102.7, 63);\n",
    "INSERT INTO raven.transactions(855, 'USD', 'Transfer', 2814.53, 41);\n",
    "INSERT INTO raven.transactions(856, 'USD', 'Payment', 12392.01, 46);\n",
    "INSERT INTO raven.transactions(857, 'USD', 'Deposit', 9697.33, 25);\n",
    "INSERT INTO raven.transactions(858, 'USD', 'Payment', 19276.94, 65);\n",
    "INSERT INTO raven.transactions(859, 'USD', 'Payment', 8188.6, 63);\n",
    "INSERT INTO raven.transactions(860, 'USD', 'Payment', 14205.75, 57);\n",
    "INSERT INTO raven.transactions(861, 'USD', 'Payment', 3353.4, 73);\n",
    "INSERT INTO raven.transactions(862, 'USD', 'Deposit', 15919.66, 29);\n",
    "INSERT INTO raven.transactions(863, 'USD', 'Transfer', 663.57, 29);\n",
    "INSERT INTO raven.transactions(864, 'USD', 'Transfer', 3372.5, 59);\n",
    "INSERT INTO raven.transactions(865, 'USD', 'Payment', 10999.03, 15);\n",
    "INSERT INTO raven.transactions(866, 'USD', 'Deposit', 5365.1, 70);\n",
    "INSERT INTO raven.transactions(867, 'USD', 'Transfer', 10845.45, 97);\n",
    "INSERT INTO raven.transactions(868, 'USD', 'Deposit', 15202.48, 57);\n",
    "INSERT INTO raven.transactions(869, 'USD', 'Withdrawal', 19795.62, 14);\n",
    "INSERT INTO raven.transactions(870, 'USD', 'Withdrawal', 5961.2, 5);\n",
    "INSERT INTO raven.transactions(871, 'USD', 'Payment', 5263.68, 12);\n",
    "INSERT INTO raven.transactions(872, 'USD', 'Payment', 17307.16, 16);\n",
    "INSERT INTO raven.transactions(873, 'USD', 'Withdrawal', 4205.46, 95);\n",
    "INSERT INTO raven.transactions(874, 'USD', 'Transfer', 17222.36, 79);\n",
    "INSERT INTO raven.transactions(875, 'USD', 'Payment', 3327.97, 18);\n",
    "INSERT INTO raven.transactions(876, 'USD', 'Withdrawal', 16272.46, 8);\n",
    "INSERT INTO raven.transactions(877, 'USD', 'Transfer', 10650.29, 77);\n",
    "INSERT INTO raven.transactions(878, 'USD', 'Withdrawal', 6479.84, 91);\n",
    "INSERT INTO raven.transactions(879, 'USD', 'Transfer', 5793.77, 35);\n",
    "INSERT INTO raven.transactions(880, 'USD', 'Deposit', 2720.42, 97);\n",
    "INSERT INTO raven.transactions(881, 'USD', 'Payment', 18376.19, 36);\n",
    "INSERT INTO raven.transactions(882, 'USD', 'Withdrawal', 14031.52, 17);\n",
    "INSERT INTO raven.transactions(883, 'USD', 'Withdrawal', 2933.41, 42);\n",
    "INSERT INTO raven.transactions(884, 'USD', 'Withdrawal', 15231.86, 87);\n",
    "INSERT INTO raven.transactions(885, 'USD', 'Payment', 9794.28, 74);\n",
    "INSERT INTO raven.transactions(886, 'USD', 'Transfer', 12559.98, 49);\n",
    "INSERT INTO raven.transactions(887, 'USD', 'Payment', 1519.57, 99);\n",
    "INSERT INTO raven.transactions(888, 'USD', 'Deposit', 8062.99, 96);\n",
    "INSERT INTO raven.transactions(889, 'USD', 'Transfer', 13897.13, 48);\n",
    "INSERT INTO raven.transactions(890, 'USD', 'Payment', 19005.58, 42);\n",
    "INSERT INTO raven.transactions(891, 'USD', 'Deposit', 17379.47, 94);\n",
    "INSERT INTO raven.transactions(892, 'USD', 'Deposit', 14621.33, 59);\n",
    "INSERT INTO raven.transactions(893, 'USD', 'Transfer', 17003.62, 69);\n",
    "INSERT INTO raven.transactions(894, 'USD', 'Payment', 4364.42, 55);\n",
    "INSERT INTO raven.transactions(895, 'USD', 'Withdrawal', 9899.35, 42);\n",
    "INSERT INTO raven.transactions(896, 'USD', 'Transfer', 6761.73, 74);\n",
    "INSERT INTO raven.transactions(897, 'USD', 'Withdrawal', 11327.18, 63);\n",
    "INSERT INTO raven.transactions(898, 'USD', 'Transfer', 17884.15, 98);\n",
    "INSERT INTO raven.transactions(899, 'USD', 'Deposit', 928.4, 81);\n",
    "INSERT INTO raven.transactions(900, 'USD', 'Payment', 335.46, 21);\n",
    "INSERT INTO raven.transactions(901, 'USD', 'Payment', 9135.8, 55);\n",
    "INSERT INTO raven.transactions(902, 'USD', 'Withdrawal', 19913.92, 17);\n",
    "INSERT INTO raven.transactions(903, 'USD', 'Transfer', 3187.96, 36);\n",
    "INSERT INTO raven.transactions(904, 'USD', 'Deposit', 13095.21, 33);\n",
    "INSERT INTO raven.transactions(905, 'USD', 'Deposit', 7443.16, 84);\n",
    "INSERT INTO raven.transactions(906, 'USD', 'Withdrawal', 1045.23, 81);\n",
    "INSERT INTO raven.transactions(907, 'USD', 'Transfer', 14522.51, 97);\n",
    "INSERT INTO raven.transactions(908, 'USD', 'Withdrawal', 8590.33, 12);\n",
    "INSERT INTO raven.transactions(909, 'USD', 'Deposit', 31.72, 62);\n",
    "INSERT INTO raven.transactions(910, 'USD', 'Deposit', 2662.67, 29);\n",
    "INSERT INTO raven.transactions(911, 'USD', 'Payment', 195.65, 90);\n",
    "INSERT INTO raven.transactions(912, 'USD', 'Transfer', 16344.01, 55);\n",
    "INSERT INTO raven.transactions(913, 'USD', 'Withdrawal', 9559.23, 30);\n",
    "INSERT INTO raven.transactions(914, 'USD', 'Payment', 1795.73, 14);\n",
    "INSERT INTO raven.transactions(915, 'USD', 'Deposit', 6273.9, 39);\n",
    "INSERT INTO raven.transactions(916, 'USD', 'Withdrawal', 7660.59, 97);\n",
    "INSERT INTO raven.transactions(917, 'USD', 'Withdrawal', 12835.11, 87);\n",
    "INSERT INTO raven.transactions(918, 'USD', 'Withdrawal', 1377.55, 73);\n",
    "INSERT INTO raven.transactions(919, 'USD', 'Deposit', 12210.28, 22);\n",
    "INSERT INTO raven.transactions(920, 'USD', 'Payment', 7030.24, 28);\n",
    "INSERT INTO raven.transactions(921, 'USD', 'Withdrawal', 18398.68, 79);\n",
    "INSERT INTO raven.transactions(922, 'USD', 'Payment', 17200.65, 12);\n",
    "INSERT INTO raven.transactions(923, 'USD', 'Deposit', 2808.86, 16);\n",
    "INSERT INTO raven.transactions(924, 'USD', 'Payment', 7037.2, 55);\n",
    "INSERT INTO raven.transactions(925, 'USD', 'Transfer', 15823.62, 32);\n",
    "INSERT INTO raven.transactions(926, 'USD', 'Transfer', 12895.97, 32);\n",
    "INSERT INTO raven.transactions(927, 'USD', 'Transfer', 15581.6, 89);\n",
    "INSERT INTO raven.transactions(928, 'USD', 'Deposit', 16959.36, 85);\n",
    "INSERT INTO raven.transactions(929, 'USD', 'Transfer', 4116.86, 78);\n",
    "INSERT INTO raven.transactions(930, 'USD', 'Withdrawal', 14959.39, 38);\n",
    "INSERT INTO raven.transactions(931, 'USD', 'Deposit', 15678.19, 31);\n",
    "INSERT INTO raven.transactions(932, 'USD', 'Payment', 7723.85, 31);\n",
    "INSERT INTO raven.transactions(933, 'USD', 'Payment', 12765.27, 10);\n",
    "INSERT INTO raven.transactions(934, 'USD', 'Deposit', 19737.78, 41);\n",
    "INSERT INTO raven.transactions(935, 'USD', 'Withdrawal', 7742.9, 73);\n",
    "INSERT INTO raven.transactions(936, 'USD', 'Payment', 7314.6, 88);\n",
    "INSERT INTO raven.transactions(937, 'USD', 'Withdrawal', 15256.89, 99);\n",
    "INSERT INTO raven.transactions(938, 'USD', 'Deposit', 343.62, 9);\n",
    "INSERT INTO raven.transactions(939, 'USD', 'Deposit', 5251.08, 6);\n",
    "INSERT INTO raven.transactions(940, 'USD', 'Deposit', 18974.11, 51);\n",
    "INSERT INTO raven.transactions(941, 'USD', 'Transfer', 12575.13, 65);\n",
    "INSERT INTO raven.transactions(942, 'USD', 'Payment', 8477.27, 52);\n",
    "INSERT INTO raven.transactions(943, 'USD', 'Deposit', 12814.34, 69);\n",
    "INSERT INTO raven.transactions(944, 'USD', 'Withdrawal', 5556.58, 40);\n",
    "INSERT INTO raven.transactions(945, 'USD', 'Deposit', 10230.98, 27);\n",
    "INSERT INTO raven.transactions(946, 'USD', 'Withdrawal', 10732.44, 51);\n",
    "INSERT INTO raven.transactions(947, 'USD', 'Deposit', 6210.29, 56);\n",
    "INSERT INTO raven.transactions(948, 'USD', 'Withdrawal', 1167.54, 12);\n",
    "INSERT INTO raven.transactions(949, 'USD', 'Payment', 2328.57, 79);\n",
    "INSERT INTO raven.transactions(950, 'USD', 'Deposit', 6192.71, 95);\n",
    "INSERT INTO raven.transactions(951, 'USD', 'Withdrawal', 2397.67, 91);\n",
    "INSERT INTO raven.transactions(952, 'USD', 'Withdrawal', 14032.98, 21);\n",
    "INSERT INTO raven.transactions(953, 'USD', 'Payment', 19060.79, 67);\n",
    "INSERT INTO raven.transactions(954, 'USD', 'Transfer', 3347.59, 17);\n",
    "INSERT INTO raven.transactions(955, 'USD', 'Transfer', 14661.39, 16);\n",
    "INSERT INTO raven.transactions(956, 'USD', 'Deposit', 6706.87, 55);\n",
    "INSERT INTO raven.transactions(957, 'USD', 'Transfer', 10481.85, 34);\n",
    "INSERT INTO raven.transactions(958, 'USD', 'Deposit', 9927.99, 66);\n",
    "INSERT INTO raven.transactions(959, 'USD', 'Transfer', 1118.23, 73);\n",
    "INSERT INTO raven.transactions(960, 'USD', 'Withdrawal', 7360.08, 33);\n",
    "INSERT INTO raven.transactions(961, 'USD', 'Deposit', 17886.43, 87);\n",
    "INSERT INTO raven.transactions(962, 'USD', 'Deposit', 4575.8, 66);\n",
    "INSERT INTO raven.transactions(963, 'USD', 'Deposit', 890.32, 2);\n",
    "INSERT INTO raven.transactions(964, 'USD', 'Withdrawal', 929.17, 47);\n",
    "INSERT INTO raven.transactions(965, 'USD', 'Payment', 18405.33, 23);\n",
    "INSERT INTO raven.transactions(966, 'USD', 'Deposit', 11061.77, 92);\n",
    "INSERT INTO raven.transactions(967, 'USD', 'Payment', 4498.06, 32);\n",
    "INSERT INTO raven.transactions(968, 'USD', 'Payment', 18317.94, 41);\n",
    "INSERT INTO raven.transactions(969, 'USD', 'Transfer', 16521.68, 74);\n",
    "INSERT INTO raven.transactions(970, 'USD', 'Transfer', 2396.82, 87);\n",
    "INSERT INTO raven.transactions(971, 'USD', 'Deposit', 3595.09, 67);\n",
    "INSERT INTO raven.transactions(972, 'USD', 'Deposit', 19082.05, 9);\n",
    "INSERT INTO raven.transactions(973, 'USD', 'Payment', 17321.98, 100);\n",
    "INSERT INTO raven.transactions(974, 'USD', 'Transfer', 6552.75, 71);\n",
    "INSERT INTO raven.transactions(975, 'USD', 'Payment', 169.3, 26);\n",
    "INSERT INTO raven.transactions(976, 'USD', 'Transfer', 11280.5, 39);\n",
    "INSERT INTO raven.transactions(977, 'USD', 'Withdrawal', 9283.89, 76);\n",
    "INSERT INTO raven.transactions(978, 'USD', 'Payment', 19955.76, 100);\n",
    "INSERT INTO raven.transactions(979, 'USD', 'Withdrawal', 14651.94, 70);\n",
    "INSERT INTO raven.transactions(980, 'USD', 'Withdrawal', 3019.82, 53);\n",
    "INSERT INTO raven.transactions(981, 'USD', 'Deposit', 4667.62, 45);\n",
    "INSERT INTO raven.transactions(982, 'USD', 'Deposit', 19020.3, 1);\n",
    "INSERT INTO raven.transactions(983, 'USD', 'Payment', 16981.63, 94);\n",
    "INSERT INTO raven.transactions(984, 'USD', 'Transfer', 2087.94, 68);\n",
    "INSERT INTO raven.transactions(985, 'USD', 'Withdrawal', 8402.12, 8);\n",
    "INSERT INTO raven.transactions(986, 'USD', 'Withdrawal', 14235.93, 12);\n",
    "INSERT INTO raven.transactions(987, 'USD', 'Deposit', 18426.28, 67);\n",
    "INSERT INTO raven.transactions(988, 'USD', 'Payment', 14019.93, 48);\n",
    "INSERT INTO raven.transactions(989, 'USD', 'Payment', 19491.35, 11);\n",
    "INSERT INTO raven.transactions(990, 'USD', 'Deposit', 10113.5, 82);\n",
    "INSERT INTO raven.transactions(991, 'USD', 'Payment', 1505.86, 73);\n",
    "INSERT INTO raven.transactions(992, 'USD', 'Deposit', 8705.31, 17);\n",
    "INSERT INTO raven.transactions(993, 'USD', 'Withdrawal', 5840.6, 41);\n",
    "INSERT INTO raven.transactions(994, 'USD', 'Payment', 14017.5, 95);\n",
    "INSERT INTO raven.transactions(995, 'USD', 'Transfer', 6367.97, 35);\n",
    "INSERT INTO raven.transactions(996, 'USD', 'Withdrawal', 1503.0, 26);\n",
    "INSERT INTO raven.transactions(997, 'USD', 'Withdrawal', 15600.94, 75);\n",
    "INSERT INTO raven.transactions(998, 'USD', 'Deposit', 3116.66, 22);\n",
    "INSERT INTO raven.transactions(999, 'USD', 'Payment', 9326.44, 53);\n",
    "INSERT INTO raven.transactions(1000, 'USD', 'Deposit', 10723.13, 99);\n"
   ]
  },
  {
   "cell_type": "code",
   "execution_count": 11,
   "id": "1168546d-460c-45c7-af01-370677b6603b",
   "metadata": {},
   "outputs": [
    {
     "data": {
      "application/vnd.teradata.resultset": "\"branch_id\",\"branch_name\",\"governorate\",\"branch_address\",\"latitude\",\"longitude\"\n\"43\",\"Citi Bank Melissafort\",\"New Mexico\",\"26465 Richard Cliff, Lake Karen, NE 33274\",\"30.263698\",\"-101.435370\"\n\"13\",\"Citi Bank South Johnberg\",\"Connecticut\",\"9455 Jackson Heights, Richardborough, AL 71328\",\"33.078269\",\"-68.524429\"\n\"40\",\"Citi Bank Sherrichester\",\"Connecticut\",\"49403 Jones Forks, Ginaport, ME 08000\",\"30.919060\",\"-109.372070\"\n\"53\",\"Citi Bank West Stefanieview\",\"Tennessee\",\"7802 Paula Overpass, New Jennifer, KS 91336\",\"40.383083\",\"-109.257314\"\n\"20\",\"Citi Bank North Ruth\",\"South Dakota\",\"588 Kevin Trace Suite 731, Trevinoberg, NM 48858\",\"38.856451\",\"-74.159293\"\n\"65\",\"Citi Bank Lake Gregorychester\",\"Iowa\",\"Unit 5620 Box 9857, DPO AP 01629\",\"44.959973\",\"-73.155409\"\n\"22\",\"Citi Bank Perezshire\",\"Virginia\",\"0059 James Mews Suite 322, Port Cory, AL 79897\",\"31.945311\",\"-111.554002\"\n\"14\",\"Citi Bank New Karen\",\"Alaska\",\"3602 Ewing Inlet, South Timothyland, SD 51693\",\"27.321193\",\"-119.527995\"\n\"4\",\"Citi Bank West Erikastad\",\"Maryland\",\"76127 Christopher Roads, West Kellytown, MT 71068\",\"27.086532\",\"-72.361406\"\n\"6\",\"Citi Bank Lisamouth\",\"Ohio\",\"PSC 7014, Box 4702, APO AE 51971\",\"37.128527\",\"-112.100359\"",
      "text/html": [
       "<div class = \"td-resultset-table-div\" style = \"max-height: 100%; overflow-y: auto\">\n",
       "      <table class=\"tdhistory292967\"><style>\n",
       "      table.tdhistory292967 { display: block !important; min-height: 294px !important; overflow: auto !important; height: 294px !important; width: 100% !important; border: 1px solid rgb(207, 207, 207) !important; border-collapse: collapse !important; ; color: var(--jp-ui-font-color1) !important; }\n",
       "      th.tdhistory292967 { border: 1px solid rgb(198,198,198) !important; border-collapse: collapse !important; ; padding: 2px 5px !important; ; font-size: 13px !important; ; text-align: center !important; white-space: normal !important; color: var(--jp-ui-font-color1) !important; }\n",
       "      th.tdhistory292967:last-child { text-align: left !important; }\n",
       "      tbody.tdhistory292967 tr:nth-child(even) { background: rgba(243, 243, 243, 0.75) !important; }\n",
       "      tbody.tdhistory292967 tr:nth-child(odd) { background: var(--jp-ui-inverse-font-color1) !important; }\n",
       "      td.tdhistory292967 { border: 1px solid rgb(207, 207, 207) !important; border-collapse: collapse !important; ; padding: 2px 5px !important; ; font-size: 13px !important; ; text-align: left !important;          white-space: nowrap !important; overflow:hidden !important; text-overflow:ellipsis !important;; }\n",
       "    </style><thead><tr style= \"background: rgba(243, 243, 243, 0.75)\"><th class=\"tdhistory292967\"></th><th class=\"tdhistory292967\">branch_id</th><th class=\"tdhistory292967\">branch_name</th><th class=\"tdhistory292967\">governorate</th><th class=\"tdhistory292967\">branch_address</th><th class=\"tdhistory292967\">latitude</th><th class=\"tdhistory292967\">longitude</th></tr></thead><tbody class=\"tdhistory292967 resultset-body\"><tr><th class=\"tdhistory292967\" style= \"background: rgba(243, 243, 243, 0.75)\">1</th><td class=\"tdhistory292967\">43</td><td class=\"tdhistory292967\">Citi Bank Melissafort</td><td class=\"tdhistory292967\">New Mexico</td><td class=\"tdhistory292967\">26465 Richard Cliff, Lake Karen, NE 33274</td><td class=\"tdhistory292967\">30.263698</td><td class=\"tdhistory292967\">-101.435370</td></tr><tr><th class=\"tdhistory292967\" style= \"background: rgba(243, 243, 243, 0.75)\">2</th><td class=\"tdhistory292967\">13</td><td class=\"tdhistory292967\">Citi Bank South Johnberg</td><td class=\"tdhistory292967\">Connecticut</td><td class=\"tdhistory292967\">9455 Jackson Heights, Richardborough, AL 71328</td><td class=\"tdhistory292967\">33.078269</td><td class=\"tdhistory292967\">-68.524429</td></tr><tr><th class=\"tdhistory292967\" style= \"background: rgba(243, 243, 243, 0.75)\">3</th><td class=\"tdhistory292967\">40</td><td class=\"tdhistory292967\">Citi Bank Sherrichester</td><td class=\"tdhistory292967\">Connecticut</td><td class=\"tdhistory292967\">49403 Jones Forks, Ginaport, ME 08000</td><td class=\"tdhistory292967\">30.919060</td><td class=\"tdhistory292967\">-109.372070</td></tr><tr><th class=\"tdhistory292967\" style= \"background: rgba(243, 243, 243, 0.75)\">4</th><td class=\"tdhistory292967\">53</td><td class=\"tdhistory292967\">Citi Bank West Stefanieview</td><td class=\"tdhistory292967\">Tennessee</td><td class=\"tdhistory292967\">7802 Paula Overpass, New Jennifer, KS 91336</td><td class=\"tdhistory292967\">40.383083</td><td class=\"tdhistory292967\">-109.257314</td></tr><tr><th class=\"tdhistory292967\" style= \"background: rgba(243, 243, 243, 0.75)\">5</th><td class=\"tdhistory292967\">20</td><td class=\"tdhistory292967\">Citi Bank North Ruth</td><td class=\"tdhistory292967\">South Dakota</td><td class=\"tdhistory292967\">588 Kevin Trace Suite 731, Trevinoberg, NM 48858</td><td class=\"tdhistory292967\">38.856451</td><td class=\"tdhistory292967\">-74.159293</td></tr><tr><th class=\"tdhistory292967\" style= \"background: rgba(243, 243, 243, 0.75)\">6</th><td class=\"tdhistory292967\">65</td><td class=\"tdhistory292967\">Citi Bank Lake Gregorychester</td><td class=\"tdhistory292967\">Iowa</td><td class=\"tdhistory292967\">Unit 5620 Box 9857, DPO AP 01629</td><td class=\"tdhistory292967\">44.959973</td><td class=\"tdhistory292967\">-73.155409</td></tr><tr><th class=\"tdhistory292967\" style= \"background: rgba(243, 243, 243, 0.75)\">7</th><td class=\"tdhistory292967\">22</td><td class=\"tdhistory292967\">Citi Bank Perezshire</td><td class=\"tdhistory292967\">Virginia</td><td class=\"tdhistory292967\">0059 James Mews Suite 322, Port Cory, AL 79897</td><td class=\"tdhistory292967\">31.945311</td><td class=\"tdhistory292967\">-111.554002</td></tr><tr><th class=\"tdhistory292967\" style= \"background: rgba(243, 243, 243, 0.75)\">8</th><td class=\"tdhistory292967\">14</td><td class=\"tdhistory292967\">Citi Bank New Karen</td><td class=\"tdhistory292967\">Alaska</td><td class=\"tdhistory292967\">3602 Ewing Inlet, South Timothyland, SD 51693</td><td class=\"tdhistory292967\">27.321193</td><td class=\"tdhistory292967\">-119.527995</td></tr><tr><th class=\"tdhistory292967\" style= \"background: rgba(243, 243, 243, 0.75)\">9</th><td class=\"tdhistory292967\">4</td><td class=\"tdhistory292967\">Citi Bank West Erikastad</td><td class=\"tdhistory292967\">Maryland</td><td class=\"tdhistory292967\">76127 Christopher Roads, West Kellytown, MT 71068</td><td class=\"tdhistory292967\">27.086532</td><td class=\"tdhistory292967\">-72.361406</td></tr><tr><th class=\"tdhistory292967\" style= \"background: rgba(243, 243, 243, 0.75)\">10</th><td class=\"tdhistory292967\">6</td><td class=\"tdhistory292967\">Citi Bank Lisamouth</td><td class=\"tdhistory292967\">Ohio</td><td class=\"tdhistory292967\">PSC 7014, Box 4702, APO AE 51971</td><td class=\"tdhistory292967\">37.128527</td><td class=\"tdhistory292967\">-112.100359</td></tr></tbody></table></div>"
      ]
     },
     "execution_count": 11,
     "metadata": {
      "application/vnd.teradata.resultset": "{\"resultSetID\":\"/home/jovyan/JupyterLabRoot/Teradata/Resultsets/2025.08.04_16.47.24.468_UTC\",\"historyID\":74,\"chunkID\":\"00001\",\"sessionid\":\"\",\"portnum\":\"\",\"dockermode\":\"docker\",\"totalRowCount\":10,\"chunkCount\":0,\"rowLimit\":0,\"columnMetadata\":[{\"columnName\":\"branch_id\",\"columnTypeName\":\"INTEGER\"},{\"columnNumber\":1,\"columnName\":\"branch_name\",\"columnTypeName\":\"VARCHAR\",\"length\":100,\"scale\":100},{\"columnNumber\":2,\"columnName\":\"governorate\",\"columnTypeName\":\"VARCHAR\",\"length\":50,\"scale\":50},{\"columnNumber\":3,\"columnName\":\"branch_address\",\"columnTypeName\":\"VARCHAR\",\"length\":255,\"scale\":255},{\"columnNumber\":4,\"columnName\":\"latitude\",\"columnTypeName\":\"DECIMAL\",\"length\":6,\"precision\":9,\"scale\":6},{\"columnNumber\":5,\"columnName\":\"longitude\",\"columnTypeName\":\"DECIMAL\",\"length\":6,\"precision\":9,\"scale\":6}]}"
     },
     "output_type": "execute_result"
    }
   ],
   "source": [
    "select * from raven.branches SAMPLE 10;"
   ]
  },
  {
   "cell_type": "code",
   "execution_count": 12,
   "id": "661c3dbe-e31a-447e-9f4c-183aa01d40c3",
   "metadata": {},
   "outputs": [
    {
     "data": {
      "application/vnd.teradata.resultset": "\"transaction_id\",\"transaction_currency\",\"transaction_type\",\"transaction_amount\",\"branch_id\"\n\"669\",\"USD   \",\"Deposit\",\"18692.31\",\"9\"\n\"896\",\"USD   \",\"Transfer\",\"6761.73\",\"74\"\n\"62\",\"USD   \",\"Deposit\",\"7710.06\",\"74\"\n\"440\",\"USD   \",\"Withdrawal\",\"16339.66\",\"78\"\n\"994\",\"USD   \",\"Payment\",\"14017.50\",\"95\"\n\"339\",\"USD   \",\"Transfer\",\"8541.01\",\"86\"\n\"330\",\"USD   \",\"Transfer\",\"12169.87\",\"9\"\n\"621\",\"USD   \",\"Payment\",\"13014.27\",\"97\"\n\"736\",\"USD   \",\"Deposit\",\"12360.53\",\"86\"\n\"531\",\"USD   \",\"Withdrawal\",\"15357.95\",\"17\"",
      "text/html": [
       "<div class = \"td-resultset-table-div\" style = \"max-height: 100%; overflow-y: auto\">\n",
       "      <table class=\"tdhistory203415\"><style>\n",
       "      table.tdhistory203415 { display: block !important; min-height: 294px !important; overflow: auto !important; height: 294px !important; width: 100% !important; border: 1px solid rgb(207, 207, 207) !important; border-collapse: collapse !important; ; color: var(--jp-ui-font-color1) !important; }\n",
       "      th.tdhistory203415 { border: 1px solid rgb(198,198,198) !important; border-collapse: collapse !important; ; padding: 2px 5px !important; ; font-size: 13px !important; ; text-align: center !important; white-space: normal !important; color: var(--jp-ui-font-color1) !important; }\n",
       "      th.tdhistory203415:last-child { text-align: left !important; }\n",
       "      tbody.tdhistory203415 tr:nth-child(even) { background: rgba(243, 243, 243, 0.75) !important; }\n",
       "      tbody.tdhistory203415 tr:nth-child(odd) { background: var(--jp-ui-inverse-font-color1) !important; }\n",
       "      td.tdhistory203415 { border: 1px solid rgb(207, 207, 207) !important; border-collapse: collapse !important; ; padding: 2px 5px !important; ; font-size: 13px !important; ; text-align: left !important;          white-space: nowrap !important; overflow:hidden !important; text-overflow:ellipsis !important;; }\n",
       "    </style><thead><tr style= \"background: rgba(243, 243, 243, 0.75)\"><th class=\"tdhistory203415\"></th><th class=\"tdhistory203415\">transaction_id</th><th class=\"tdhistory203415\">transaction_currency</th><th class=\"tdhistory203415\">transaction_type</th><th class=\"tdhistory203415\">transaction_amount</th><th class=\"tdhistory203415\">branch_id</th></tr></thead><tbody class=\"tdhistory203415 resultset-body\"><tr><th class=\"tdhistory203415\" style= \"background: rgba(243, 243, 243, 0.75)\">1</th><td class=\"tdhistory203415\">669</td><td class=\"tdhistory203415\">USD   </td><td class=\"tdhistory203415\">Deposit</td><td class=\"tdhistory203415\">18692.31</td><td class=\"tdhistory203415\">9</td></tr><tr><th class=\"tdhistory203415\" style= \"background: rgba(243, 243, 243, 0.75)\">2</th><td class=\"tdhistory203415\">896</td><td class=\"tdhistory203415\">USD   </td><td class=\"tdhistory203415\">Transfer</td><td class=\"tdhistory203415\">6761.73</td><td class=\"tdhistory203415\">74</td></tr><tr><th class=\"tdhistory203415\" style= \"background: rgba(243, 243, 243, 0.75)\">3</th><td class=\"tdhistory203415\">62</td><td class=\"tdhistory203415\">USD   </td><td class=\"tdhistory203415\">Deposit</td><td class=\"tdhistory203415\">7710.06</td><td class=\"tdhistory203415\">74</td></tr><tr><th class=\"tdhistory203415\" style= \"background: rgba(243, 243, 243, 0.75)\">4</th><td class=\"tdhistory203415\">440</td><td class=\"tdhistory203415\">USD   </td><td class=\"tdhistory203415\">Withdrawal</td><td class=\"tdhistory203415\">16339.66</td><td class=\"tdhistory203415\">78</td></tr><tr><th class=\"tdhistory203415\" style= \"background: rgba(243, 243, 243, 0.75)\">5</th><td class=\"tdhistory203415\">994</td><td class=\"tdhistory203415\">USD   </td><td class=\"tdhistory203415\">Payment</td><td class=\"tdhistory203415\">14017.50</td><td class=\"tdhistory203415\">95</td></tr><tr><th class=\"tdhistory203415\" style= \"background: rgba(243, 243, 243, 0.75)\">6</th><td class=\"tdhistory203415\">339</td><td class=\"tdhistory203415\">USD   </td><td class=\"tdhistory203415\">Transfer</td><td class=\"tdhistory203415\">8541.01</td><td class=\"tdhistory203415\">86</td></tr><tr><th class=\"tdhistory203415\" style= \"background: rgba(243, 243, 243, 0.75)\">7</th><td class=\"tdhistory203415\">330</td><td class=\"tdhistory203415\">USD   </td><td class=\"tdhistory203415\">Transfer</td><td class=\"tdhistory203415\">12169.87</td><td class=\"tdhistory203415\">9</td></tr><tr><th class=\"tdhistory203415\" style= \"background: rgba(243, 243, 243, 0.75)\">8</th><td class=\"tdhistory203415\">621</td><td class=\"tdhistory203415\">USD   </td><td class=\"tdhistory203415\">Payment</td><td class=\"tdhistory203415\">13014.27</td><td class=\"tdhistory203415\">97</td></tr><tr><th class=\"tdhistory203415\" style= \"background: rgba(243, 243, 243, 0.75)\">9</th><td class=\"tdhistory203415\">736</td><td class=\"tdhistory203415\">USD   </td><td class=\"tdhistory203415\">Deposit</td><td class=\"tdhistory203415\">12360.53</td><td class=\"tdhistory203415\">86</td></tr><tr><th class=\"tdhistory203415\" style= \"background: rgba(243, 243, 243, 0.75)\">10</th><td class=\"tdhistory203415\">531</td><td class=\"tdhistory203415\">USD   </td><td class=\"tdhistory203415\">Withdrawal</td><td class=\"tdhistory203415\">15357.95</td><td class=\"tdhistory203415\">17</td></tr></tbody></table></div>"
      ]
     },
     "execution_count": 12,
     "metadata": {
      "application/vnd.teradata.resultset": "{\"resultSetID\":\"/home/jovyan/JupyterLabRoot/Teradata/Resultsets/2025.08.04_16.47.41.932_UTC\",\"historyID\":75,\"chunkID\":\"00001\",\"sessionid\":\"\",\"portnum\":\"\",\"dockermode\":\"docker\",\"totalRowCount\":10,\"chunkCount\":0,\"rowLimit\":0,\"columnMetadata\":[{\"columnName\":\"transaction_id\",\"columnTypeName\":\"INTEGER\"},{\"columnNumber\":1,\"columnName\":\"transaction_currency\",\"columnTypeName\":\"CHAR\",\"length\":3,\"scale\":3},{\"columnNumber\":2,\"columnName\":\"transaction_type\",\"columnTypeName\":\"VARCHAR\",\"length\":50,\"scale\":50},{\"columnNumber\":3,\"columnName\":\"transaction_amount\",\"columnTypeName\":\"DECIMAL\",\"length\":2,\"precision\":18,\"scale\":2},{\"columnNumber\":4,\"columnName\":\"branch_id\",\"columnTypeName\":\"INTEGER\"}]}"
     },
     "output_type": "execute_result"
    }
   ],
   "source": [
    "select * from raven.transactions SAMPLE 10;"
   ]
  },
  {
   "cell_type": "code",
   "execution_count": null,
   "id": "92d8dbfb-1e23-43d3-8854-d8499d9fc212",
   "metadata": {},
   "outputs": [],
   "source": []
  }
 ],
 "metadata": {
  "kernelspec": {
   "display_name": "Teradata SQL",
   "language": "Teradata SQL",
   "name": "teradatasql"
  },
  "language_info": {
   "codemirror_mode": "Teradata SQL",
   "file_extension": ".tdrs",
   "mimetype": "application/vnd.teradata.resultset",
   "name": "Teradata SQL",
   "nbconvert_exporter": "",
   "pygments_lexer": "",
   "version": "16.20"
  },
  "widgets": {
   "application/vnd.jupyter.widget-state+json": {
    "state": {},
    "version_major": 2,
    "version_minor": 0
   }
  }
 },
 "nbformat": 4,
 "nbformat_minor": 5
}
